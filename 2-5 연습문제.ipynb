{
 "cells": [
  {
   "cell_type": "markdown",
   "id": "333f2504",
   "metadata": {},
   "source": [
    "연습문제\n",
    "\n",
    "편의점에서 물건을 샀다. 이때 지폐를 지불했을 때 잔돈 계수 프로그램을 구현하시오.\n",
    "\n",
    "(입력 : 물건값, 지불금액 => 최대금액 10,000원)\n",
    "\n",
    "\n",
    "예) 물건 값: 5,430 지불금액: 10,000원\n",
    "\n",
    "결과:\n",
    "\n",
    "5,000원 0개\n",
    "\n",
    "1,000원 4개\n",
    "\n",
    "500원 1개\n",
    "\n",
    "100원 0개\n",
    "\n",
    "50원 1개\n",
    "\n",
    "10원 2개\n",
    "\n",
    "﻿"
   ]
  },
  {
   "cell_type": "code",
   "execution_count": 7,
   "id": "756ef924",
   "metadata": {},
   "outputs": [
    {
     "name": "stdout",
     "output_type": "stream",
     "text": [
      "물건값, 지불금액 입력:5430 10000\n",
      "5000원 0개\n",
      "1000원 4개\n",
      "500원 1개\n",
      "100원 0개\n",
      "50원 1개\n",
      "10원 2개\n"
     ]
    }
   ],
   "source": [
    "price , money = map(int, input(\"물건값, 지불금액 입력:\").split());\n",
    "change = money-price\n",
    "# print(money, price, change)\n",
    "\n",
    "print(\"5000원 %d개\" %(change//5000));\n",
    "change %= 5000\n",
    "print(\"1000원 %d개\" %(change//1000));\n",
    "change %= 1000\n",
    "print(\"500원 %d개\" %(change//500));\n",
    "change %= 500\n",
    "print(\"100원 %d개\" %(change//100));\n",
    "change %= 100\n",
    "print(\"50원 %d개\" %(change//50));\n",
    "change %= 50\n",
    "print(\"10원 %d개\" %(change//10));"
   ]
  },
  {
   "cell_type": "markdown",
   "id": "76f520c3",
   "metadata": {},
   "source": [
    "연습문제\n",
    "2. 한 학생의 국어, 영어, 수학 점수를 입력받아 총점과 평균을 구하는 프로그램을 구현하시오\n",
    "(점수는 한번의 input으로 입력받는다.)"
   ]
  },
  {
   "cell_type": "code",
   "execution_count": 11,
   "id": "afef2149",
   "metadata": {},
   "outputs": [
    {
     "name": "stdout",
     "output_type": "stream",
     "text": [
      "국어, 영어, 수학 점수 입력:75 88 92\n",
      "국어=75, 영어=88, 수학=92, 총점=255, 평균=85.00\n"
     ]
    }
   ],
   "source": [
    "kor, eng, math = map(int, input(\"국어, 영어, 수학 점수 입력:\").split());\n",
    "total = kor + eng + math\n",
    "aver = total / 3\n",
    "print(\"국어=%d, 영어=%d, 수학=%d, 총점=%d, 평균=%5.2f\" %(kor, eng, math, total, aver))\n"
   ]
  },
  {
   "cell_type": "markdown",
   "id": "c906c383",
   "metadata": {},
   "source": [
    "\n",
    "3. 표준 입력으로 년, 월, 일, 시, 분, 초가 입력된다.\n",
    "\n",
    "다음 소스코드를 완성하여 입력된 날짜와 시간을 년-월-일T시:분:초 형식으로 출력되게 구현하시오."
   ]
  },
  {
   "cell_type": "code",
   "execution_count": 19,
   "id": "b3228b7a",
   "metadata": {},
   "outputs": [
    {
     "name": "stdout",
     "output_type": "stream",
     "text": [
      "년, 월, 일, 시, 분, 초 입력: 2023 01 02 20 05 22\n",
      "2023-01-02T20:05:22\n"
     ]
    }
   ],
   "source": [
    "year, month, day, hour, minute, second = input(\"년, 월, 일, 시, 분, 초 입력: \").split()\n",
    "print(year, month, day,sep=\"-\", end=\"T\");\n",
    "print(hour, minute, second,sep=\":\");"
   ]
  },
  {
   "cell_type": "code",
   "execution_count": 5,
   "id": "a8c0e15f",
   "metadata": {},
   "outputs": [
    {
     "name": "stdout",
     "output_type": "stream",
     "text": [
      "년, 월, 일, 시, 분, 초 입력: 2023 1 2 8 17 3\n",
      "2023-01-02T08:17:03\n"
     ]
    }
   ],
   "source": [
    "year, month, day, hour, minute, second = map(int, input(\"년, 월, 일, 시, 분, 초 입력: \").split())\n",
    "print(\"%04d-%02d-%02d\" %(year, month, day), end=\"T\")\n",
    "print(\"%02d:%02d:%02d\" %(hour, minute, second))"
   ]
  },
  {
   "cell_type": "code",
   "execution_count": null,
   "id": "2abf29be",
   "metadata": {},
   "outputs": [],
   "source": []
  }
 ],
 "metadata": {
  "kernelspec": {
   "display_name": "Python 3 (ipykernel)",
   "language": "python",
   "name": "python3"
  },
  "language_info": {
   "codemirror_mode": {
    "name": "ipython",
    "version": 3
   },
   "file_extension": ".py",
   "mimetype": "text/x-python",
   "name": "python",
   "nbconvert_exporter": "python",
   "pygments_lexer": "ipython3",
   "version": "3.9.13"
  }
 },
 "nbformat": 4,
 "nbformat_minor": 5
}
