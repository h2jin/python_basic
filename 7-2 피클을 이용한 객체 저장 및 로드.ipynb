{
 "cells": [
  {
   "cell_type": "markdown",
   "id": "b7ecb07f",
   "metadata": {},
   "source": [
    "﻿\n",
    "피클이란?\n",
    "\n",
    "\n",
    "피클(Pickle)의 특징\n",
    "\n",
    "1. 원하는 데이터를 자료형의 변경 없이 파일로 저장하여 로드가 가능하다\n",
    "\n",
    "2. pickle로 데이터를 저장하거나 불러올 때는 파일을 Byte 형식으로 읽거나 쓴다.(wb, rb)\n",
    "\n",
    "3. 모든 파이썬 데이터 객체를 저장하고 읽기가 가능하다\n",
    "\n",
    "﻿"
   ]
  },
  {
   "cell_type": "markdown",
   "id": "7af64a5e",
   "metadata": {},
   "source": [
    "파이썬 객체를 파일에 저장 로드\n",
    "\n",
    "파이썬 객체를 파일에 저장하기"
   ]
  },
  {
   "cell_type": "code",
   "execution_count": 3,
   "id": "ec59cdbc",
   "metadata": {},
   "outputs": [],
   "source": [
    "import pickle\n",
    "\n",
    "l1 = [1, 2, 3, 4, 5]\n",
    "\n",
    "with open('dump.pickle', 'wb') as file: #반드시 write 바이너리 모드로 열어야 한다.\n",
    "    pickle.dump(l1, file)"
   ]
  },
  {
   "cell_type": "markdown",
   "id": "e81c4a83",
   "metadata": {},
   "source": [
    "파일에서 파이썬 객체 로드하기"
   ]
  },
  {
   "cell_type": "code",
   "execution_count": 6,
   "id": "67d4d98c",
   "metadata": {},
   "outputs": [
    {
     "name": "stdout",
     "output_type": "stream",
     "text": [
      "None\n",
      "[1, 2, 3, 4, 5]\n"
     ]
    }
   ],
   "source": [
    "l1 = None \n",
    "print(l1) \n",
    "\n",
    "with open('dump.pickle', 'rb') as file:\n",
    "    l1 = pickle.load(file)\n",
    "    print(l1)"
   ]
  },
  {
   "cell_type": "markdown",
   "id": "934a1c50",
   "metadata": {},
   "source": [
    "파이썬 객체를 파일에 저장하기"
   ]
  },
  {
   "cell_type": "code",
   "execution_count": 7,
   "id": "f0e89cc5",
   "metadata": {},
   "outputs": [],
   "source": [
    "import pickle\n",
    "\n",
    "data = {\n",
    "    'a' : [1, 2.0, 3, 4+6j],\n",
    "    'b' : (\"character string\", b\"byte string\"),\n",
    "    'c' : {None, True, False}\n",
    "}\n",
    "\n",
    "with open('data.pickle', 'wb') as f:\n",
    "    pickle.dump(data, f)"
   ]
  },
  {
   "cell_type": "markdown",
   "id": "c790959c",
   "metadata": {},
   "source": [
    "파이썬에서 객체 로드하기"
   ]
  },
  {
   "cell_type": "code",
   "execution_count": 8,
   "id": "91d87754",
   "metadata": {},
   "outputs": [
    {
     "name": "stdout",
     "output_type": "stream",
     "text": [
      "{'a': [1, 2.0, 3, (4+6j)], 'b': ('character string', b'byte string'), 'c': {False, True, None}}\n"
     ]
    }
   ],
   "source": [
    "with open('data.pickle', 'rb') as f:\n",
    "    data = pickle.load(f)\n",
    "    print(data)"
   ]
  },
  {
   "cell_type": "code",
   "execution_count": null,
   "id": "0f022934",
   "metadata": {},
   "outputs": [],
   "source": []
  }
 ],
 "metadata": {
  "kernelspec": {
   "display_name": "Python 3 (ipykernel)",
   "language": "python",
   "name": "python3"
  },
  "language_info": {
   "codemirror_mode": {
    "name": "ipython",
    "version": 3
   },
   "file_extension": ".py",
   "mimetype": "text/x-python",
   "name": "python",
   "nbconvert_exporter": "python",
   "pygments_lexer": "ipython3",
   "version": "3.9.13"
  }
 },
 "nbformat": 4,
 "nbformat_minor": 5
}
