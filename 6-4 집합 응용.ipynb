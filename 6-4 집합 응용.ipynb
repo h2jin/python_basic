{
 "cells": [
  {
   "cell_type": "markdown",
   "id": "1802d452",
   "metadata": {},
   "source": [
    "﻿\n",
    "집합\n",
    "\n",
    "- 값을 순서없이 저장, 중복 불허하는 자료형\n",
    "\n",
    "- set 객체 선언을 이용하여 객체 생성\n",
    "\n",
    "﻿"
   ]
  },
  {
   "cell_type": "code",
   "execution_count": 1,
   "id": "5e608ed0",
   "metadata": {},
   "outputs": [
    {
     "name": "stdout",
     "output_type": "stream",
     "text": [
      "{1, 2, 3}\n"
     ]
    }
   ],
   "source": [
    "s = set([1, 2, 3, 1, 2, 3])\n",
    "print(s)"
   ]
  },
  {
   "cell_type": "code",
   "execution_count": 2,
   "id": "45e2122c",
   "metadata": {},
   "outputs": [
    {
     "data": {
      "text/plain": [
       "{1, 2, 3}"
      ]
     },
     "execution_count": 2,
     "metadata": {},
     "output_type": "execute_result"
    }
   ],
   "source": [
    "s.add(1)\n",
    "s"
   ]
  },
  {
   "cell_type": "code",
   "execution_count": 3,
   "id": "cf9c61fe",
   "metadata": {},
   "outputs": [
    {
     "name": "stdout",
     "output_type": "stream",
     "text": [
      "{2, 3}\n"
     ]
    }
   ],
   "source": [
    "s.remove(1) # 전달 받은 값을 삭제 (없는 경우 error 메세지 출력)\n",
    "print(s)"
   ]
  },
  {
   "cell_type": "code",
   "execution_count": 5,
   "id": "63af7fdb",
   "metadata": {},
   "outputs": [
    {
     "name": "stdout",
     "output_type": "stream",
     "text": [
      "{1, 2, 3, 4, 5, 6, 7}\n"
     ]
    }
   ],
   "source": [
    "s.update([1, 4, 5, 6, 7])\n",
    "print(s)\n",
    "# 기존의 값과 중복이 되지 않는 값들을 추가"
   ]
  },
  {
   "cell_type": "code",
   "execution_count": 6,
   "id": "3a2ae221",
   "metadata": {},
   "outputs": [
    {
     "name": "stdout",
     "output_type": "stream",
     "text": [
      "{1, 2, 4, 5, 6, 7}\n"
     ]
    }
   ],
   "source": [
    "s.discard(3) # 전달 받은 값을 삭제 (없는 경우 그냥 무시)\n",
    "print(s)"
   ]
  },
  {
   "cell_type": "code",
   "execution_count": 7,
   "id": "245cabb4",
   "metadata": {},
   "outputs": [
    {
     "name": "stdout",
     "output_type": "stream",
     "text": [
      "set()\n"
     ]
    }
   ],
   "source": [
    "s.clear()\n",
    "print(s)"
   ]
  },
  {
   "cell_type": "markdown",
   "id": "5aaf9485",
   "metadata": {},
   "source": [
    "집합의 연산"
   ]
  },
  {
   "cell_type": "markdown",
   "id": "bd282a0a",
   "metadata": {},
   "source": [
    "수학에서 활용하는 다양한 집합연산 가능"
   ]
  },
  {
   "cell_type": "code",
   "execution_count": 8,
   "id": "faa3a837",
   "metadata": {},
   "outputs": [],
   "source": [
    "s1 = set([1, 2, 3, 4, 5])\n",
    "s2 = set([3, 4, 5, 6, 7])"
   ]
  },
  {
   "cell_type": "code",
   "execution_count": 9,
   "id": "ab5aa40c",
   "metadata": {},
   "outputs": [
    {
     "name": "stdout",
     "output_type": "stream",
     "text": [
      "{1, 2, 3, 4, 5, 6, 7}\n",
      "{1, 2, 3, 4, 5, 6, 7}\n"
     ]
    }
   ],
   "source": [
    "print(s1.union(s2)) # 합집합\n",
    "print(s1 | s2)"
   ]
  },
  {
   "cell_type": "code",
   "execution_count": 10,
   "id": "bdb4fe66",
   "metadata": {},
   "outputs": [
    {
     "name": "stdout",
     "output_type": "stream",
     "text": [
      "{3, 4, 5}\n",
      "{3, 4, 5}\n"
     ]
    }
   ],
   "source": [
    "print(s1.intersection(s2)) # 교집합\n",
    "print(s1 & s2)"
   ]
  },
  {
   "cell_type": "code",
   "execution_count": 11,
   "id": "96ccb433",
   "metadata": {},
   "outputs": [
    {
     "name": "stdout",
     "output_type": "stream",
     "text": [
      "{1, 2}\n",
      "{1, 2}\n"
     ]
    }
   ],
   "source": [
    "print(s1.difference(s2)) # 차집합\n",
    "print(s1 - s2)"
   ]
  },
  {
   "cell_type": "code",
   "execution_count": 12,
   "id": "26cf637d",
   "metadata": {},
   "outputs": [
    {
     "name": "stdout",
     "output_type": "stream",
     "text": [
      "{1, 2, 6, 7}\n",
      "{1, 2, 6, 7}\n"
     ]
    }
   ],
   "source": [
    "print(s1.symmetric_difference(s2)) # 합집합 - 교집합\n",
    "print(s1 ^ s2)"
   ]
  },
  {
   "cell_type": "markdown",
   "id": "08fa86c0",
   "metadata": {},
   "source": [
    "집합의 표현식"
   ]
  },
  {
   "cell_type": "markdown",
   "id": "1e81b403",
   "metadata": {},
   "source": [
    "{식 for 변수 in 세트 if 조건식}\n",
    "\n",
    "set(식 for 변수 in 세트 if 조건식)\n"
   ]
  },
  {
   "cell_type": "code",
   "execution_count": 25,
   "id": "0558d6ff",
   "metadata": {},
   "outputs": [
    {
     "data": {
      "text/plain": [
       "{'a', 'e', 'l', 'p'}"
      ]
     },
     "execution_count": 25,
     "metadata": {},
     "output_type": "execute_result"
    }
   ],
   "source": [
    "a = {i for i in 'apple'}\n",
    "a"
   ]
  },
  {
   "cell_type": "code",
   "execution_count": 26,
   "id": "d47e0ce2",
   "metadata": {},
   "outputs": [
    {
     "data": {
      "text/plain": [
       "{'a', 'e', 'l', 'p'}"
      ]
     },
     "execution_count": 26,
     "metadata": {},
     "output_type": "execute_result"
    }
   ],
   "source": [
    "set(i for i in 'apple')"
   ]
  },
  {
   "cell_type": "code",
   "execution_count": 27,
   "id": "e226a3b5",
   "metadata": {},
   "outputs": [
    {
     "data": {
      "text/plain": [
       "{'e', 'i', 'n'}"
      ]
     },
     "execution_count": 27,
     "metadata": {},
     "output_type": "execute_result"
    }
   ],
   "source": [
    "a = {i for i in 'pineapple' if i not in 'apl'}\n",
    "a"
   ]
  },
  {
   "cell_type": "code",
   "execution_count": 28,
   "id": "37cd4124",
   "metadata": {},
   "outputs": [
    {
     "data": {
      "text/plain": [
       "{'e', 'i', 'n'}"
      ]
     },
     "execution_count": 28,
     "metadata": {},
     "output_type": "execute_result"
    }
   ],
   "source": [
    "set(i for i in 'pineapple' if i not in 'apl')"
   ]
  },
  {
   "cell_type": "code",
   "execution_count": 24,
   "id": "e761aaa6",
   "metadata": {},
   "outputs": [
    {
     "data": {
      "text/plain": [
       "{'e', 'i', 'n'}"
      ]
     },
     "execution_count": 24,
     "metadata": {},
     "output_type": "execute_result"
    }
   ],
   "source": [
    "temp = set()\n",
    "for i in 'pineapple':\n",
    "    if i not in 'apl':\n",
    "        temp.add(i)\n",
    "        \n",
    "temp        "
   ]
  },
  {
   "cell_type": "markdown",
   "id": "ae6c53a5",
   "metadata": {},
   "source": [
    "문장에서 중첩된 단어 없애기"
   ]
  },
  {
   "cell_type": "code",
   "execution_count": 33,
   "id": "28d111f6",
   "metadata": {},
   "outputs": [
    {
     "name": "stdout",
     "output_type": "stream",
     "text": [
      "['you', 'say', 'goodbye', 'and', 'i', 'say', 'hello.']\n"
     ]
    },
    {
     "data": {
      "text/plain": [
       "{'and', 'goodbye', 'hello.', 'i', 'say', 'you'}"
      ]
     },
     "execution_count": 33,
     "metadata": {},
     "output_type": "execute_result"
    }
   ],
   "source": [
    "corpus = 'you say goodbye and i say hello.'\n",
    "words = corpus.split()\n",
    "print(words)\n",
    "vocab = {x for x in words if x not in '.'}\n",
    "vocab"
   ]
  },
  {
   "cell_type": "code",
   "execution_count": 31,
   "id": "b1bf7086",
   "metadata": {},
   "outputs": [
    {
     "data": {
      "text/plain": [
       "{'and', 'goodbye', 'hello.', 'i', 'say', 'you'}"
      ]
     },
     "execution_count": 31,
     "metadata": {},
     "output_type": "execute_result"
    }
   ],
   "source": [
    "corpus = 'you say goodbye and i say hello.'\n",
    "words = corpus.split()\n",
    "set(x for x in words if x not in '.')"
   ]
  },
  {
   "cell_type": "code",
   "execution_count": null,
   "id": "2c356cdb",
   "metadata": {},
   "outputs": [],
   "source": []
  }
 ],
 "metadata": {
  "kernelspec": {
   "display_name": "Python 3 (ipykernel)",
   "language": "python",
   "name": "python3"
  },
  "language_info": {
   "codemirror_mode": {
    "name": "ipython",
    "version": 3
   },
   "file_extension": ".py",
   "mimetype": "text/x-python",
   "name": "python",
   "nbconvert_exporter": "python",
   "pygments_lexer": "ipython3",
   "version": "3.9.13"
  }
 },
 "nbformat": 4,
 "nbformat_minor": 5
}
