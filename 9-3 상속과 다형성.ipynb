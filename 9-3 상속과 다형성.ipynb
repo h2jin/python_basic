{
 "cells": [
  {
   "cell_type": "markdown",
   "id": "9ce9cf4e",
   "metadata": {},
   "source": [
    "### 클래스 상속"
   ]
  },
  {
   "cell_type": "code",
   "execution_count": 1,
   "id": "58f61c68",
   "metadata": {},
   "outputs": [],
   "source": [
    "class Car:\n",
    "    def run(self):\n",
    "        print(\"자동차가 달린다\")"
   ]
  },
  {
   "cell_type": "code",
   "execution_count": 2,
   "id": "a77f480a",
   "metadata": {},
   "outputs": [
    {
     "name": "stdout",
     "output_type": "stream",
     "text": [
      "자동차가 달린다\n"
     ]
    }
   ],
   "source": [
    "c = Car()\n",
    "c.run()"
   ]
  },
  {
   "cell_type": "code",
   "execution_count": 3,
   "id": "733dd7e2",
   "metadata": {},
   "outputs": [],
   "source": [
    "class Sonata(Car):\n",
    "    pass"
   ]
  },
  {
   "cell_type": "code",
   "execution_count": 5,
   "id": "803c1028",
   "metadata": {},
   "outputs": [
    {
     "name": "stdout",
     "output_type": "stream",
     "text": [
      "자동차가 달린다\n"
     ]
    }
   ],
   "source": [
    "s = Sonata()\n",
    "s.run()"
   ]
  },
  {
   "cell_type": "markdown",
   "id": "18b5019a",
   "metadata": {},
   "source": [
    "### 함수 오버라이딩"
   ]
  },
  {
   "cell_type": "code",
   "execution_count": 6,
   "id": "3eb8e12c",
   "metadata": {},
   "outputs": [],
   "source": [
    "class Sonata(Car):\n",
    "    def run(self):\n",
    "        print(\"소나타가 달린다\")"
   ]
  },
  {
   "cell_type": "code",
   "execution_count": 7,
   "id": "38936d7d",
   "metadata": {},
   "outputs": [
    {
     "name": "stdout",
     "output_type": "stream",
     "text": [
      "소나타가 달린다\n"
     ]
    }
   ],
   "source": [
    "s = Sonata()\n",
    "s.run()"
   ]
  },
  {
   "cell_type": "markdown",
   "id": "26addbfa",
   "metadata": {},
   "source": [
    "### 상속시 초기화 코드 호출"
   ]
  },
  {
   "cell_type": "code",
   "execution_count": 8,
   "id": "e94735ba",
   "metadata": {},
   "outputs": [],
   "source": [
    "class Car:\n",
    "    def __init__(self):\n",
    "        print(\"Car.__init__()\")\n",
    "    def run(self):\n",
    "        print(\"자동차가 달린다\")"
   ]
  },
  {
   "cell_type": "code",
   "execution_count": 9,
   "id": "629444da",
   "metadata": {
    "scrolled": true
   },
   "outputs": [
    {
     "name": "stdout",
     "output_type": "stream",
     "text": [
      "Car.__init__()\n"
     ]
    }
   ],
   "source": [
    "c = Car()"
   ]
  },
  {
   "cell_type": "code",
   "execution_count": 10,
   "id": "8194e044",
   "metadata": {},
   "outputs": [],
   "source": [
    "class Sonata(Car):\n",
    "    def __init__(self):\n",
    "        print(\"Sonata.__init__()\")\n",
    "    def run(self):\n",
    "        print(\"소나타가 달린다\")"
   ]
  },
  {
   "cell_type": "code",
   "execution_count": 11,
   "id": "566d2f38",
   "metadata": {},
   "outputs": [
    {
     "name": "stdout",
     "output_type": "stream",
     "text": [
      "Sonata.__init__()\n"
     ]
    }
   ],
   "source": [
    "s = Sonata()"
   ]
  },
  {
   "cell_type": "code",
   "execution_count": 1,
   "id": "305a992a",
   "metadata": {},
   "outputs": [],
   "source": [
    "class Car:\n",
    "    def __init__(self):\n",
    "        print(\"Car.__init__()\")\n",
    "    def run(self):\n",
    "        print(\"자동차가 달린다\")"
   ]
  },
  {
   "cell_type": "code",
   "execution_count": 2,
   "id": "8d893bcf",
   "metadata": {},
   "outputs": [],
   "source": [
    "class Sonata(Car):\n",
    "    def __init__(self):\n",
    "        super().__init__()\n",
    "        print(\"Sonata.__init__()\")\n",
    "    def run(self):\n",
    "        print(\"소나타가 달린다\")"
   ]
  },
  {
   "cell_type": "code",
   "execution_count": 3,
   "id": "82c282fa",
   "metadata": {},
   "outputs": [
    {
     "name": "stdout",
     "output_type": "stream",
     "text": [
      "Car.__init__()\n",
      "Sonata.__init__()\n"
     ]
    }
   ],
   "source": [
    "s = Sonata()"
   ]
  },
  {
   "cell_type": "markdown",
   "id": "a85c447c",
   "metadata": {},
   "source": [
    "### 다중 상속 사용하기"
   ]
  },
  {
   "cell_type": "code",
   "execution_count": 5,
   "id": "509ddb20",
   "metadata": {},
   "outputs": [],
   "source": [
    "class Car:\n",
    "    def run(self):\n",
    "        print(\"자동차가 달린다.\")"
   ]
  },
  {
   "cell_type": "code",
   "execution_count": 6,
   "id": "69ab4c01",
   "metadata": {},
   "outputs": [],
   "source": [
    "class Electric:\n",
    "    def charge(self):\n",
    "        print(\"충전한다.\")"
   ]
  },
  {
   "cell_type": "code",
   "execution_count": 7,
   "id": "be3b6eda",
   "metadata": {},
   "outputs": [],
   "source": [
    "class Model3(Car, Electric):\n",
    "    pass"
   ]
  },
  {
   "cell_type": "code",
   "execution_count": 9,
   "id": "1c7c34ca",
   "metadata": {},
   "outputs": [
    {
     "name": "stdout",
     "output_type": "stream",
     "text": [
      "자동차가 달린다.\n",
      "충전한다.\n"
     ]
    }
   ],
   "source": [
    "m3 = Model3()\n",
    "m3.run()\n",
    "m3.charge()"
   ]
  },
  {
   "cell_type": "markdown",
   "id": "7bc68e9e",
   "metadata": {},
   "source": [
    "### 추상 클래스 사용하기"
   ]
  },
  {
   "cell_type": "code",
   "execution_count": 1,
   "id": "c3b5afec",
   "metadata": {},
   "outputs": [],
   "source": [
    "from abc import *\n",
    "\n",
    "class Car(metaclass=ABCMeta):\n",
    "    @abstractmethod\n",
    "    def run(self):\n",
    "        pass\n",
    "    \n",
    "    @abstractmethod\n",
    "    def stop(self):\n",
    "        pass"
   ]
  },
  {
   "cell_type": "code",
   "execution_count": 4,
   "id": "8ece824f",
   "metadata": {},
   "outputs": [],
   "source": [
    "class Sonata(Car):\n",
    "    def run(self):\n",
    "        print(\"소나타가 달린다.\")\n",
    "    def stop(self):\n",
    "        print(\"소나타가 멈춘다.\")"
   ]
  },
  {
   "cell_type": "code",
   "execution_count": 5,
   "id": "87959676",
   "metadata": {},
   "outputs": [],
   "source": [
    "s = Sonata()"
   ]
  },
  {
   "cell_type": "markdown",
   "id": "403d086c",
   "metadata": {},
   "source": [
    "### 다형성"
   ]
  },
  {
   "cell_type": "code",
   "execution_count": 6,
   "id": "8760627e",
   "metadata": {},
   "outputs": [],
   "source": [
    "from abc import *\n",
    "\n",
    "class Car(metaclass=ABCMeta):\n",
    "    @abstractmethod\n",
    "    def run(self):\n",
    "        pass"
   ]
  },
  {
   "cell_type": "code",
   "execution_count": 7,
   "id": "32d416f5",
   "metadata": {},
   "outputs": [],
   "source": [
    "class Sonata(Car):\n",
    "    def run(self):\n",
    "        print(\"소나타가 달린다.\")"
   ]
  },
  {
   "cell_type": "code",
   "execution_count": 8,
   "id": "bf03c5b9",
   "metadata": {},
   "outputs": [],
   "source": [
    "class Martiz(Car):\n",
    "    def run(self):\n",
    "        print(\"마티즈가 달린다.\")"
   ]
  },
  {
   "cell_type": "code",
   "execution_count": 9,
   "id": "ea3c2e60",
   "metadata": {},
   "outputs": [
    {
     "name": "stdout",
     "output_type": "stream",
     "text": [
      "소나타가 달린다.\n",
      "마티즈가 달린다.\n",
      "소나타가 달린다.\n",
      "마티즈가 달린다.\n"
     ]
    }
   ],
   "source": [
    "cars = [Sonata(), Martiz(), Sonata(), Martiz()]\n",
    "for c in cars:\n",
    "    c.run()"
   ]
  },
  {
   "cell_type": "code",
   "execution_count": null,
   "id": "1b27fcc4",
   "metadata": {},
   "outputs": [],
   "source": []
  }
 ],
 "metadata": {
  "kernelspec": {
   "display_name": "Python 3 (ipykernel)",
   "language": "python",
   "name": "python3"
  },
  "language_info": {
   "codemirror_mode": {
    "name": "ipython",
    "version": 3
   },
   "file_extension": ".py",
   "mimetype": "text/x-python",
   "name": "python",
   "nbconvert_exporter": "python",
   "pygments_lexer": "ipython3",
   "version": "3.9.13"
  }
 },
 "nbformat": 4,
 "nbformat_minor": 5
}
