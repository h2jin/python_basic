{
 "cells": [
  {
   "cell_type": "markdown",
   "id": "065180d0",
   "metadata": {},
   "source": [
    "변수에 대한 고찰"
   ]
  },
  {
   "cell_type": "markdown",
   "id": "eca39333",
   "metadata": {},
   "source": [
    "파이썬의 모든 것은 객체이다."
   ]
  },
  {
   "cell_type": "code",
   "execution_count": 1,
   "id": "b23f6681",
   "metadata": {},
   "outputs": [
    {
     "name": "stdout",
     "output_type": "stream",
     "text": [
      "<class 'int'>\n"
     ]
    }
   ],
   "source": [
    "x = 10\n",
    "print(type(x))"
   ]
  },
  {
   "cell_type": "code",
   "execution_count": 2,
   "id": "15daa24d",
   "metadata": {},
   "outputs": [
    {
     "name": "stdout",
     "output_type": "stream",
     "text": [
      "0x224a0496a50\n"
     ]
    }
   ],
   "source": [
    "print(hex(id(x)))"
   ]
  },
  {
   "cell_type": "code",
   "execution_count": 3,
   "id": "067471c1",
   "metadata": {},
   "outputs": [
    {
     "name": "stdout",
     "output_type": "stream",
     "text": [
      "0x224a0496a50\n",
      "0x224a0496a50\n"
     ]
    }
   ],
   "source": [
    "y = x\n",
    "print(hex(id(x)))\n",
    "print(hex(id(y)))"
   ]
  },
  {
   "cell_type": "code",
   "execution_count": 4,
   "id": "be06c7b8",
   "metadata": {},
   "outputs": [
    {
     "name": "stdout",
     "output_type": "stream",
     "text": [
      "0x224a0496a30\n"
     ]
    }
   ],
   "source": [
    "x = x-1\n",
    "print(hex(id(x)))"
   ]
  },
  {
   "cell_type": "code",
   "execution_count": 5,
   "id": "88fdefaf",
   "metadata": {},
   "outputs": [
    {
     "name": "stdout",
     "output_type": "stream",
     "text": [
      "0x224a0496a50\n",
      "0x224a0496a50\n"
     ]
    }
   ],
   "source": [
    "z = 10\n",
    "print(hex(id(y)))\n",
    "print(hex(id(z)))"
   ]
  },
  {
   "cell_type": "code",
   "execution_count": 6,
   "id": "046af9d0",
   "metadata": {},
   "outputs": [
    {
     "name": "stdout",
     "output_type": "stream",
     "text": [
      "0x224a4fae030\n",
      "<class 'str'>\n"
     ]
    }
   ],
   "source": [
    "z = 'hello'\n",
    "print(hex(id(z)))\n",
    "print(type(z))"
   ]
  },
  {
   "cell_type": "markdown",
   "id": "33c0b729",
   "metadata": {},
   "source": [
    "참조 계수의 동작"
   ]
  },
  {
   "cell_type": "code",
   "execution_count": 7,
   "id": "8713842d",
   "metadata": {},
   "outputs": [
    {
     "name": "stdout",
     "output_type": "stream",
     "text": [
      "0x224a3205730\n",
      "56\n"
     ]
    }
   ],
   "source": [
    "import sys\n",
    "x = 'python'\n",
    "print(hex(id(x)))\n",
    "print(sys.getrefcount(x))"
   ]
  },
  {
   "cell_type": "code",
   "execution_count": 8,
   "id": "b5b24650",
   "metadata": {},
   "outputs": [
    {
     "name": "stdout",
     "output_type": "stream",
     "text": [
      "0x224a3205730\n",
      "0x224a3205730\n",
      "57\n"
     ]
    }
   ],
   "source": [
    "y = x\n",
    "print(hex(id(x)))\n",
    "print(hex(id(y)))\n",
    "print(sys.getrefcount(y))"
   ]
  },
  {
   "cell_type": "code",
   "execution_count": 9,
   "id": "613c8566",
   "metadata": {},
   "outputs": [
    {
     "name": "stdout",
     "output_type": "stream",
     "text": [
      "0x7ffc7deebcd8\n",
      "0x224a3205730\n",
      "56\n"
     ]
    }
   ],
   "source": [
    "x = None\n",
    "print(hex(id(x)))\n",
    "print(hex(id(y)))\n",
    "print(sys.getrefcount(y))"
   ]
  },
  {
   "cell_type": "code",
   "execution_count": null,
   "id": "33f9b3ba",
   "metadata": {},
   "outputs": [],
   "source": []
  }
 ],
 "metadata": {
  "kernelspec": {
   "display_name": "Python 3 (ipykernel)",
   "language": "python",
   "name": "python3"
  },
  "language_info": {
   "codemirror_mode": {
    "name": "ipython",
    "version": 3
   },
   "file_extension": ".py",
   "mimetype": "text/x-python",
   "name": "python",
   "nbconvert_exporter": "python",
   "pygments_lexer": "ipython3",
   "version": "3.9.13"
  }
 },
 "nbformat": 4,
 "nbformat_minor": 5
}
