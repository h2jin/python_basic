{
 "cells": [
  {
   "cell_type": "markdown",
   "id": "eecfd61a",
   "metadata": {},
   "source": [
    "﻿\n",
    "1. 다음 소스 코드를 완성하여 리스트 a에 들어있는 문자열 중에서 길이가 5인 것만 대문자로 바꿔서 리스트 형태로 출력되게 하시오.\n",
    "\n",
    "(리스트 컴프리헨션 사용)\n",
    "\n",
    "\n",
    "﻿"
   ]
  },
  {
   "cell_type": "code",
   "execution_count": 1,
   "id": "396acaf8",
   "metadata": {},
   "outputs": [],
   "source": [
    "a = ['alpha', 'bravo', 'Charlie', 'delta', 'echo', 'foxtrot']"
   ]
  },
  {
   "cell_type": "code",
   "execution_count": 10,
   "id": "436b22fb",
   "metadata": {},
   "outputs": [
    {
     "name": "stdout",
     "output_type": "stream",
     "text": [
      "['ALPHA', 'BRAVO', 'Charlie', 'DELTA', 'echo', 'foxtrot']\n"
     ]
    }
   ],
   "source": [
    "for i in range(len(a)):\n",
    "    if(len(a[i]) == 5):\n",
    "        a[i] = a[i].upper()\n",
    "print(a)        "
   ]
  },
  {
   "cell_type": "code",
   "execution_count": 13,
   "id": "51fdb5c8",
   "metadata": {},
   "outputs": [
    {
     "name": "stdout",
     "output_type": "stream",
     "text": [
      "['ALPHA', 'BRAVO', 'Charlie', 'DELTA', 'echo', 'foxtrot']\n"
     ]
    }
   ],
   "source": [
    "a = ['alpha', 'bravo', 'Charlie', 'delta', 'echo', 'foxtrot']\n",
    "b = [i.upper() if len(i) == 5 else i for i in a] # if를 이용한 삼항연산자 활용\n",
    "print(b)"
   ]
  },
  {
   "cell_type": "markdown",
   "id": "6a68abfe",
   "metadata": {},
   "source": [
    "\n",
    "2. 회문(앞뒤 어느 쪽에서도 같은 단어, 말) 여부를 판단하는 코드를 작성하시오.\n",
    "\n",
    "입력:소주만병만주소\n",
    "\n",
    "출력: 회문(Palindrome)입니다.\n",
    "\n",
    "﻿"
   ]
  },
  {
   "cell_type": "code",
   "execution_count": 17,
   "id": "519d74a9",
   "metadata": {},
   "outputs": [
    {
     "name": "stdout",
     "output_type": "stream",
     "text": [
      "인ㄹ\n",
      "ㄹ인\n",
      "회문(Palindrome)이 아닙니다.\n"
     ]
    }
   ],
   "source": [
    "t = input()\n",
    "\n",
    "answer = \"\"\n",
    "for i in range(len(t)-1,-1 ,-1):\n",
    "    answer += t[i]\n",
    "print(answer)    \n",
    "\n",
    "if t == answer:\n",
    "    print(\"회문(Palindrome)입니다.\")\n",
    "else:\n",
    "    print(\"회문(Palindrome)이 아닙니다.\")    \n",
    "    "
   ]
  },
  {
   "cell_type": "code",
   "execution_count": 23,
   "id": "7bafb413",
   "metadata": {},
   "outputs": [
    {
     "name": "stdout",
     "output_type": "stream",
     "text": [
      "소주만병만주소\n",
      "회문(Palindrome)입니다.\n"
     ]
    }
   ],
   "source": [
    "t = input()\n",
    "\n",
    "answer = t[::-1]\n",
    "if t == answer:\n",
    "    print(\"회문(Palindrome)입니다.\")\n",
    "else:\n",
    "    print(\"회문(Palindrome)이 아닙니다.\")    "
   ]
  },
  {
   "cell_type": "markdown",
   "id": "c0aec011",
   "metadata": {},
   "source": [
    "﻿\n",
    "3. 다음은 10명의 학생들의 혈액형(A, B, O, AB) 데이터이다.\n",
    "\n",
    "['A', 'A', 'A, 'O', 'B', 'B', 'O', 'AB', 'AB', 'O']\n",
    "\n",
    "for문과 딕셔너리를 사용하여 각 혈액형 별 학생수를 구하시오.\n",
    "\n",
    "﻿"
   ]
  },
  {
   "cell_type": "code",
   "execution_count": 28,
   "id": "53248c4b",
   "metadata": {},
   "outputs": [
    {
     "name": "stdout",
     "output_type": "stream",
     "text": [
      "{'A': 3, 'B': 2, 'O': 3, 'AB': 2}\n"
     ]
    }
   ],
   "source": [
    "result = {\"A\" : 0, \"B\" : 0, \"O\" : 0, \"AB\" : 0}\n",
    "students = ['A', 'A', 'A', 'O', 'B', 'B', 'O', 'AB', 'AB', 'O']\n",
    "\n",
    "for i in students:\n",
    "    result[i] += 1 # result[i] 가 키값이 되므로 +1씩 증가시킴\n",
    "    \n",
    "print(result)"
   ]
  },
  {
   "cell_type": "code",
   "execution_count": 38,
   "id": "15e2b083",
   "metadata": {},
   "outputs": [
    {
     "name": "stdout",
     "output_type": "stream",
     "text": [
      "A형 : 3명 \n",
      "B형 : 2명 \n",
      "C형 : 3명 \n",
      "AB형 : 2명\n"
     ]
    }
   ],
   "source": [
    "print(\"A형 : %d명 \\nB형 : %d명 \\nC형 : %d명 \\nAB형 : %d명\" %\n",
    "      (result[\"A\"], result[\"B\"], result[\"O\"], result[\"AB\"]))"
   ]
  },
  {
   "cell_type": "code",
   "execution_count": 39,
   "id": "ca6c33e4",
   "metadata": {},
   "outputs": [
    {
     "name": "stdout",
     "output_type": "stream",
     "text": [
      "{'A': 3, 'B': 2, 'O': 3, 'AB': 2}\n"
     ]
    }
   ],
   "source": [
    "result = {\"A\" : 0, \"B\" : 0, \"O\" : 0, \"AB\" : 0}\n",
    "students = ['A', 'A', 'A', 'O', 'B', 'B', 'O', 'AB', 'AB', 'O']\n",
    "\n",
    "for key in result:\n",
    "    result[key] = students.count(key)\n",
    "    \n",
    "print(result)    \n",
    "    "
   ]
  },
  {
   "cell_type": "markdown",
   "id": "c6d354a7",
   "metadata": {},
   "source": [
    "﻿\n",
    "4. 5x5 행렬이 있다. (2차원 리스트 사용) 행렬 내에 *은 지뢰이고 .은 지뢰가 아니다.\n",
    "\n",
    "지뢰가 아닌 요소에서는 인접한 지회의 개수를 출력하는 프로그램을 구현하시오.\n",
    "\n",
    "﻿﻿\n",
    "입력:\n",
    "\n",
    "· · * · ·\n",
    "\n",
    "· · · * ·\n",
    "\n",
    "· * · · ·\n",
    "\n",
    "· * * * ·\n",
    "\n",
    "* · * · ·\n",
    "\n",
    "\n",
    "출력:\n",
    "\n",
    "0 1 * 2 1\n",
    "\n",
    "1 2 3 * 1\n",
    "\n",
    "2 * 5 3 2\n",
    "\n",
    "3 * * * 1\n",
    "\n",
    "* 4 * 3 1\n",
    "\n",
    "\n",
    "﻿"
   ]
  },
  {
   "cell_type": "code",
   "execution_count": 5,
   "id": "9799a0ac",
   "metadata": {},
   "outputs": [
    {
     "name": "stdout",
     "output_type": "stream",
     "text": [
      ". . * . . \n",
      ". . . * . \n",
      ". * . . . \n",
      ". * * * . \n",
      "* . * . . \n"
     ]
    }
   ],
   "source": [
    "matrix = [\n",
    "    ['.','.', '*', '.', '.' ],\n",
    "    ['.','.', '.', '*', '.' ],\n",
    "    ['.','*', '.', '.', '.' ],\n",
    "    ['.','*', '*', '*', '.' ],\n",
    "    ['*','.', '*', '.', '.' ]\n",
    "]\n",
    "for i in range(5):\n",
    "    for j in range(5):\n",
    "        print(matrix[i][j], end=' ')\n",
    "    print()"
   ]
  },
  {
   "cell_type": "code",
   "execution_count": 7,
   "id": "3be5f69a",
   "metadata": {},
   "outputs": [
    {
     "name": "stdout",
     "output_type": "stream",
     "text": [
      "0 1 * 2 1 \n",
      "1 2 3 * 1 \n",
      "2 * 5 3 2 \n",
      "3 * * * 1 \n",
      "* 4 * 3 1 \n"
     ]
    }
   ],
   "source": [
    "for i in range(5):\n",
    "    for j in range(5):\n",
    "        if matrix[i][j] == '*':\n",
    "            continue\n",
    "        r_start = 0 if (i-1) < 0 else i-1 # 경계선 체크\n",
    "        r_end = 4 if (i+1) >= 5 else i+1 # 경계선 체크\n",
    "        c_start = 0 if (j-1) < 0 else j-1 \n",
    "        c_end = 4 if (j+1) >= 5 else j+1\n",
    "        matrix[i][j] = 0\n",
    "        \n",
    "        for r in range(r_start, r_end+1):\n",
    "            for c in range(c_start, c_end+1):\n",
    "                if matrix[r][c] =='*':\n",
    "                    matrix[i][j] += 1\n",
    "                    \n",
    "for i in range(5):\n",
    "    for j in range(5):\n",
    "        print(matrix[i][j], end=' ')\n",
    "    print()                    "
   ]
  },
  {
   "cell_type": "code",
   "execution_count": null,
   "id": "699d44e3",
   "metadata": {},
   "outputs": [],
   "source": []
  }
 ],
 "metadata": {
  "kernelspec": {
   "display_name": "Python 3 (ipykernel)",
   "language": "python",
   "name": "python3"
  },
  "language_info": {
   "codemirror_mode": {
    "name": "ipython",
    "version": 3
   },
   "file_extension": ".py",
   "mimetype": "text/x-python",
   "name": "python",
   "nbconvert_exporter": "python",
   "pygments_lexer": "ipython3",
   "version": "3.9.13"
  }
 },
 "nbformat": 4,
 "nbformat_minor": 5
}
