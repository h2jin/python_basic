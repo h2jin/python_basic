{
 "cells": [
  {
   "cell_type": "markdown",
   "id": "a83f4d51",
   "metadata": {},
   "source": [
    "﻿\n",
    "조건문이란?\n",
    "\n",
    "생활 속 프로그램 예시\n",
    "\n",
    "지하철 앞 차 간격이 10M 이하면 속도를 10km 이하로 늦춰라\n",
    "\n",
    "사용자가 20세 이하면 VOD를 플레이 하지 마라\n",
    "\n",
    "휴대폰 패턴이 5회 틀리면 20초 동안 대기 상태로 만들어라\n",
    "\n",
    "\n",
    "조건문은 조건을 나타내는 기준과 실행해야 할 명령으로 구성 된다.\n",
    "\n",
    "조건의 참, 거짓에 따라 실행해야 할 명령이 수행되거나 되지 않는다.\n",
    "\n",
    "\n",
    "파이썬은 조건문으로 if, else, elif 등의 명령 키워드를 사용한다.\n",
    "\n",
    "\n",
    "﻿"
   ]
  },
  {
   "cell_type": "markdown",
   "id": "dd6bc67a",
   "metadata": {},
   "source": [
    "if else 문\n",
    "\n",
    "가장 기본적인 조건문으로 조건에 따른 명령을 실행"
   ]
  },
  {
   "cell_type": "code",
   "execution_count": 2,
   "id": "42b6caab",
   "metadata": {},
   "outputs": [
    {
     "name": "stdout",
     "output_type": "stream",
     "text": [
      "Tell me your age.\n",
      "26\n",
      "Welcome to the Club.\n"
     ]
    }
   ],
   "source": [
    "print(\"Tell me your age.\")\n",
    "myAge = int(input())\n",
    "\n",
    "if myAge < 30 : \n",
    "    print(\"Welcome to the Club.\")\n",
    "else:\n",
    "    print(\"Oh. No. You are not accepted.\")"
   ]
  },
  {
   "cell_type": "markdown",
   "id": "0516674c",
   "metadata": {},
   "source": [
    "if-else 문법"
   ]
  },
  {
   "cell_type": "code",
   "execution_count": 4,
   "id": "8e0b87b4",
   "metadata": {},
   "outputs": [],
   "source": [
    "# if <조건>:             # if를 쓰고 조건 삽입 후 \":\" 입력\n",
    "#     <수행명령 1-1>     # 들여쓰기(indentation) 후 수행명령 입력\n",
    "#     <수행명령 1-2>     # 같은 조건 하에 실행일 경우 들여쓰기 유지\n",
    "# else:                  # 조건이 불일치할 경우 수행할 명령 block\n",
    "#     <수행명령 2-1>     # 조건 불일치시 수행할 명령 입력\n",
    "#     <수행명령 2-2>     # 조건 불일치시 수행할 명령 들여쓰기 유지"
   ]
  },
  {
   "cell_type": "markdown",
   "id": "a758c843",
   "metadata": {},
   "source": [
    "조건 참/거짓의 구분\n",
    "\n",
    "- 숫자형의 경우는 수학에서의 참/거짓과 동일\n",
    "- 컴퓨터는 존재하면 참 없으면 거짓이라고 판단함"
   ]
  },
  {
   "cell_type": "code",
   "execution_count": 10,
   "id": "078314e4",
   "metadata": {},
   "outputs": [
    {
     "name": "stdout",
     "output_type": "stream",
     "text": [
      "True\n"
     ]
    }
   ],
   "source": [
    "if 1:\n",
    "    print(\"True\")\n",
    "else:\n",
    "    print(\"False\")\n",
    "\n",
    "# 0 인경우, False 출력"
   ]
  },
  {
   "cell_type": "code",
   "execution_count": 11,
   "id": "e2810365",
   "metadata": {},
   "outputs": [
    {
     "name": "stdout",
     "output_type": "stream",
     "text": [
      "True\n"
     ]
    }
   ],
   "source": [
    "if \"abc\":\n",
    "    print(\"True\")\n",
    "else:\n",
    "    print(\"False\")\n",
    "    \n",
    "# \"\" 인경우, False 출력"
   ]
  },
  {
   "cell_type": "markdown",
   "id": "04dedd9c",
   "metadata": {},
   "source": [
    "﻿\n",
    "논리 키워드 사용: and, or, not\n",
    "\n",
    "조건문을 표현할 때 집합의 논리 키워드를 함께 사용하여 참과 거짓을 판단하기도 함."
   ]
  },
  {
   "cell_type": "code",
   "execution_count": 16,
   "id": "8da68c1a",
   "metadata": {},
   "outputs": [
    {
     "name": "stdout",
     "output_type": "stream",
     "text": [
      "False\n"
     ]
    }
   ],
   "source": [
    "a = 8\n",
    "b = 5\n",
    "\n",
    "print( a == 8 and b == 4)"
   ]
  },
  {
   "cell_type": "code",
   "execution_count": 14,
   "id": "ce6114d2",
   "metadata": {},
   "outputs": [
    {
     "name": "stdout",
     "output_type": "stream",
     "text": [
      "True\n"
     ]
    }
   ],
   "source": [
    "print( a > 7 or b > 7)"
   ]
  },
  {
   "cell_type": "code",
   "execution_count": 15,
   "id": "d0939aea",
   "metadata": {},
   "outputs": [
    {
     "name": "stdout",
     "output_type": "stream",
     "text": [
      "False\n"
     ]
    }
   ],
   "source": [
    "print( not (a > 7))"
   ]
  },
  {
   "cell_type": "markdown",
   "id": "839f6216",
   "metadata": {},
   "source": [
    "조건 판단 연습"
   ]
  },
  {
   "cell_type": "code",
   "execution_count": 23,
   "id": "bbdadcb5",
   "metadata": {},
   "outputs": [
    {
     "name": "stdout",
     "output_type": "stream",
     "text": [
      "C\n"
     ]
    }
   ],
   "source": [
    "score = 78\n",
    "\n",
    "if score >= 90:\n",
    "    grade = 'A'\n",
    "elif score >= 80:\n",
    "    grade = 'B'\n",
    "elif score >= 70:\n",
    "    grade = 'C'\n",
    "elif score >= 60:\n",
    "    grade = 'D'\n",
    "else:\n",
    "    grade = 'F'\n",
    "    \n",
    "print(grade)"
   ]
  },
  {
   "cell_type": "code",
   "execution_count": null,
   "id": "df182f72",
   "metadata": {},
   "outputs": [],
   "source": []
  }
 ],
 "metadata": {
  "kernelspec": {
   "display_name": "Python 3 (ipykernel)",
   "language": "python",
   "name": "python3"
  },
  "language_info": {
   "codemirror_mode": {
    "name": "ipython",
    "version": 3
   },
   "file_extension": ".py",
   "mimetype": "text/x-python",
   "name": "python",
   "nbconvert_exporter": "python",
   "pygments_lexer": "ipython3",
   "version": "3.9.13"
  }
 },
 "nbformat": 4,
 "nbformat_minor": 5
}
