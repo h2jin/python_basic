{
 "cells": [
  {
   "cell_type": "markdown",
   "id": "570de16b",
   "metadata": {},
   "source": [
    "#### 1. 다음 소스 코드를 완선하여 주어진 리스트의 최대값, 최소값, 총점, 평균을 리턴하는 함수를 구현하시오."
   ]
  },
  {
   "cell_type": "code",
   "execution_count": 6,
   "id": "48961858",
   "metadata": {},
   "outputs": [
    {
     "name": "stdout",
     "output_type": "stream",
     "text": [
      "최대값: 99, 최소값: 45, 총점: 748, 평균: 74.80\n"
     ]
    }
   ],
   "source": [
    "def calc(score):\n",
    "    a = max(score)\n",
    "    b = min(score)\n",
    "    c = sum(score)\n",
    "    d = c / len(score)\n",
    "    return a, b, c, d\n",
    "    \n",
    "score = [67, 45, 89, 99, 65, 64, 56, 78, 88, 97]\n",
    "a, b, c, d = calc(score)\n",
    "print(\"최대값: %d, 최소값: %d, 총점: %d, 평균: %5.2f\"%(a, b, c, d))"
   ]
  },
  {
   "cell_type": "markdown",
   "id": "a71b4f48",
   "metadata": {},
   "source": [
    "#### ﻿2. 다음 소스 코드를 완성하여 문자열이 회문인지 판별하고 결과를 True, False로 출력되게 만드시오.( 재귀호출 이용)"
   ]
  },
  {
   "cell_type": "code",
   "execution_count": 11,
   "id": "62c7943f",
   "metadata": {},
   "outputs": [
    {
     "name": "stdout",
     "output_type": "stream",
     "text": [
      "False\n",
      "True\n",
      "False\n",
      "True\n"
     ]
    }
   ],
   "source": [
    "def is_palindrome(word):\n",
    "    if len(word) < 2: # 종료조건\n",
    "        return True\n",
    "    if word[0] != word[-1]:\n",
    "        return False\n",
    "    return is_palindrome(word[1:-1])\n",
    "    \n",
    "    \n",
    "print(is_palindrome(\"hello\"))\n",
    "print(is_palindrome(\"level\"))\n",
    "print(is_palindrome(\"소주한병만주소\"))\n",
    "print(is_palindrome(\"소주만병만주소\"))"
   ]
  },
  {
   "cell_type": "markdown",
   "id": "da32f5cc",
   "metadata": {},
   "source": [
    "#### 3. 다음 소스 코드를 완성하여 확장자가 .jpg, .png인 이미지 파일만 출력되게 만드시오 (람다 표현식 사용, 출력 결과는 리스트)﻿"
   ]
  },
  {
   "cell_type": "code",
   "execution_count": 16,
   "id": "f1fd413c",
   "metadata": {},
   "outputs": [
    {
     "name": "stdout",
     "output_type": "stream",
     "text": [
      "['1.jpg', '10.jpg', '2.jpg']\n"
     ]
    }
   ],
   "source": [
    "files = ['font', '1.jpg', '10.jpg', '11.gif', '2.jpg', '3.bmp']\n",
    "\n",
    "# x.find('abc') --> 찾았을 때는 인덱스를 리턴, 찾지 못한 경우 -1리턴한다.\n",
    "temp = list(filter(lambda x: x.find('.png') != -1 or x.find('.jpg') != -1, files))\n",
    "\n",
    "print(temp)"
   ]
  },
  {
   "cell_type": "markdown",
   "id": "22347dd4",
   "metadata": {},
   "source": [
    "#### 4. 표준 입력으로 정수가 입력된다. 다음 소스 코드를 완성하여 함수 c를 호출할 때 마다 숫자가 1씩 줄어들게 구현하시오. (클로저 사용)"
   ]
  },
  {
   "cell_type": "code",
   "execution_count": 22,
   "id": "e9b8f096",
   "metadata": {},
   "outputs": [
    {
     "name": "stdout",
     "output_type": "stream",
     "text": [
      "숫자 입력: 10\n",
      "10 9 8 7 6 5 4 3 2 1 "
     ]
    }
   ],
   "source": [
    "def countdown(n):\n",
    "    num = n + 1\n",
    "    def count():\n",
    "        nonlocal num\n",
    "        num -= 1\n",
    "        return num\n",
    "    return count\n",
    "    \n",
    "n = int(input('숫자 입력: '))\n",
    "c = countdown(n)\n",
    "for i in range(n):\n",
    "    print(c(), end=' ')"
   ]
  },
  {
   "cell_type": "code",
   "execution_count": null,
   "id": "1078a8ab",
   "metadata": {},
   "outputs": [],
   "source": []
  }
 ],
 "metadata": {
  "kernelspec": {
   "display_name": "Python 3 (ipykernel)",
   "language": "python",
   "name": "python3"
  },
  "language_info": {
   "codemirror_mode": {
    "name": "ipython",
    "version": 3
   },
   "file_extension": ".py",
   "mimetype": "text/x-python",
   "name": "python",
   "nbconvert_exporter": "python",
   "pygments_lexer": "ipython3",
   "version": "3.9.13"
  }
 },
 "nbformat": 4,
 "nbformat_minor": 5
}
