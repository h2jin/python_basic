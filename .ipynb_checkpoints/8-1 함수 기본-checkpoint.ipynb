{
 "cells": [
  {
   "cell_type": "markdown",
   "id": "d843ca0c",
   "metadata": {},
   "source": [
    "함수 (Function)\n",
    "\n",
    "어떤 일을 수행하는 코드의 덩어리"
   ]
  },
  {
   "cell_type": "code",
   "execution_count": 1,
   "id": "6db3744c",
   "metadata": {},
   "outputs": [],
   "source": [
    "def calculate_rectangle_area(x, y):\n",
    "    return x * y"
   ]
  },
  {
   "cell_type": "markdown",
   "id": "bb492b28",
   "metadata": {},
   "source": [
    "﻿\n",
    "- 반복적인 수행을 1회만 작성 후 호충\n",
    "\n",
    "- 코드를 논리적인 단위로 분리\n",
    "\n",
    "- 캡슐화: 인터페이스만 알면 타인의 코드 사용\n",
    "\n",
    "﻿"
   ]
  },
  {
   "cell_type": "markdown",
   "id": "a015cd39",
   "metadata": {},
   "source": [
    "함수 선언 문법\n",
    "\n",
    "함수이름, parameterm return value(optional)"
   ]
  },
  {
   "cell_type": "code",
   "execution_count": null,
   "id": "172c9b1d",
   "metadata": {},
   "outputs": [],
   "source": [
    "def 함수 이름(parameter #1 ...):\n",
    "          수행문 #1(statements)\n",
    "          수행문 #2(statements)\n",
    "          return <반환값>"
   ]
  },
  {
   "cell_type": "markdown",
   "id": "9180a453",
   "metadata": {},
   "source": [
    "함수 정의\n",
    "\n",
    "함수 선언 예시"
   ]
  },
  {
   "cell_type": "code",
   "execution_count": 4,
   "id": "5d117c92",
   "metadata": {},
   "outputs": [
    {
     "name": "stdout",
     "output_type": "stream",
     "text": [
      "사각형 x의 길이:  10\n",
      "사각형 y의 길이:  20\n",
      "calculate_rectangle_area(10, 20)\n",
      "사각형의 넓이:  200\n"
     ]
    }
   ],
   "source": [
    "def calculate_rectangle_area(x, y):\n",
    "    print(\"calculate_rectangle_area(%d, %d)\" %(x, y))\n",
    "    return x * y\n",
    "\n",
    "rectangle_x = 10\n",
    "rectangle_y = 20\n",
    "\n",
    "print(\"사각형 x의 길이: \", rectangle_x)\n",
    "print(\"사각형 y의 길이: \", rectangle_y)\n",
    "\n",
    "print(\"사각형의 넓이: \", calculate_rectangle_area(rectangle_x, rectangle_y))"
   ]
  },
  {
   "cell_type": "markdown",
   "id": "f9cd762e",
   "metadata": {},
   "source": [
    "피보나치 수열 (함수 없이 구현) - 동일 코드를 다시 구현해야 함"
   ]
  },
  {
   "cell_type": "code",
   "execution_count": 5,
   "id": "83a3b388",
   "metadata": {},
   "outputs": [
    {
     "name": "stdout",
     "output_type": "stream",
     "text": [
      "0 1 1 2 3 5 8 13 21 34 55 89 144 233 377 610 987 1597 \n",
      "0 1 1 2 3 5 8 13 21 34 55 89 144 233 377 610 987 \n"
     ]
    }
   ],
   "source": [
    "def fib(n):\n",
    "    a, b = 0, 1\n",
    "    while a < n:\n",
    "        print(a, end=' ')\n",
    "        a, b = b, a+b\n",
    "    print()\n",
    "    \n",
    "fib(2000)\n",
    "fib(1000)"
   ]
  },
  {
   "cell_type": "markdown",
   "id": "c63cd757",
   "metadata": {},
   "source": [
    "파이썬에서는 함수도 객체이다."
   ]
  },
  {
   "cell_type": "code",
   "execution_count": 6,
   "id": "cce9ce25",
   "metadata": {},
   "outputs": [
    {
     "data": {
      "text/plain": [
       "<function __main__.fib(n)>"
      ]
     },
     "execution_count": 6,
     "metadata": {},
     "output_type": "execute_result"
    }
   ],
   "source": [
    "fib"
   ]
  },
  {
   "cell_type": "code",
   "execution_count": 7,
   "id": "71aa291c",
   "metadata": {},
   "outputs": [
    {
     "name": "stdout",
     "output_type": "stream",
     "text": [
      "27\n",
      "28\n",
      "0 1 1 2 3 5 8 13 21 34 55 89 \n",
      "1960298812896 1960298812896\n"
     ]
    }
   ],
   "source": [
    "import sys\n",
    "\n",
    "print(sys.getrefcount(fib))\n",
    "f = fib\n",
    "print(sys.getrefcount(fib))\n",
    "f(100)\n",
    "print(id(fib), id(f))"
   ]
  },
  {
   "cell_type": "markdown",
   "id": "564f305d",
   "metadata": {},
   "source": [
    "리턴값이 있는 함수"
   ]
  },
  {
   "cell_type": "code",
   "execution_count": 10,
   "id": "8ad656ce",
   "metadata": {},
   "outputs": [
    {
     "data": {
      "text/plain": [
       "[0, 1, 1, 2, 3, 5, 8]"
      ]
     },
     "execution_count": 10,
     "metadata": {},
     "output_type": "execute_result"
    }
   ],
   "source": [
    "def fib2(n):\n",
    "    result = []\n",
    "    a, b = 0, 1\n",
    "    while a < n:\n",
    "        result.append(a)\n",
    "        a, b = b, a+b\n",
    "    return result\n",
    "\n",
    "f100 = fib2(10)\n",
    "f100"
   ]
  },
  {
   "cell_type": "markdown",
   "id": "085396f9",
   "metadata": {},
   "source": [
    "함수 형태 예제"
   ]
  },
  {
   "cell_type": "code",
   "execution_count": 11,
   "id": "aca05e51",
   "metadata": {},
   "outputs": [
    {
     "name": "stdout",
     "output_type": "stream",
     "text": [
      "35\n",
      "35\n",
      "35\n",
      "35\n"
     ]
    }
   ],
   "source": [
    "def a_rectangle_area():\n",
    "    print(5*7)\n",
    "    \n",
    "def b_rectangle_area(x, y):\n",
    "    print(x*y)\n",
    "    \n",
    "def c_rectangle_area():\n",
    "    return(5*7)\n",
    "\n",
    "def d_rectangle_area(x, y):\n",
    "    return(x*y)\n",
    "\n",
    "a_rectangle_area()\n",
    "b_rectangle_area(5, 7)\n",
    "print(c_rectangle_area())\n",
    "print(d_rectangle_area(5, 7))"
   ]
  },
  {
   "cell_type": "markdown",
   "id": "6d9a391c",
   "metadata": {},
   "source": [
    "﻿\n",
    "파이썬 함수 호출 방식\n",
    "\n",
    "파이썬은 객체의 주소가 함수로 전달되는 방식\n",
    "\n",
    "전달된 객체를 참조하여 변경 시 호출자에게 영향을 주나,\n",
    "\n",
    "새로운 객체를 만들 경우 호출자에게 영향을 주지 않는다.\n",
    "\n",
    "﻿"
   ]
  },
  {
   "cell_type": "code",
   "execution_count": 12,
   "id": "59f8c3b9",
   "metadata": {},
   "outputs": [
    {
     "name": "stdout",
     "output_type": "stream",
     "text": [
      "[0, 1]\n"
     ]
    }
   ],
   "source": [
    "def spam(eggs):\n",
    "    eggs.append(1)\n",
    "    eggs = [2, 3]\n",
    "    \n",
    "ham = [0]\n",
    "spam(ham)\n",
    "print(ham)"
   ]
  },
  {
   "cell_type": "code",
   "execution_count": 13,
   "id": "ce0c4615",
   "metadata": {},
   "outputs": [
    {
     "name": "stdout",
     "output_type": "stream",
     "text": [
      "Before : 10\n",
      "In Function : 20\n",
      "After : 10\n"
     ]
    }
   ],
   "source": [
    "def test(t):\n",
    "    t = 20\n",
    "    print(\"In Function :\", t)\n",
    "    \n",
    "x = 10\n",
    "print(\"Before :\", x)\n",
    "test(x)\n",
    "print(\"After :\", x)"
   ]
  },
  {
   "cell_type": "markdown",
   "id": "354f915a",
   "metadata": {},
   "source": [
    "﻿\n",
    "변수의 범위 (Scoping Rule)\n",
    "\n",
    "\n",
    "변수가 사용되는 범위 (함수 또는 메인 프로그램)\n",
    "\n",
    "- 지역변수(Local variable): 함수 내에서만 사용\n",
    "\n",
    "- 전역변수(Global variable): 프로그램 전체에서 사용\n",
    "\n",
    "\n",
    "﻿"
   ]
  },
  {
   "cell_type": "code",
   "execution_count": 14,
   "id": "7b464b3c",
   "metadata": {},
   "outputs": [
    {
     "name": "stdout",
     "output_type": "stream",
     "text": [
      "I love London!\n",
      "I love Paris!\n"
     ]
    }
   ],
   "source": [
    "def f():\n",
    "    s = \"I love London!\"\n",
    "    print(s)\n",
    "    \n",
    "s = \"I love Paris!\"\n",
    "f()\n",
    "print(s)"
   ]
  },
  {
   "cell_type": "markdown",
   "id": "1dc10b9d",
   "metadata": {},
   "source": [
    "- ﻿함수 내에서 전역변수 사용 시 global 키워드 사용"
   ]
  },
  {
   "cell_type": "code",
   "execution_count": 15,
   "id": "d60b87b3",
   "metadata": {},
   "outputs": [
    {
     "name": "stdout",
     "output_type": "stream",
     "text": [
      "I love London!\n",
      "I love London!\n"
     ]
    }
   ],
   "source": [
    "def f():\n",
    "    global s\n",
    "    s = \"I love London!\"\n",
    "    print(s)\n",
    "    \n",
    "s = \"I love Paris!\"\n",
    "f()\n",
    "print(s)"
   ]
  },
  {
   "cell_type": "markdown",
   "id": "7e3178e0",
   "metadata": {},
   "source": [
    "- ﻿함수 내에서 전역변수 읽기만 할 경우는 global 키워드 없어도 됨."
   ]
  },
  {
   "cell_type": "code",
   "execution_count": 17,
   "id": "8efd7787",
   "metadata": {},
   "outputs": [
    {
     "name": "stdout",
     "output_type": "stream",
     "text": [
      "10\n",
      "10\n"
     ]
    }
   ],
   "source": [
    "def foo():\n",
    "    print(a)\n",
    "    \n",
    "a=10\n",
    "foo()\n",
    "print(a)"
   ]
  },
  {
   "cell_type": "code",
   "execution_count": null,
   "id": "95df3c01",
   "metadata": {},
   "outputs": [],
   "source": []
  }
 ],
 "metadata": {
  "kernelspec": {
   "display_name": "Python 3 (ipykernel)",
   "language": "python",
   "name": "python3"
  },
  "language_info": {
   "codemirror_mode": {
    "name": "ipython",
    "version": 3
   },
   "file_extension": ".py",
   "mimetype": "text/x-python",
   "name": "python",
   "nbconvert_exporter": "python",
   "pygments_lexer": "ipython3",
   "version": "3.9.13"
  }
 },
 "nbformat": 4,
 "nbformat_minor": 5
}
