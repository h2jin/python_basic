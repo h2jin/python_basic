{
 "cells": [
  {
   "cell_type": "markdown",
   "id": "7dd88906",
   "metadata": {},
   "source": [
    "람다 표현식 사용하기\n",
    "\n",
    "- 람다 표현식으로 함수 만들기\n",
    "\n",
    "lambda 키워드를 사용해서 작고 이름없는 함수를 만들 수 있다.\n",
    "이 함수는 두 인자의 합을 돌려준다.: lambda a, b: a+b\n",
    "함수 객체가 있어야 하는 곳이면 어디나 람다 함수가 사용될 수 있다."
   ]
  },
  {
   "cell_type": "code",
   "execution_count": null,
   "id": "3c3a5c8d",
   "metadata": {},
   "outputs": [],
   "source": [
    "def plus_ten(x):\n",
    "    return x + 10\n",
    "\n",
    "plus_ten(1)"
   ]
  },
  {
   "cell_type": "markdown",
   "id": "2eb4e92a",
   "metadata": {},
   "source": [
    "﻿lambda 매개변수들 : 식"
   ]
  },
  {
   "cell_type": "code",
   "execution_count": null,
   "id": "41362891",
   "metadata": {},
   "outputs": [],
   "source": [
    "lambda x : x+ 10"
   ]
  },
  {
   "cell_type": "code",
   "execution_count": null,
   "id": "359d1bdd",
   "metadata": {},
   "outputs": [],
   "source": [
    "plus_ten = lambda x : x+10\n",
    "plus_ten(1)"
   ]
  },
  {
   "cell_type": "markdown",
   "id": "2783d6be",
   "metadata": {},
   "source": [
    "﻿람다 표현식을 인수로 사용하기"
   ]
  },
  {
   "cell_type": "code",
   "execution_count": null,
   "id": "4eef2e79",
   "metadata": {},
   "outputs": [],
   "source": [
    "def plus_ten(x):\n",
    "    return x + 10\n",
    "\n",
    "list(map(plus_ten, [1, 2, 3]))"
   ]
  },
  {
   "cell_type": "code",
   "execution_count": null,
   "id": "bf3c413a",
   "metadata": {},
   "outputs": [],
   "source": [
    "list(map(lambda x : x+ 10, [1, 2, 3]))"
   ]
  },
  {
   "cell_type": "markdown",
   "id": "24179f91",
   "metadata": {},
   "source": [
    "람다 표현식에 조건부 표현식 사용하기"
   ]
  },
  {
   "cell_type": "code",
   "execution_count": null,
   "id": "085700fa",
   "metadata": {},
   "outputs": [],
   "source": [
    "a = [1, 2, 3, 4, 5, 6, 7, 8, 9, 10]\n",
    "list(map(lambda x : str(x) if x%3 == 0 else x, a))"
   ]
  },
  {
   "cell_type": "markdown",
   "id": "c408e8e6",
   "metadata": {},
   "source": [
    "map에 객체를 여러개 넣기"
   ]
  },
  {
   "cell_type": "code",
   "execution_count": 17,
   "id": "38090220",
   "metadata": {},
   "outputs": [
    {
     "data": {
      "text/plain": [
       "[6, 14, 24, 36, 50]"
      ]
     },
     "execution_count": 17,
     "metadata": {},
     "output_type": "execute_result"
    }
   ],
   "source": [
    "a = [1, 2, 3, 4, 5]\n",
    "b = [6, 7, 8, 9, 10]\n",
    "\n",
    "list(map(lambda x, y: x * y, a, b))"
   ]
  },
  {
   "cell_type": "code",
   "execution_count": 18,
   "id": "0de3389c",
   "metadata": {
    "scrolled": true
   },
   "outputs": [
    {
     "name": "stdout",
     "output_type": "stream",
     "text": [
      "[6, 14, 24, 36, 50]\n"
     ]
    }
   ],
   "source": [
    "a = [1, 2, 3, 4, 5]\n",
    "b = [6, 7, 8, 9, 10]\n",
    "temp = []\n",
    "\n",
    "def foo(a, b):\n",
    "    return a * b\n",
    "\n",
    "for x, y in zip(a, b):\n",
    "    temp.append(foo(x, y))\n",
    "print(temp)"
   ]
  },
  {
   "cell_type": "markdown",
   "id": "c4296e75",
   "metadata": {},
   "source": [
    "﻿Filter 사용하기"
   ]
  },
  {
   "cell_type": "code",
   "execution_count": 19,
   "id": "74da1bb3",
   "metadata": {},
   "outputs": [
    {
     "data": {
      "text/plain": [
       "[8, 7, 9]"
      ]
     },
     "execution_count": 19,
     "metadata": {},
     "output_type": "execute_result"
    }
   ],
   "source": [
    "def f(x):\n",
    "    return x > 5 and x < 10 # True/False를 리턴\n",
    "\n",
    "a = [8, 3, 2, 10, 15, 7, 1, 9, 0, 11]\n",
    "list(filter(f, a))"
   ]
  },
  {
   "cell_type": "code",
   "execution_count": 21,
   "id": "a36ca212",
   "metadata": {},
   "outputs": [
    {
     "data": {
      "text/plain": [
       "[8, 7, 9]"
      ]
     },
     "execution_count": 21,
     "metadata": {},
     "output_type": "execute_result"
    }
   ],
   "source": [
    "a = [8, 3, 2, 10, 15, 7, 1, 9, 0, 11]\n",
    "\n",
    "list(filter(lambda x : x > 5 and x < 10, a))"
   ]
  },
  {
   "cell_type": "code",
   "execution_count": null,
   "id": "af7f75c5",
   "metadata": {},
   "outputs": [],
   "source": []
  }
 ],
 "metadata": {
  "kernelspec": {
   "display_name": "Python 3 (ipykernel)",
   "language": "python",
   "name": "python3"
  },
  "language_info": {
   "codemirror_mode": {
    "name": "ipython",
    "version": 3
   },
   "file_extension": ".py",
   "mimetype": "text/x-python",
   "name": "python",
   "nbconvert_exporter": "python",
   "pygments_lexer": "ipython3",
   "version": "3.9.13"
  }
 },
 "nbformat": 4,
 "nbformat_minor": 5
}
