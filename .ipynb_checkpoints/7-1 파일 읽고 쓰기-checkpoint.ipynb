{
 "cells": [
  {
   "cell_type": "markdown",
   "id": "25db8b20",
   "metadata": {},
   "source": [
    "파일에 문자열 쓰기\n",
    "\n",
    "﻿\n",
    "- 파일객체 = open(파일이름, 파일모드)\n",
    "\n",
    "- 파일객체.write('문자열')\n",
    "\n",
    "- 파일객체.close()\n",
    "\n",
    "﻿"
   ]
  },
  {
   "cell_type": "code",
   "execution_count": 1,
   "id": "4f95f1a6",
   "metadata": {},
   "outputs": [],
   "source": [
    "file = open(\"hello.txt\", 'w') # write모드 / read모드\n",
    "file.write('Hello, world!')\n",
    "file.close()"
   ]
  },
  {
   "cell_type": "markdown",
   "id": "c23ab490",
   "metadata": {},
   "source": [
    "파일에서 문자열 읽기\n",
    "\n",
    "- 파일객체 = open(파일이름, 파일모드)\n",
    "- 문자열변수 = 파일객체.read()\n",
    "- 파일객체.close()"
   ]
  },
  {
   "cell_type": "code",
   "execution_count": 2,
   "id": "e0bc8885",
   "metadata": {},
   "outputs": [
    {
     "name": "stdout",
     "output_type": "stream",
     "text": [
      "Hello, world!\n"
     ]
    }
   ],
   "source": [
    "file = open(\"hello.txt\", 'r')\n",
    "s = file.read()\n",
    "print(s)\n",
    "file.close()"
   ]
  },
  {
   "cell_type": "markdown",
   "id": "ecdbb748",
   "metadata": {},
   "source": [
    "﻿자동으로 파일 객체 닫기"
   ]
  },
  {
   "cell_type": "code",
   "execution_count": 3,
   "id": "0dee1836",
   "metadata": {},
   "outputs": [
    {
     "name": "stdout",
     "output_type": "stream",
     "text": [
      "Hello, world!\n"
     ]
    }
   ],
   "source": [
    "with open(\"hello.txt\", 'r') as file:\n",
    "    s = file.read()\n",
    "    print(s)"
   ]
  },
  {
   "cell_type": "markdown",
   "id": "688d4f9e",
   "metadata": {},
   "source": [
    "﻿\n",
    "문자열 여러 줄을 파일에 쓰고 읽기\n",
    "\n",
    "\n",
    "반북문으로 문자열 여러 줄을 파일에 쓰기\n",
    "\n",
    "﻿"
   ]
  },
  {
   "cell_type": "code",
   "execution_count": 4,
   "id": "79ba6440",
   "metadata": {},
   "outputs": [],
   "source": [
    "with open('hello.txt', 'w') as file:\n",
    "    for i in range(3):\n",
    "        file.write('Hello, world! {0}\\n'.format(i))"
   ]
  },
  {
   "cell_type": "markdown",
   "id": "de4d75ba",
   "metadata": {},
   "source": [
    "리스트에 들어있는 문자열을 파일에 쓰기"
   ]
  },
  {
   "cell_type": "code",
   "execution_count": 10,
   "id": "ddf77796",
   "metadata": {},
   "outputs": [],
   "source": [
    "lines = ['안녕하세요.\\n', '파이썬\\n', '입니다.\\n']\n",
    "with open('hello.txt', 'w') as file:\n",
    "    for i in lines:\n",
    "        file.write(i)"
   ]
  },
  {
   "cell_type": "code",
   "execution_count": 12,
   "id": "4c6fe617",
   "metadata": {},
   "outputs": [],
   "source": [
    "with open('hello.txt', 'w') as file:\n",
    "    file.writelines(lines)"
   ]
  },
  {
   "cell_type": "markdown",
   "id": "bc7fb4fc",
   "metadata": {},
   "source": [
    "파일의 내용을 한 줄씩 리스트로 가져오기"
   ]
  },
  {
   "cell_type": "code",
   "execution_count": 13,
   "id": "9c5998d7",
   "metadata": {},
   "outputs": [
    {
     "name": "stdout",
     "output_type": "stream",
     "text": [
      "['안녕하세요.\\n', '파이썬\\n', '입니다.\\n']\n"
     ]
    }
   ],
   "source": [
    "with open('hello.txt', 'r') as file:\n",
    "    lines = file.readlines()\n",
    "    print(lines)"
   ]
  },
  {
   "cell_type": "markdown",
   "id": "721381ff",
   "metadata": {},
   "source": [
    "파일의 내용을 한 줄씩 읽기"
   ]
  },
  {
   "cell_type": "code",
   "execution_count": 3,
   "id": "7f118088",
   "metadata": {},
   "outputs": [
    {
     "name": "stdout",
     "output_type": "stream",
     "text": [
      "안녕하세요.\n",
      "파이썬\n",
      "입니다.\n",
      "\n"
     ]
    }
   ],
   "source": [
    "with open('hello.txt', 'r') as file:\n",
    "    line = None\n",
    "    while line != '':\n",
    "        line = file.readline()\n",
    "        print(line.strip('\\n'))\n",
    "#         print(line) 공백이 두 번 찍히게됨."
   ]
  },
  {
   "cell_type": "markdown",
   "id": "80ceb02e",
   "metadata": {},
   "source": [
    "﻿for문으로 파일의 내용을 줄 단위로 읽기\n"
   ]
  },
  {
   "cell_type": "code",
   "execution_count": 6,
   "id": "8544c479",
   "metadata": {},
   "outputs": [
    {
     "name": "stdout",
     "output_type": "stream",
     "text": [
      "안녕하세요.\n",
      "파이썬\n",
      "입니다.\n"
     ]
    }
   ],
   "source": [
    "with open('hello.txt', 'r') as file:\n",
    "    for line in file:\n",
    "        print(line.strip('\\n'))"
   ]
  },
  {
   "cell_type": "markdown",
   "id": "420691d1",
   "metadata": {},
   "source": [
    "파일 객체는 이터레이터"
   ]
  },
  {
   "cell_type": "code",
   "execution_count": 4,
   "id": "736cf0e7",
   "metadata": {},
   "outputs": [
    {
     "name": "stdout",
     "output_type": "stream",
     "text": [
      "안녕하세요.\n",
      "파이썬\n",
      "입니다.\n"
     ]
    }
   ],
   "source": [
    "with open('hello.txt', 'r') as file:\n",
    "    line = next(file)\n",
    "    print(line.strip('\\n'))\n",
    "    line = next(file)\n",
    "    print(line.strip('\\n'))\n",
    "    line = next(file)\n",
    "    print(line.strip('\\n'))"
   ]
  },
  {
   "cell_type": "code",
   "execution_count": 13,
   "id": "09eb49d5",
   "metadata": {},
   "outputs": [
    {
     "name": "stdout",
     "output_type": "stream",
     "text": [
      "<range_iterator object at 0x0000027F0702FC70>\n",
      "0\n",
      "1\n",
      "2\n"
     ]
    }
   ],
   "source": [
    "i = iter(range(0, 3))\n",
    "print(i)\n",
    "print(next(i))\n",
    "print(next(i))\n",
    "print(next(i))"
   ]
  },
  {
   "cell_type": "code",
   "execution_count": 15,
   "id": "f281d602",
   "metadata": {},
   "outputs": [
    {
     "name": "stdout",
     "output_type": "stream",
     "text": [
      "<list_iterator object at 0x0000027F07C5C1C0>\n",
      "1\n",
      "2\n",
      "3\n"
     ]
    }
   ],
   "source": [
    "l1 = iter([1, 2, 3])\n",
    "print(l1)\n",
    "print(next(l1))\n",
    "print(next(l1))\n",
    "print(next(l1))"
   ]
  },
  {
   "cell_type": "code",
   "execution_count": null,
   "id": "b2ca1e44",
   "metadata": {},
   "outputs": [],
   "source": []
  }
 ],
 "metadata": {
  "kernelspec": {
   "display_name": "Python 3 (ipykernel)",
   "language": "python",
   "name": "python3"
  },
  "language_info": {
   "codemirror_mode": {
    "name": "ipython",
    "version": 3
   },
   "file_extension": ".py",
   "mimetype": "text/x-python",
   "name": "python",
   "nbconvert_exporter": "python",
   "pygments_lexer": "ipython3",
   "version": "3.9.13"
  }
 },
 "nbformat": 4,
 "nbformat_minor": 5
}
