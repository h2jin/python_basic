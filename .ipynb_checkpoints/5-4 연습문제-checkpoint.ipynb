{
 "cells": [
  {
   "cell_type": "markdown",
   "id": "34a782e5",
   "metadata": {},
   "source": [
    "4. for문을 사용하여 다음과 같이 별(*)을 표시하는 프로그램을 작성해 보자."
   ]
  },
  {
   "cell_type": "code",
   "execution_count": 9,
   "id": "4678e609",
   "metadata": {},
   "outputs": [
    {
     "name": "stdout",
     "output_type": "stream",
     "text": [
      "입력: 5\n",
      "    * \n",
      "  * * * \n",
      "* * * * * \n",
      "  * * * \n",
      "    * \n"
     ]
    }
   ],
   "source": [
    "n = int(input('입력: '))\n",
    "\n",
    "inc = 0\n",
    "sign = 1\n",
    "for i in range(n):\n",
    "    for j in range(n//2 -inc):\n",
    "        print(' ', end=' ')\n",
    "    for j in range((inc*2)+1):\n",
    "        print('*', end=' ')\n",
    "    print()\n",
    "    if i == n//2:\n",
    "        sign = -sign\n",
    "    inc += sign\n",
    "    "
   ]
  },
  {
   "cell_type": "markdown",
   "id": "937040da",
   "metadata": {},
   "source": [
    "5. 표준 입력으로 년 월 일을 입력하면 요일을 출력하는 프로그램을 구현하시오.\n",
    "\n",
    "입력: 2021 4 30\n",
    "\n",
    "출력: 금요일\n",
    "\n",
    "﻿"
   ]
  },
  {
   "cell_type": "code",
   "execution_count": 5,
   "id": "4c0ff313",
   "metadata": {},
   "outputs": [
    {
     "name": "stdout",
     "output_type": "stream",
     "text": [
      "입력(년, 월, 일):2021 04 30\n",
      "금요일\n"
     ]
    }
   ],
   "source": [
    "year, month, day = map(int, input('입력(년, 월, 일):').split())\n",
    "m_days = [[31, 28, 31, 30, 31, 30, 31, 31, 30, 31, 30, 31], \n",
    "          [31, 29, 31, 30, 31, 30, 31, 31, 30, 31, 30, 31]]\n",
    "week = [\"일\",\"월\", \"화\", \"수\", \"목\", \"금\", \"토\"]\n",
    "\n",
    "# print(year, month, day)\n",
    "\n",
    "total = 0\n",
    "for i in range(1,year):\n",
    "    total += 365\n",
    "    if((i%4==0) and (i%100!=0) or (i%400==0)):\n",
    "        total += 1\n",
    "# print(total)\n",
    "\n",
    "for i in range(month-1):\n",
    "    if((year%4==0) and (year%100!=0) or (year%400==0)):\n",
    "        total += m_days[1][i]\n",
    "    else:\n",
    "        total += m_days[0][i]\n",
    "\n",
    "total += day\n",
    "\n",
    "print(week[total%7] + \"요일\")"
   ]
  },
  {
   "cell_type": "code",
   "execution_count": null,
   "id": "842bea5c",
   "metadata": {},
   "outputs": [],
   "source": []
  }
 ],
 "metadata": {
  "kernelspec": {
   "display_name": "Python 3 (ipykernel)",
   "language": "python",
   "name": "python3"
  },
  "language_info": {
   "codemirror_mode": {
    "name": "ipython",
    "version": 3
   },
   "file_extension": ".py",
   "mimetype": "text/x-python",
   "name": "python",
   "nbconvert_exporter": "python",
   "pygments_lexer": "ipython3",
   "version": "3.9.13"
  }
 },
 "nbformat": 4,
 "nbformat_minor": 5
}
