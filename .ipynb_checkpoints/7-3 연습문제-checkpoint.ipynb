{
 "cells": [
  {
   "cell_type": "markdown",
   "id": "1da4d706",
   "metadata": {},
   "source": [
    "1. 문자열이 저장된 word.txt 파일이 주어진다. 해당 파일에서 문자 'p'나 'P'가 포함된 단어를 각 줄에 출력하는 프로그램을 구현하시오."
   ]
  },
  {
   "cell_type": "code",
   "execution_count": 5,
   "id": "34e01e44",
   "metadata": {},
   "outputs": [],
   "source": [
    "word = \"\"\"Python is an interpreted high level general-purpose programming language. Python's\n",
    "design philosophy emphasizes code readability with its notable\n",
    "use of significant indentation. Its language constructs as well as its\n",
    "object-oriented approach aim to help programmers write clear, logical code for\n",
    "small and large-scale projects.\"\"\"\n",
    "with open('word.txt', 'w') as file:\n",
    "    file.write(word)"
   ]
  },
  {
   "cell_type": "code",
   "execution_count": 4,
   "id": "b32cfc72",
   "metadata": {},
   "outputs": [
    {
     "name": "stdout",
     "output_type": "stream",
     "text": [
      "Python\n",
      "interpreted\n",
      "general-purpose\n",
      "programming\n",
      "Python's\n",
      "philosophy\n",
      "emphasizes\n",
      "approach\n",
      "help\n",
      "programmers\n",
      "projects.\n"
     ]
    }
   ],
   "source": [
    "with open('word.txt', 'r') as file:\n",
    "    words = file.read()\n",
    "    \n",
    "temp = words.split()\n",
    "# print(temp)\n",
    "\n",
    "word_list = []\n",
    "\n",
    "for word in temp:\n",
    "    if 'p' in word or 'P' in word:\n",
    "        word_list.append(word)\n",
    "        \n",
    "for word in word_list:\n",
    "    print(word)"
   ]
  },
  {
   "cell_type": "markdown",
   "id": "f3cfa225",
   "metadata": {},
   "source": [
    "﻿2. 문자열이 저장된 word.txt 파일이 주어진다. 해당 파일에서 모든 단어의 첫 문자를 대문자로 바꿔서 출력하시오."
   ]
  },
  {
   "cell_type": "code",
   "execution_count": 9,
   "id": "4678f8aa",
   "metadata": {},
   "outputs": [
    {
     "name": "stdout",
     "output_type": "stream",
     "text": [
      "Python Is An Interpreted High Level General-purpose Programming Language. Python's\n",
      "Design Philosophy Emphasizes Code Readability With Its Notable\n",
      "Use Of Significant Indentation. Its Language Constructs As Well As Its\n",
      "Object-oriented Approach Aim To Help Programmers Write Clear, Logical Code For\n",
      "Small And Large-scale Projects.\n"
     ]
    }
   ],
   "source": [
    "with open('word.txt', 'r') as file:\n",
    "    words = file.read()\n",
    "\n",
    "# print(words)\n",
    "temp = []\n",
    "flag = 0\n",
    "\n",
    "for i in range(len(words)):\n",
    "    if words[i] ==' ' or words[i]=='\\n' or words[i]=='\\t':\n",
    "        temp.append(words[i])\n",
    "        flag = 0\n",
    "    else:\n",
    "        if flag == 0:\n",
    "            temp.append(words[i].upper())\n",
    "            flag = 1\n",
    "        else:\n",
    "            temp.append(words[i])\n",
    "\n",
    "print(''.join(temp))"
   ]
  },
  {
   "cell_type": "code",
   "execution_count": 10,
   "id": "982ddc2d",
   "metadata": {},
   "outputs": [
    {
     "name": "stdout",
     "output_type": "stream",
     "text": [
      "Python Is An Interpreted High Level General-purpose Programming Language. Python's\n",
      "Design Philosophy Emphasizes Code Readability With Its Notable\n",
      "Use Of Significant Indentation. Its Language Constructs As Well As Its\n",
      "Object-oriented Approach Aim To Help Programmers Write Clear, Logical Code For\n",
      "Small And Large-scale Projects.Python Is An Interpreted High Level General-purpose Programming Language. Python's\n",
      "Design Philosophy Emphasizes Code Readability With Its Notable\n",
      "Use Of Significant Indentation. Its Language Constructs As Well As Its\n",
      "Object-oriented Approach Aim To Help Programmers Write Clear, Logical Code For\n",
      "Small And Large-scale Projects.\n"
     ]
    }
   ],
   "source": [
    "for i in range(len(words)):\n",
    "    if words[i] ==' ' or words[i]=='\\n' or words[i]=='\\t':\n",
    "        flag = 0\n",
    "    else:\n",
    "        if flag == 0:\n",
    "            temp.append(words[i].upper())\n",
    "            flag = 1\n",
    "            continue\n",
    "            \n",
    "    temp.append(words[i])\n",
    "    \n",
    "print(''.join(temp))    "
   ]
  },
  {
   "cell_type": "markdown",
   "id": "e30cba25",
   "metadata": {},
   "source": [
    "﻿3. 문자열이 저장된 word.txt 파일이 주어진다. 해당 파일에서 라인수와 워드수를 출력하는 프로그램을 구현하시오."
   ]
  },
  {
   "cell_type": "code",
   "execution_count": 12,
   "id": "e75d50b6",
   "metadata": {},
   "outputs": [
    {
     "name": "stdout",
     "output_type": "stream",
     "text": [
      "단어수 = 45, 라인수 = 5\n"
     ]
    }
   ],
   "source": [
    "with open('word.txt') as file:\n",
    "    words = file.read()\n",
    "    \n",
    "line_count = 1\n",
    "word_count = 1\n",
    "flag = 0\n",
    "\n",
    "for i in range(len(words)):\n",
    "    if words[i] == '\\n':\n",
    "        line_count+=1\n",
    "    if words[i] ==' ' or words[i]=='\\n' or words[i]=='\\t':\n",
    "        flag = 0\n",
    "    else:\n",
    "        if flag == 0:\n",
    "            word_count += 1\n",
    "            flag = 1\n",
    "        \n",
    "print(\"단어수 = %d, 라인수 = %d\" %(word_count, line_count))        "
   ]
  },
  {
   "cell_type": "code",
   "execution_count": null,
   "id": "bf845e00",
   "metadata": {},
   "outputs": [],
   "source": []
  }
 ],
 "metadata": {
  "kernelspec": {
   "display_name": "Python 3 (ipykernel)",
   "language": "python",
   "name": "python3"
  },
  "language_info": {
   "codemirror_mode": {
    "name": "ipython",
    "version": 3
   },
   "file_extension": ".py",
   "mimetype": "text/x-python",
   "name": "python",
   "nbconvert_exporter": "python",
   "pygments_lexer": "ipython3",
   "version": "3.9.13"
  }
 },
 "nbformat": 4,
 "nbformat_minor": 5
}
