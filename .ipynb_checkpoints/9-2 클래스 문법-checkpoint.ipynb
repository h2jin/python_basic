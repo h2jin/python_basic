{
 "cells": [
  {
   "cell_type": "markdown",
   "id": "460c8acc",
   "metadata": {},
   "source": [
    "### 클래스 문법"
   ]
  },
  {
   "cell_type": "markdown",
   "id": "c592072a",
   "metadata": {},
   "source": [
    "#### 빈 클래스 만들기"
   ]
  },
  {
   "cell_type": "code",
   "execution_count": 1,
   "id": "56312329",
   "metadata": {},
   "outputs": [],
   "source": [
    "class MyClass:\n",
    "    pass"
   ]
  },
  {
   "cell_type": "markdown",
   "id": "afd551bc",
   "metadata": {},
   "source": [
    "클래스 인스턴스 만들기"
   ]
  },
  {
   "cell_type": "code",
   "execution_count": 2,
   "id": "48b1d1d0",
   "metadata": {
    "scrolled": true
   },
   "outputs": [
    {
     "name": "stdout",
     "output_type": "stream",
     "text": [
      "48\n",
      "0x22547cb2fa0\n"
     ]
    }
   ],
   "source": [
    "import sys\n",
    "c1 = MyClass()\n",
    "print(sys.getsizeof(c1)) # 클래스에 아무것도 없더라도 메모리의 크기가 잡힌다.\n",
    "print(hex(id(c1))) "
   ]
  },
  {
   "cell_type": "markdown",
   "id": "6eec39b0",
   "metadata": {},
   "source": [
    "파이썬에서는 클래스도 객체이다."
   ]
  },
  {
   "cell_type": "code",
   "execution_count": 3,
   "id": "2baaf2e9",
   "metadata": {},
   "outputs": [
    {
     "name": "stdout",
     "output_type": "stream",
     "text": [
      "48\n",
      "1064\n",
      "0x22547e1b3d0\n",
      "0x22544c7b7e0\n",
      "['__class__', '__delattr__', '__dict__', '__dir__', '__doc__', '__eq__', '__format__', '__ge__', '__getattribute__', '__gt__', '__hash__', '__init__', '__init_subclass__', '__le__', '__lt__', '__module__', '__ne__', '__new__', '__reduce__', '__reduce_ex__', '__repr__', '__setattr__', '__sizeof__', '__str__', '__subclasshook__', '__weakref__']\n",
      "<class '__main__.MyClass'>\n",
      "['__class__', '__delattr__', '__dict__', '__dir__', '__doc__', '__eq__', '__format__', '__ge__', '__getattribute__', '__gt__', '__hash__', '__init__', '__init_subclass__', '__le__', '__lt__', '__module__', '__ne__', '__new__', '__reduce__', '__reduce_ex__', '__repr__', '__setattr__', '__sizeof__', '__str__', '__subclasshook__', '__weakref__']\n",
      "<class 'type'>\n"
     ]
    }
   ],
   "source": [
    "import sys\n",
    "c1 = MyClass()\n",
    "print(sys.getsizeof(c1))\n",
    "print(sys.getsizeof(MyClass))\n",
    "print(hex(id(c1)))\n",
    "print(hex(id(MyClass)))\n",
    "print(dir(c1))\n",
    "print(c1.__class__)\n",
    "print(dir(MyClass))\n",
    "print(MyClass.__class__)"
   ]
  },
  {
   "cell_type": "markdown",
   "id": "000fe78d",
   "metadata": {},
   "source": [
    "클래스 멤버"
   ]
  },
  {
   "cell_type": "code",
   "execution_count": 4,
   "id": "ddf92290",
   "metadata": {},
   "outputs": [],
   "source": [
    "class Rectangle:\n",
    "    count = 0 # 클래스 변수\n",
    "    \n",
    "    # 초기자(initializer)\n",
    "    def __init__(self, width, height):\n",
    "        # self.* : 인스턴스 변수\n",
    "        self.width = width\n",
    "        self.height = height\n",
    "        Rectangle.count += 1\n",
    "        \n",
    "    # 메서드\n",
    "    def clacArea(self):\n",
    "        area = self.width * self.height\n",
    "        return area"
   ]
  },
  {
   "cell_type": "code",
   "execution_count": 5,
   "id": "60d41ee7",
   "metadata": {},
   "outputs": [
    {
     "name": "stdout",
     "output_type": "stream",
     "text": [
      "['__class__', '__delattr__', '__dict__', '__dir__', '__doc__', '__eq__', '__format__', '__ge__', '__getattribute__', '__gt__', '__hash__', '__init__', '__init_subclass__', '__le__', '__lt__', '__module__', '__ne__', '__new__', '__reduce__', '__reduce_ex__', '__repr__', '__setattr__', '__sizeof__', '__str__', '__subclasshook__', '__weakref__', 'clacArea', 'count']\n",
      "['__class__', '__delattr__', '__dict__', '__dir__', '__doc__', '__eq__', '__format__', '__ge__', '__getattribute__', '__gt__', '__hash__', '__init__', '__init_subclass__', '__le__', '__lt__', '__module__', '__ne__', '__new__', '__reduce__', '__reduce_ex__', '__repr__', '__setattr__', '__sizeof__', '__str__', '__subclasshook__', '__weakref__', 'clacArea', 'count', 'height', 'width']\n",
      "2330526181712\n",
      "2330526181712\n",
      "2\n"
     ]
    }
   ],
   "source": [
    "rect = Rectangle(100, 200)\n",
    "rect1 = Rectangle(100, 200)\n",
    "print(dir(Rectangle))\n",
    "print(dir(rect))\n",
    "print(id(rect.count))\n",
    "print(id(Rectangle.count))\n",
    "print(Rectangle.count)"
   ]
  },
  {
   "cell_type": "markdown",
   "id": "815409c4",
   "metadata": {},
   "source": [
    "private 멤버"
   ]
  },
  {
   "cell_type": "code",
   "execution_count": 6,
   "id": "c8b2e11e",
   "metadata": {},
   "outputs": [],
   "source": [
    "class Rectangle:\n",
    "    def __init__(self, width, height):\n",
    "        self.width = width\n",
    "        self.height = height\n",
    "        \n",
    "        # private 변수 __area\n",
    "        self.__area = width * height\n",
    "        \n",
    "    # private 메서드\n",
    "    def __internalRun(self):\n",
    "        pass"
   ]
  },
  {
   "cell_type": "code",
   "execution_count": 7,
   "id": "9b135ea3",
   "metadata": {},
   "outputs": [
    {
     "ename": "AttributeError",
     "evalue": "'Rectangle' object has no attribute '__area'",
     "output_type": "error",
     "traceback": [
      "\u001b[1;31m---------------------------------------------------------------------------\u001b[0m",
      "\u001b[1;31mAttributeError\u001b[0m                            Traceback (most recent call last)",
      "\u001b[1;32m~\\AppData\\Local\\Temp\\ipykernel_3056\\1304292310.py\u001b[0m in \u001b[0;36m<module>\u001b[1;34m\u001b[0m\n\u001b[0;32m      1\u001b[0m \u001b[0mrect\u001b[0m \u001b[1;33m=\u001b[0m \u001b[0mRectangle\u001b[0m\u001b[1;33m(\u001b[0m\u001b[1;36m200\u001b[0m\u001b[1;33m,\u001b[0m \u001b[1;36m300\u001b[0m\u001b[1;33m)\u001b[0m\u001b[1;33m\u001b[0m\u001b[1;33m\u001b[0m\u001b[0m\n\u001b[1;32m----> 2\u001b[1;33m \u001b[0mrect\u001b[0m\u001b[1;33m.\u001b[0m\u001b[0m__area\u001b[0m\u001b[1;33m\u001b[0m\u001b[1;33m\u001b[0m\u001b[0m\n\u001b[0m\u001b[0;32m      3\u001b[0m \u001b[0mrect\u001b[0m\u001b[1;33m.\u001b[0m\u001b[0m__internalRun\u001b[0m\u001b[1;33m(\u001b[0m\u001b[1;33m)\u001b[0m\u001b[1;33m\u001b[0m\u001b[1;33m\u001b[0m\u001b[0m\n",
      "\u001b[1;31mAttributeError\u001b[0m: 'Rectangle' object has no attribute '__area'"
     ]
    }
   ],
   "source": [
    "rect = Rectangle(200, 300)\n",
    "rect.__area\n",
    "rect.__internalRun()"
   ]
  },
  {
   "cell_type": "markdown",
   "id": "464cd609",
   "metadata": {},
   "source": [
    "정적 메서드와 클래스 메서드"
   ]
  },
  {
   "cell_type": "code",
   "execution_count": 1,
   "id": "e500d259",
   "metadata": {},
   "outputs": [],
   "source": [
    "class Rectangle:\n",
    "    count = 0 # 클래스 변수\n",
    "    \n",
    "    def __init__(self, width, height):\n",
    "        # self.* : 인스턴스 변수\n",
    "        self.width = width\n",
    "        self.height = height\n",
    "        Rectangle.count += 1\n",
    "        \n",
    "    # 인스턴스 메서드\n",
    "    def calcArea(self):\n",
    "        area = self.width * self.height\n",
    "        return area\n",
    "    \n",
    "    # 정적 메서드\n",
    "    @staticmethod\n",
    "    def isSquare(rectWidth, rectHeight):\n",
    "        return rectWidth == rectHeight\n",
    "    \n",
    "    # 클래스 메서드\n",
    "    @classmethod\n",
    "    def printCount(cls):\n",
    "        print(cls.count)"
   ]
  },
  {
   "cell_type": "code",
   "execution_count": 2,
   "id": "a8fea432",
   "metadata": {},
   "outputs": [
    {
     "name": "stdout",
     "output_type": "stream",
     "text": [
      "True\n",
      "2\n"
     ]
    }
   ],
   "source": [
    "# 테스트\n",
    "square = Rectangle.isSquare(5, 5)\n",
    "print(square) # True\n",
    "\n",
    "rec1 = Rectangle(5, 5)\n",
    "rec2 = Rectangle(2, 5)\n",
    "rec1.printCount() #2"
   ]
  },
  {
   "cell_type": "markdown",
   "id": "88ed3091",
   "metadata": {},
   "source": [
    "1. 정적메서드는 전역적이므로 self를 인자로 받지 않는다. 따라서 인스턴스 변수에는 접근할 수 없다. self가 없어도 호출 가능하므로 객체를 만들지 않아도 호출 가능하다.\n",
    "\n",
    "2. 클래스 메서드는 클래스에 속한 메서드이므로 클래스 자체의 주소를 인자로 받아서 클래스 변수를 접근할 수 있다."
   ]
  },
  {
   "cell_type": "markdown",
   "id": "81160ecd",
   "metadata": {},
   "source": [
    "클래스 인스턴스의 생성과 사용"
   ]
  },
  {
   "cell_type": "code",
   "execution_count": 5,
   "id": "f8343579",
   "metadata": {},
   "outputs": [
    {
     "name": "stdout",
     "output_type": "stream",
     "text": [
      "area =  6\n",
      "Width =  10\n",
      "area =  30\n",
      "4\n",
      "4\n"
     ]
    }
   ],
   "source": [
    "# 인스턴스 생성\n",
    "r = Rectangle(2, 3)\n",
    "\n",
    "# 메서드 호출\n",
    "area = r.calcArea()\n",
    "print(\"area = \", area)\n",
    "\n",
    "# 인스턴스 변수 엑세스\n",
    "r.width = 10\n",
    "print(\"Width = \", r.width)\n",
    "print(\"area = \", r.calcArea())\n",
    "\n",
    "#클래스 변수 엑세스\n",
    "print(Rectangle.count)\n",
    "print(r.count)"
   ]
  },
  {
   "cell_type": "markdown",
   "id": "2886a69e",
   "metadata": {},
   "source": [
    "연산자 재정의"
   ]
  },
  {
   "cell_type": "code",
   "execution_count": 9,
   "id": "85ccf3b6",
   "metadata": {},
   "outputs": [
    {
     "name": "stdout",
     "output_type": "stream",
     "text": [
      "__add__()\n",
      "30 20\n"
     ]
    }
   ],
   "source": [
    "class Rectangle:\n",
    "    count = 0 # 클래스 변수\n",
    "    \n",
    "    def __init__(self, width, height):\n",
    "        # self.* : 인스턴스 변수\n",
    "        self.width = width\n",
    "        self.height = height\n",
    "        Rectangle.count += 1\n",
    "        \n",
    "    def __add__(self, other):\n",
    "        print('__add__()')\n",
    "        obj = Rectangle(self.width + other.width, self.height + other.height)\n",
    "        return obj\n",
    "    \n",
    "# 사용 예\n",
    "r1 = Rectangle(10, 5)\n",
    "r2 = Rectangle(20, 15)\n",
    "r3 = r1 + r2 #  __add__()가 호출됨. __add__() 가 없으면 Error 발생!\n",
    "print(r3.width, r3.height)"
   ]
  },
  {
   "cell_type": "code",
   "execution_count": null,
   "id": "7c7c1ec4",
   "metadata": {},
   "outputs": [],
   "source": []
  }
 ],
 "metadata": {
  "kernelspec": {
   "display_name": "Python 3 (ipykernel)",
   "language": "python",
   "name": "python3"
  },
  "language_info": {
   "codemirror_mode": {
    "name": "ipython",
    "version": 3
   },
   "file_extension": ".py",
   "mimetype": "text/x-python",
   "name": "python",
   "nbconvert_exporter": "python",
   "pygments_lexer": "ipython3",
   "version": "3.9.13"
  }
 },
 "nbformat": 4,
 "nbformat_minor": 5
}
