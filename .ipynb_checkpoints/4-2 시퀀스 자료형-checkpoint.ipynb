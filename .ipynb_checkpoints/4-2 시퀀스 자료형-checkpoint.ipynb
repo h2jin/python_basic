{
 "cells": [
  {
   "cell_type": "markdown",
   "id": "7364c3ca",
   "metadata": {},
   "source": [
    "특정 값이 있는지 확인하기"
   ]
  },
  {
   "cell_type": "markdown",
   "id": "98667b52",
   "metadata": {},
   "source": [
    "값 in 시퀀스 객체"
   ]
  },
  {
   "cell_type": "code",
   "execution_count": 1,
   "id": "dbf09987",
   "metadata": {},
   "outputs": [
    {
     "name": "stdout",
     "output_type": "stream",
     "text": [
      "True\n",
      "False\n"
     ]
    }
   ],
   "source": [
    "a = [0, 10, 20, 30, 40, 50, 60, 70, 80, 90]\n",
    "print(30 in a)\n",
    "print(100 in a)"
   ]
  },
  {
   "cell_type": "markdown",
   "id": "8621471a",
   "metadata": {},
   "source": [
    "값 not in 시퀀스 객체"
   ]
  },
  {
   "cell_type": "code",
   "execution_count": 2,
   "id": "daef0d6f",
   "metadata": {},
   "outputs": [
    {
     "name": "stdout",
     "output_type": "stream",
     "text": [
      "True\n",
      "False\n"
     ]
    }
   ],
   "source": [
    "a = [0, 10, 20, 30, 40, 50, 60, 70, 80, 90]\n",
    "print(100 not in a)\n",
    "print(30 not in a)"
   ]
  },
  {
   "cell_type": "code",
   "execution_count": 3,
   "id": "41902480",
   "metadata": {},
   "outputs": [
    {
     "data": {
      "text/plain": [
       "True"
      ]
     },
     "execution_count": 3,
     "metadata": {},
     "output_type": "execute_result"
    }
   ],
   "source": [
    "43 in (38, 76, 43, 62, 19)"
   ]
  },
  {
   "cell_type": "code",
   "execution_count": 4,
   "id": "b1dd1730",
   "metadata": {},
   "outputs": [
    {
     "data": {
      "text/plain": [
       "True"
      ]
     },
     "execution_count": 4,
     "metadata": {},
     "output_type": "execute_result"
    }
   ],
   "source": [
    "1 in range(10)"
   ]
  },
  {
   "cell_type": "code",
   "execution_count": 5,
   "id": "da8ce779",
   "metadata": {},
   "outputs": [
    {
     "data": {
      "text/plain": [
       "True"
      ]
     },
     "execution_count": 5,
     "metadata": {},
     "output_type": "execute_result"
    }
   ],
   "source": [
    "'P' in 'Hello, Python'"
   ]
  },
  {
   "cell_type": "markdown",
   "id": "078c0802",
   "metadata": {},
   "source": [
    "시퀀스 객체 연결하기"
   ]
  },
  {
   "cell_type": "markdown",
   "id": "654db857",
   "metadata": {},
   "source": [
    "시퀀스객체1 + 시퀀스객체2"
   ]
  },
  {
   "cell_type": "code",
   "execution_count": 6,
   "id": "8bd8e1c6",
   "metadata": {},
   "outputs": [
    {
     "data": {
      "text/plain": [
       "[0, 10, 20, 30, 9, 8, 7, 6]"
      ]
     },
     "execution_count": 6,
     "metadata": {},
     "output_type": "execute_result"
    }
   ],
   "source": [
    "a = [0, 10, 20, 30]\n",
    "b = [9, 8, 7, 6]\n",
    "a + b"
   ]
  },
  {
   "cell_type": "markdown",
   "id": "d215db37",
   "metadata": {},
   "source": [
    "range는 +로 연결할 수 없다."
   ]
  },
  {
   "cell_type": "code",
   "execution_count": 8,
   "id": "32e8dc9d",
   "metadata": {},
   "outputs": [
    {
     "ename": "TypeError",
     "evalue": "unsupported operand type(s) for +: 'range' and 'range'",
     "output_type": "error",
     "traceback": [
      "\u001b[1;31m---------------------------------------------------------------------------\u001b[0m",
      "\u001b[1;31mTypeError\u001b[0m                                 Traceback (most recent call last)",
      "\u001b[1;32m~\\AppData\\Local\\Temp\\ipykernel_9744\\819909566.py\u001b[0m in \u001b[0;36m<module>\u001b[1;34m\u001b[0m\n\u001b[1;32m----> 1\u001b[1;33m \u001b[0mrange\u001b[0m\u001b[1;33m(\u001b[0m\u001b[1;36m0\u001b[0m\u001b[1;33m,\u001b[0m \u001b[1;36m10\u001b[0m\u001b[1;33m)\u001b[0m \u001b[1;33m+\u001b[0m \u001b[0mrange\u001b[0m\u001b[1;33m(\u001b[0m\u001b[1;36m10\u001b[0m\u001b[1;33m,\u001b[0m \u001b[1;36m20\u001b[0m\u001b[1;33m)\u001b[0m\u001b[1;33m\u001b[0m\u001b[1;33m\u001b[0m\u001b[0m\n\u001b[0m",
      "\u001b[1;31mTypeError\u001b[0m: unsupported operand type(s) for +: 'range' and 'range'"
     ]
    }
   ],
   "source": [
    "range(0, 10) + range(10, 20)"
   ]
  },
  {
   "cell_type": "code",
   "execution_count": 9,
   "id": "3044b058",
   "metadata": {},
   "outputs": [
    {
     "data": {
      "text/plain": [
       "[0, 1, 2, 3, 4, 5, 6, 7, 8, 9, 10, 11, 12, 13, 14, 15, 16, 17, 18, 19]"
      ]
     },
     "execution_count": 9,
     "metadata": {},
     "output_type": "execute_result"
    }
   ],
   "source": [
    "# range(0, 10) + range(10, 20)\n",
    "list(range(0, 10)) + list(range(10, 20))"
   ]
  },
  {
   "cell_type": "markdown",
   "id": "4d0faf85",
   "metadata": {},
   "source": [
    "시퀀스 객체 반복하기\n",
    "\n",
    "시퀀스객체 * 정수, 정수 * 시퀀스객체"
   ]
  },
  {
   "cell_type": "code",
   "execution_count": 10,
   "id": "e5040a8a",
   "metadata": {},
   "outputs": [
    {
     "data": {
      "text/plain": [
       "[0, 10, 20, 30, 0, 10, 20, 30, 0, 10, 20, 30]"
      ]
     },
     "execution_count": 10,
     "metadata": {},
     "output_type": "execute_result"
    }
   ],
   "source": [
    "[0, 10, 20, 30] * 3\n",
    "3 * [0, 10, 20, 30]"
   ]
  },
  {
   "cell_type": "markdown",
   "id": "098a75f6",
   "metadata": {},
   "source": [
    "range는 *로 반복할 수 없다.\n",
    "\n",
    "range는 리스트 또는 튜플로 만들어서 반복하면 된다."
   ]
  },
  {
   "cell_type": "code",
   "execution_count": 13,
   "id": "994463ce",
   "metadata": {},
   "outputs": [
    {
     "data": {
      "text/plain": [
       "[0, 2, 4, 0, 2, 4, 0, 2, 4]"
      ]
     },
     "execution_count": 13,
     "metadata": {},
     "output_type": "execute_result"
    }
   ],
   "source": [
    "# range(0, 5, 2) * 3\n",
    "list(range(0, 5, 2)) *3"
   ]
  },
  {
   "cell_type": "markdown",
   "id": "c3bb4bf3",
   "metadata": {},
   "source": [
    "문자열은 * 연산자를 사용하여 반복할 수 있다."
   ]
  },
  {
   "cell_type": "code",
   "execution_count": 14,
   "id": "828e2fef",
   "metadata": {},
   "outputs": [
    {
     "data": {
      "text/plain": [
       "'HelloHelloHello'"
      ]
     },
     "execution_count": 14,
     "metadata": {},
     "output_type": "execute_result"
    }
   ],
   "source": [
    "'Hello' * 3"
   ]
  },
  {
   "cell_type": "markdown",
   "id": "d369442d",
   "metadata": {},
   "source": [
    "시퀀스 객체의 요소 개수 구하기\n",
    "\n",
    "리스트와 튜플의 요소 개수 구하기"
   ]
  },
  {
   "cell_type": "code",
   "execution_count": 18,
   "id": "24618a46",
   "metadata": {},
   "outputs": [
    {
     "data": {
      "text/plain": [
       "10"
      ]
     },
     "execution_count": 18,
     "metadata": {},
     "output_type": "execute_result"
    }
   ],
   "source": [
    "a = [0, 10, 20, 30, 40, 50, 60, 70, 80, 90]\n",
    "len(a)"
   ]
  },
  {
   "cell_type": "code",
   "execution_count": 17,
   "id": "7ab12f8f",
   "metadata": {},
   "outputs": [
    {
     "data": {
      "text/plain": [
       "5"
      ]
     },
     "execution_count": 17,
     "metadata": {},
     "output_type": "execute_result"
    }
   ],
   "source": [
    "b = (38, 76, 43, 62, 19)\n",
    "len(b)"
   ]
  },
  {
   "cell_type": "markdown",
   "id": "a25443d9",
   "metadata": {},
   "source": [
    "range의 숫자 생성 개수 구하기"
   ]
  },
  {
   "cell_type": "code",
   "execution_count": 19,
   "id": "7270d3ea",
   "metadata": {},
   "outputs": [
    {
     "data": {
      "text/plain": [
       "5"
      ]
     },
     "execution_count": 19,
     "metadata": {},
     "output_type": "execute_result"
    }
   ],
   "source": [
    "len(range(0, 10, 2)) #range(start, end, step) [0, 2, 4, 6, 8]"
   ]
  },
  {
   "cell_type": "markdown",
   "id": "019ccd73",
   "metadata": {},
   "source": [
    "문자열의 길이 구하기"
   ]
  },
  {
   "cell_type": "code",
   "execution_count": 20,
   "id": "877e0174",
   "metadata": {},
   "outputs": [
    {
     "data": {
      "text/plain": [
       "13"
      ]
     },
     "execution_count": 20,
     "metadata": {},
     "output_type": "execute_result"
    }
   ],
   "source": [
    "hello = 'Hello, world!'\n",
    "len(hello)"
   ]
  },
  {
   "cell_type": "code",
   "execution_count": 21,
   "id": "da31042d",
   "metadata": {},
   "outputs": [
    {
     "data": {
      "text/plain": [
       "5"
      ]
     },
     "execution_count": 21,
     "metadata": {},
     "output_type": "execute_result"
    }
   ],
   "source": [
    "hello = '안녕하세요'\n",
    "len(hello)"
   ]
  },
  {
   "cell_type": "code",
   "execution_count": 22,
   "id": "02ff6b2e",
   "metadata": {},
   "outputs": [
    {
     "data": {
      "text/plain": [
       "15"
      ]
     },
     "execution_count": 22,
     "metadata": {},
     "output_type": "execute_result"
    }
   ],
   "source": [
    "hello = '안녕하세요'\n",
    "len(hello.encode('utf-8'))"
   ]
  },
  {
   "cell_type": "markdown",
   "id": "91de989e",
   "metadata": {},
   "source": [
    "인덱스 사용하기 \n",
    "\n",
    "시퀀스 객체[인덱스]"
   ]
  },
  {
   "cell_type": "code",
   "execution_count": 23,
   "id": "caeb94d3",
   "metadata": {},
   "outputs": [
    {
     "name": "stdout",
     "output_type": "stream",
     "text": [
      "38\n",
      "43\n",
      "19\n"
     ]
    }
   ],
   "source": [
    "a = [38, 76, 43, 62, 19]\n",
    "print(a[0])\n",
    "print(a[2])\n",
    "print(a[4])"
   ]
  },
  {
   "cell_type": "code",
   "execution_count": 24,
   "id": "8914b8f3",
   "metadata": {},
   "outputs": [
    {
     "name": "stdout",
     "output_type": "stream",
     "text": [
      "38\n",
      "43\n",
      "19\n"
     ]
    }
   ],
   "source": [
    "b = (38, 76, 43, 62, 19)\n",
    "print(b[0])\n",
    "print(b[2])\n",
    "print(b[4])"
   ]
  },
  {
   "cell_type": "code",
   "execution_count": 25,
   "id": "d3ef04ea",
   "metadata": {},
   "outputs": [
    {
     "name": "stdout",
     "output_type": "stream",
     "text": [
      "4\n",
      "8\n"
     ]
    }
   ],
   "source": [
    "r = range(0, 10, 2)\n",
    "print(r[2])\n",
    "print(r[4])"
   ]
  },
  {
   "cell_type": "code",
   "execution_count": 26,
   "id": "19fba6e4",
   "metadata": {},
   "outputs": [
    {
     "name": "stdout",
     "output_type": "stream",
     "text": [
      "w\n"
     ]
    }
   ],
   "source": [
    "hello = 'Hello, world!'\n",
    "print(hello[7])"
   ]
  },
  {
   "cell_type": "markdown",
   "id": "d08791ca",
   "metadata": {},
   "source": [
    "음수 인텍스 지정하기\n",
    "\n",
    "시퀀스 객체[-인덱스]"
   ]
  },
  {
   "cell_type": "code",
   "execution_count": 27,
   "id": "fe28f5d0",
   "metadata": {},
   "outputs": [
    {
     "name": "stdout",
     "output_type": "stream",
     "text": [
      "19\n",
      "43\n",
      "38\n"
     ]
    }
   ],
   "source": [
    "a = [38, 76, 43, 62, 19]\n",
    "print(a[-1])\n",
    "print(a[-3])\n",
    "print(a[-5])"
   ]
  },
  {
   "cell_type": "code",
   "execution_count": 28,
   "id": "551f0bf5",
   "metadata": {},
   "outputs": [
    {
     "name": "stdout",
     "output_type": "stream",
     "text": [
      "19\n"
     ]
    }
   ],
   "source": [
    "b = (38, 76, 43, 62, 19)\n",
    "print(b[-1])"
   ]
  },
  {
   "cell_type": "code",
   "execution_count": 29,
   "id": "dd40188b",
   "metadata": {},
   "outputs": [
    {
     "name": "stdout",
     "output_type": "stream",
     "text": [
      "6\n",
      "2\n"
     ]
    }
   ],
   "source": [
    "r = range(0, 10, 2)\n",
    "print(r[-2])\n",
    "print(r[-4])"
   ]
  },
  {
   "cell_type": "code",
   "execution_count": 30,
   "id": "4f25c976",
   "metadata": {},
   "outputs": [
    {
     "name": "stdout",
     "output_type": "stream",
     "text": [
      "r\n"
     ]
    }
   ],
   "source": [
    "hello = 'Hello, world!'\n",
    "print(hello[-4])"
   ]
  },
  {
   "cell_type": "markdown",
   "id": "1b58e131",
   "metadata": {},
   "source": [
    "요소에 값 할당하기\n",
    "\n",
    "\n",
    "시퀀스 객체[인덱스] = 값"
   ]
  },
  {
   "cell_type": "code",
   "execution_count": 32,
   "id": "715ea61c",
   "metadata": {},
   "outputs": [
    {
     "name": "stdout",
     "output_type": "stream",
     "text": [
      "[22, 0, 33, 0, 55]\n"
     ]
    }
   ],
   "source": [
    "a = [0, 0, 0, 0, 0]\n",
    "a[0] = 22\n",
    "a[2] = 33\n",
    "a[4] = 55\n",
    "print(a)"
   ]
  },
  {
   "cell_type": "markdown",
   "id": "4817494b",
   "metadata": {},
   "source": [
    "범위를 벗어난 인덱스"
   ]
  },
  {
   "cell_type": "code",
   "execution_count": 33,
   "id": "f51fdbc2",
   "metadata": {},
   "outputs": [
    {
     "ename": "IndexError",
     "evalue": "list assignment index out of range",
     "output_type": "error",
     "traceback": [
      "\u001b[1;31m---------------------------------------------------------------------------\u001b[0m",
      "\u001b[1;31mIndexError\u001b[0m                                Traceback (most recent call last)",
      "\u001b[1;32m~\\AppData\\Local\\Temp\\ipykernel_9744\\4286711765.py\u001b[0m in \u001b[0;36m<module>\u001b[1;34m\u001b[0m\n\u001b[1;32m----> 1\u001b[1;33m \u001b[0ma\u001b[0m\u001b[1;33m[\u001b[0m\u001b[1;36m5\u001b[0m\u001b[1;33m]\u001b[0m \u001b[1;33m=\u001b[0m \u001b[1;36m77\u001b[0m\u001b[1;33m\u001b[0m\u001b[1;33m\u001b[0m\u001b[0m\n\u001b[0m",
      "\u001b[1;31mIndexError\u001b[0m: list assignment index out of range"
     ]
    }
   ],
   "source": [
    "a[5] = 77 # 에러발생"
   ]
  },
  {
   "cell_type": "markdown",
   "id": "6f0935b0",
   "metadata": {},
   "source": [
    "read only 자료형"
   ]
  },
  {
   "cell_type": "code",
   "execution_count": 35,
   "id": "cbc37a03",
   "metadata": {},
   "outputs": [
    {
     "ename": "TypeError",
     "evalue": "'tuple' object does not support item assignment",
     "output_type": "error",
     "traceback": [
      "\u001b[1;31m---------------------------------------------------------------------------\u001b[0m",
      "\u001b[1;31mTypeError\u001b[0m                                 Traceback (most recent call last)",
      "\u001b[1;32m~\\AppData\\Local\\Temp\\ipykernel_9744\\2073672107.py\u001b[0m in \u001b[0;36m<module>\u001b[1;34m\u001b[0m\n\u001b[0;32m      1\u001b[0m \u001b[0mb\u001b[0m \u001b[1;33m=\u001b[0m \u001b[1;33m(\u001b[0m\u001b[1;36m0\u001b[0m\u001b[1;33m,\u001b[0m \u001b[1;36m0\u001b[0m\u001b[1;33m,\u001b[0m \u001b[1;36m0\u001b[0m\u001b[1;33m,\u001b[0m \u001b[1;36m0\u001b[0m\u001b[1;33m,\u001b[0m \u001b[1;36m0\u001b[0m\u001b[1;33m)\u001b[0m\u001b[1;33m\u001b[0m\u001b[1;33m\u001b[0m\u001b[0m\n\u001b[1;32m----> 2\u001b[1;33m \u001b[0mb\u001b[0m\u001b[1;33m[\u001b[0m\u001b[1;36m0\u001b[0m\u001b[1;33m]\u001b[0m \u001b[1;33m=\u001b[0m \u001b[1;36m11\u001b[0m\u001b[1;33m\u001b[0m\u001b[1;33m\u001b[0m\u001b[0m\n\u001b[0m",
      "\u001b[1;31mTypeError\u001b[0m: 'tuple' object does not support item assignment"
     ]
    }
   ],
   "source": [
    "b = (0, 0, 0, 0, 0)\n",
    "b[0] = 11"
   ]
  },
  {
   "cell_type": "code",
   "execution_count": 36,
   "id": "bee06a02",
   "metadata": {},
   "outputs": [
    {
     "ename": "TypeError",
     "evalue": "'range' object does not support item assignment",
     "output_type": "error",
     "traceback": [
      "\u001b[1;31m---------------------------------------------------------------------------\u001b[0m",
      "\u001b[1;31mTypeError\u001b[0m                                 Traceback (most recent call last)",
      "\u001b[1;32m~\\AppData\\Local\\Temp\\ipykernel_9744\\4196919446.py\u001b[0m in \u001b[0;36m<module>\u001b[1;34m\u001b[0m\n\u001b[0;32m      1\u001b[0m \u001b[0mr\u001b[0m \u001b[1;33m=\u001b[0m \u001b[0mrange\u001b[0m\u001b[1;33m(\u001b[0m\u001b[1;36m0\u001b[0m\u001b[1;33m,\u001b[0m \u001b[1;36m10\u001b[0m\u001b[1;33m,\u001b[0m \u001b[1;36m2\u001b[0m\u001b[1;33m)\u001b[0m\u001b[1;33m\u001b[0m\u001b[1;33m\u001b[0m\u001b[0m\n\u001b[1;32m----> 2\u001b[1;33m \u001b[0mr\u001b[0m\u001b[1;33m[\u001b[0m\u001b[1;36m0\u001b[0m\u001b[1;33m]\u001b[0m \u001b[1;33m=\u001b[0m \u001b[1;36m1\u001b[0m\u001b[1;33m\u001b[0m\u001b[1;33m\u001b[0m\u001b[0m\n\u001b[0m",
      "\u001b[1;31mTypeError\u001b[0m: 'range' object does not support item assignment"
     ]
    }
   ],
   "source": [
    "r = range(0, 10, 2)\n",
    "r[0] = 1"
   ]
  },
  {
   "cell_type": "code",
   "execution_count": 37,
   "id": "a4d5e19d",
   "metadata": {},
   "outputs": [
    {
     "ename": "TypeError",
     "evalue": "'str' object does not support item assignment",
     "output_type": "error",
     "traceback": [
      "\u001b[1;31m---------------------------------------------------------------------------\u001b[0m",
      "\u001b[1;31mTypeError\u001b[0m                                 Traceback (most recent call last)",
      "\u001b[1;32m~\\AppData\\Local\\Temp\\ipykernel_9744\\923437670.py\u001b[0m in \u001b[0;36m<module>\u001b[1;34m\u001b[0m\n\u001b[0;32m      1\u001b[0m \u001b[0mhello\u001b[0m \u001b[1;33m=\u001b[0m \u001b[1;34m'Hello, world!'\u001b[0m\u001b[1;33m\u001b[0m\u001b[1;33m\u001b[0m\u001b[0m\n\u001b[1;32m----> 2\u001b[1;33m \u001b[0mhello\u001b[0m\u001b[1;33m[\u001b[0m\u001b[1;36m0\u001b[0m\u001b[1;33m]\u001b[0m \u001b[1;33m=\u001b[0m \u001b[1;34m'A'\u001b[0m\u001b[1;33m\u001b[0m\u001b[1;33m\u001b[0m\u001b[0m\n\u001b[0m",
      "\u001b[1;31mTypeError\u001b[0m: 'str' object does not support item assignment"
     ]
    }
   ],
   "source": [
    "hello = 'Hello, world!'\n",
    "hello[0] = 'A'"
   ]
  },
  {
   "cell_type": "markdown",
   "id": "6fbc43fa",
   "metadata": {},
   "source": [
    "del로 요소 삭제하기"
   ]
  },
  {
   "cell_type": "markdown",
   "id": "9e50a7d0",
   "metadata": {},
   "source": [
    "del 시퀀스객체[인덱스]"
   ]
  },
  {
   "cell_type": "code",
   "execution_count": 38,
   "id": "c24bc849",
   "metadata": {},
   "outputs": [
    {
     "name": "stdout",
     "output_type": "stream",
     "text": [
      "[38, 76, 62, 19]\n"
     ]
    }
   ],
   "source": [
    "a = [38, 76, 43, 62, 19]\n",
    "del a[2]\n",
    "print(a)"
   ]
  },
  {
   "cell_type": "markdown",
   "id": "0e917fef",
   "metadata": {},
   "source": [
    "슬라이스 사용하기\n",
    "\n",
    "시퀀스객체[시작인덱스:끝인덱스]"
   ]
  },
  {
   "cell_type": "code",
   "execution_count": 39,
   "id": "4c084240",
   "metadata": {},
   "outputs": [
    {
     "data": {
      "text/plain": [
       "[0, 10, 20, 30]"
      ]
     },
     "execution_count": 39,
     "metadata": {},
     "output_type": "execute_result"
    }
   ],
   "source": [
    "a = [0, 10, 20, 30, 40, 50, 60, 70, 80, 90]\n",
    "a[0:4]"
   ]
  },
  {
   "cell_type": "markdown",
   "id": "7036e6ab",
   "metadata": {},
   "source": [
    "리스트를 처음부터 끝까지 가져오기"
   ]
  },
  {
   "cell_type": "code",
   "execution_count": 41,
   "id": "7026ae9f",
   "metadata": {},
   "outputs": [
    {
     "data": {
      "text/plain": [
       "[0, 10, 20, 30, 40, 50, 60, 70, 80, 90]"
      ]
     },
     "execution_count": 41,
     "metadata": {},
     "output_type": "execute_result"
    }
   ],
   "source": [
    "a[0:10]\n",
    "a[0:]"
   ]
  },
  {
   "cell_type": "markdown",
   "id": "a80dc6e4",
   "metadata": {},
   "source": [
    "시작인덱스와 끝인덱스가 같은 경우"
   ]
  },
  {
   "cell_type": "code",
   "execution_count": 43,
   "id": "453a029b",
   "metadata": {},
   "outputs": [
    {
     "data": {
      "text/plain": [
       "[]"
      ]
     },
     "execution_count": 43,
     "metadata": {},
     "output_type": "execute_result"
    }
   ],
   "source": [
    "a = [0, 10, 20, 30, 40, 50, 60, 70, 80, 90]\n",
    "a[1:1]"
   ]
  },
  {
   "cell_type": "markdown",
   "id": "95da49a9",
   "metadata": {},
   "source": [
    "a[1:2] vs a[1]"
   ]
  },
  {
   "cell_type": "code",
   "execution_count": 48,
   "id": "4f352bc1",
   "metadata": {},
   "outputs": [
    {
     "name": "stdout",
     "output_type": "stream",
     "text": [
      "[10]\n",
      "<class 'list'>\n"
     ]
    }
   ],
   "source": [
    "a[1:2]\n",
    "print(a[1:2])\n",
    "print(type(a[1:2]))"
   ]
  },
  {
   "cell_type": "code",
   "execution_count": 47,
   "id": "de6674a1",
   "metadata": {},
   "outputs": [
    {
     "name": "stdout",
     "output_type": "stream",
     "text": [
      "10\n",
      "<class 'int'>\n"
     ]
    }
   ],
   "source": [
    "a[1]\n",
    "print(a[1])\n",
    "print(type(a[1]))"
   ]
  },
  {
   "cell_type": "markdown",
   "id": "13738571",
   "metadata": {},
   "source": [
    "리스트 중간 부분 가져오기"
   ]
  },
  {
   "cell_type": "code",
   "execution_count": 49,
   "id": "3b684fdf",
   "metadata": {},
   "outputs": [
    {
     "data": {
      "text/plain": [
       "[40, 50, 60]"
      ]
     },
     "execution_count": 49,
     "metadata": {},
     "output_type": "execute_result"
    }
   ],
   "source": [
    "a = [0, 10, 20, 30, 40, 50, 60, 70, 80, 90]\n",
    "a[4:7]"
   ]
  },
  {
   "cell_type": "code",
   "execution_count": 50,
   "id": "d37f5aad",
   "metadata": {},
   "outputs": [
    {
     "data": {
      "text/plain": [
       "[40, 50, 60, 70, 80]"
      ]
     },
     "execution_count": 50,
     "metadata": {},
     "output_type": "execute_result"
    }
   ],
   "source": [
    "a[4:-1]"
   ]
  },
  {
   "cell_type": "markdown",
   "id": "d774dce9",
   "metadata": {},
   "source": [
    "인덱스 증가폭 사용하기\n",
    "\n",
    "시퀀스객체[시작인덱스:끝인덱스:인덱스증가폭]"
   ]
  },
  {
   "cell_type": "code",
   "execution_count": 52,
   "id": "f4a092f0",
   "metadata": {},
   "outputs": [
    {
     "data": {
      "text/plain": [
       "[20, 50]"
      ]
     },
     "execution_count": 52,
     "metadata": {},
     "output_type": "execute_result"
    }
   ],
   "source": [
    "a = [0, 10, 20, 30, 40, 50, 60, 70, 80, 90]\n",
    "a[2:8:3]"
   ]
  },
  {
   "cell_type": "code",
   "execution_count": 53,
   "id": "27975763",
   "metadata": {},
   "outputs": [
    {
     "data": {
      "text/plain": [
       "[20, 50, 80]"
      ]
     },
     "execution_count": 53,
     "metadata": {},
     "output_type": "execute_result"
    }
   ],
   "source": [
    "a[2:9:3]"
   ]
  },
  {
   "cell_type": "markdown",
   "id": "a337d33f",
   "metadata": {},
   "source": [
    "인덱스 생략하기\n",
    "\n",
    "시퀀스객체[:끝인덱스]"
   ]
  },
  {
   "cell_type": "code",
   "execution_count": 56,
   "id": "a66b7ae7",
   "metadata": {},
   "outputs": [
    {
     "data": {
      "text/plain": [
       "[0, 10, 20, 30, 40, 50, 60]"
      ]
     },
     "execution_count": 56,
     "metadata": {},
     "output_type": "execute_result"
    }
   ],
   "source": [
    "a = [0, 10, 20, 30, 40, 50, 60, 70, 80, 90]\n",
    "a[:7]"
   ]
  },
  {
   "cell_type": "code",
   "execution_count": 57,
   "id": "b1d5fef0",
   "metadata": {},
   "outputs": [
    {
     "data": {
      "text/plain": [
       "[70, 80, 90]"
      ]
     },
     "execution_count": 57,
     "metadata": {},
     "output_type": "execute_result"
    }
   ],
   "source": [
    "a[7:]"
   ]
  },
  {
   "cell_type": "markdown",
   "id": "75344579",
   "metadata": {},
   "source": [
    "시퀀스객체[:]"
   ]
  },
  {
   "cell_type": "code",
   "execution_count": 55,
   "id": "653f29f0",
   "metadata": {},
   "outputs": [
    {
     "data": {
      "text/plain": [
       "[0, 10, 20, 30, 40, 50, 60, 70, 80, 90]"
      ]
     },
     "execution_count": 55,
     "metadata": {},
     "output_type": "execute_result"
    }
   ],
   "source": [
    "a[:]"
   ]
  },
  {
   "cell_type": "markdown",
   "id": "dc6462f3",
   "metadata": {},
   "source": [
    "인덱스 생략하면서 음수 증가폭 사용하기\n",
    "\n",
    "시퀀스객체[::증가폭]"
   ]
  },
  {
   "cell_type": "code",
   "execution_count": 59,
   "id": "042b5f9e",
   "metadata": {},
   "outputs": [
    {
     "data": {
      "text/plain": [
       "[90, 80, 70, 60, 50, 40, 30, 20, 10, 0]"
      ]
     },
     "execution_count": 59,
     "metadata": {},
     "output_type": "execute_result"
    }
   ],
   "source": [
    "a = [0, 10, 20, 30, 40, 50, 60, 70, 80, 90]\n",
    "a[::-1]"
   ]
  },
  {
   "cell_type": "code",
   "execution_count": 60,
   "id": "0234c1e9",
   "metadata": {},
   "outputs": [
    {
     "data": {
      "text/plain": [
       "[90, 80, 70, 60, 50, 40, 30, 20, 10]"
      ]
     },
     "execution_count": 60,
     "metadata": {},
     "output_type": "execute_result"
    }
   ],
   "source": [
    "a[-1:0:-1]"
   ]
  },
  {
   "cell_type": "markdown",
   "id": "7dfde414",
   "metadata": {},
   "source": [
    "여러 자료 구조의 슬라이스 사용하기\n",
    "\n",
    "range 슬라이스 사용하기"
   ]
  },
  {
   "cell_type": "code",
   "execution_count": 61,
   "id": "708ac6ec",
   "metadata": {},
   "outputs": [
    {
     "data": {
      "text/plain": [
       "[4, 5, 6]"
      ]
     },
     "execution_count": 61,
     "metadata": {},
     "output_type": "execute_result"
    }
   ],
   "source": [
    "r = range(10)\n",
    "list(r[4:7])"
   ]
  },
  {
   "cell_type": "code",
   "execution_count": 62,
   "id": "8caa9e19",
   "metadata": {},
   "outputs": [
    {
     "data": {
      "text/plain": [
       "[4, 5, 6, 7, 8, 9]"
      ]
     },
     "execution_count": 62,
     "metadata": {},
     "output_type": "execute_result"
    }
   ],
   "source": [
    "list(r[4:])"
   ]
  },
  {
   "cell_type": "code",
   "execution_count": 64,
   "id": "492a2546",
   "metadata": {},
   "outputs": [
    {
     "data": {
      "text/plain": [
       "[0, 2, 4, 6]"
      ]
     },
     "execution_count": 64,
     "metadata": {},
     "output_type": "execute_result"
    }
   ],
   "source": [
    "list(r[:7:2])"
   ]
  },
  {
   "cell_type": "code",
   "execution_count": 65,
   "id": "8e6a8d66",
   "metadata": {},
   "outputs": [
    {
     "data": {
      "text/plain": [
       "[9, 8, 7, 6, 5, 4, 3, 2, 1, 0]"
      ]
     },
     "execution_count": 65,
     "metadata": {},
     "output_type": "execute_result"
    }
   ],
   "source": [
    "list(r[::-1])"
   ]
  },
  {
   "cell_type": "markdown",
   "id": "6f2b630d",
   "metadata": {},
   "source": [
    "문자열 슬라이스 사용하기"
   ]
  },
  {
   "cell_type": "code",
   "execution_count": 66,
   "id": "0ab850e0",
   "metadata": {},
   "outputs": [
    {
     "data": {
      "text/plain": [
       "'llo, wo'"
      ]
     },
     "execution_count": 66,
     "metadata": {},
     "output_type": "execute_result"
    }
   ],
   "source": [
    "hello = 'Hello, world!'\n",
    "hello[2:9]"
   ]
  },
  {
   "cell_type": "code",
   "execution_count": 67,
   "id": "f5c4f7bf",
   "metadata": {},
   "outputs": [
    {
     "data": {
      "text/plain": [
       "'llo, world!'"
      ]
     },
     "execution_count": 67,
     "metadata": {},
     "output_type": "execute_result"
    }
   ],
   "source": [
    "hello[2:]"
   ]
  },
  {
   "cell_type": "code",
   "execution_count": 68,
   "id": "7b3666b4",
   "metadata": {},
   "outputs": [
    {
     "data": {
      "text/plain": [
       "'llo, wo'"
      ]
     },
     "execution_count": 68,
     "metadata": {},
     "output_type": "execute_result"
    }
   ],
   "source": [
    "hello[2:9]"
   ]
  },
  {
   "cell_type": "code",
   "execution_count": 69,
   "id": "15a34908",
   "metadata": {},
   "outputs": [
    {
     "data": {
      "text/plain": [
       "'!dlrow ,olleH'"
      ]
     },
     "execution_count": 69,
     "metadata": {},
     "output_type": "execute_result"
    }
   ],
   "source": [
    "hello[::-1]"
   ]
  },
  {
   "cell_type": "markdown",
   "id": "468f94b2",
   "metadata": {},
   "source": [
    "슬라이스에 요소 할당하기\n",
    "\n",
    "\n",
    "- 시퀀스객체[시작인덱스:끝인덱스] = 시퀀스객체"
   ]
  },
  {
   "cell_type": "code",
   "execution_count": 70,
   "id": "8989f4c8",
   "metadata": {},
   "outputs": [
    {
     "name": "stdout",
     "output_type": "stream",
     "text": [
      "[0, 10, 'a', 'b', 'c', 50, 60, 70, 80, 90]\n"
     ]
    }
   ],
   "source": [
    "a = [0, 10, 20, 30, 40, 50, 60, 70, 80, 90]\n",
    "a[2:5] = ['a', 'b', 'c']\n",
    "print(a)"
   ]
  },
  {
   "cell_type": "markdown",
   "id": "f3694818",
   "metadata": {},
   "source": [
    "슬라이스 범위보다 할당할 요소 개수가 적을 때"
   ]
  },
  {
   "cell_type": "code",
   "execution_count": 74,
   "id": "e95ba237",
   "metadata": {},
   "outputs": [
    {
     "name": "stdout",
     "output_type": "stream",
     "text": [
      "[0, 10, 'a', 50, 60, 70, 80, 90]\n"
     ]
    }
   ],
   "source": [
    "a = [0, 10, 20, 30, 40, 50, 60, 70, 80, 90]\n",
    "a[2:5] = ['a']\n",
    "print(a)"
   ]
  },
  {
   "cell_type": "markdown",
   "id": "51626b39",
   "metadata": {},
   "source": [
    "슬라이스 범위보다 할당할 요소 개수가 많을 때"
   ]
  },
  {
   "cell_type": "code",
   "execution_count": 73,
   "id": "36d67518",
   "metadata": {},
   "outputs": [
    {
     "name": "stdout",
     "output_type": "stream",
     "text": [
      "[0, 10, 'a', 'b', 'c', 'd', 'e', 50, 60, 70, 80, 90]\n"
     ]
    }
   ],
   "source": [
    "a = [0, 10, 20, 30, 40, 50, 60, 70, 80, 90]\n",
    "a[2:5] = ['a', 'b', 'c', 'd', 'e']\n",
    "print(a)"
   ]
  },
  {
   "cell_type": "markdown",
   "id": "4e7c974d",
   "metadata": {},
   "source": [
    "del로 슬라이스 삭제하기"
   ]
  },
  {
   "cell_type": "markdown",
   "id": "f77e534e",
   "metadata": {},
   "source": [
    "del 시퀀스객체[시작인덱스:끝인덱스]"
   ]
  },
  {
   "cell_type": "code",
   "execution_count": 75,
   "id": "54d74b24",
   "metadata": {},
   "outputs": [
    {
     "name": "stdout",
     "output_type": "stream",
     "text": [
      "[0, 10, 50, 60, 70, 80, 90]\n"
     ]
    }
   ],
   "source": [
    "a = [0, 10, 20, 30, 40, 50, 60, 70, 80, 90]\n",
    "del a[2:5]\n",
    "print(a)"
   ]
  },
  {
   "cell_type": "code",
   "execution_count": null,
   "id": "ae741a37",
   "metadata": {},
   "outputs": [],
   "source": []
  }
 ],
 "metadata": {
  "kernelspec": {
   "display_name": "Python 3 (ipykernel)",
   "language": "python",
   "name": "python3"
  },
  "language_info": {
   "codemirror_mode": {
    "name": "ipython",
    "version": 3
   },
   "file_extension": ".py",
   "mimetype": "text/x-python",
   "name": "python",
   "nbconvert_exporter": "python",
   "pygments_lexer": "ipython3",
   "version": "3.9.13"
  }
 },
 "nbformat": 4,
 "nbformat_minor": 5
}
