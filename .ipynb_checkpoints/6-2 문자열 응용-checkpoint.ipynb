{
 "cells": [
  {
   "cell_type": "markdown",
   "id": "2487fd3e",
   "metadata": {},
   "source": [
    "문자열 응용\n",
    "\n",
    "- 문자열 메모리 크기"
   ]
  },
  {
   "cell_type": "code",
   "execution_count": 4,
   "id": "b50f55a3",
   "metadata": {},
   "outputs": [
    {
     "name": "stdout",
     "output_type": "stream",
     "text": [
      "50 51 52\n"
     ]
    }
   ],
   "source": [
    "import sys\n",
    "print(sys.getsizeof(\"a\"), sys.getsizeof(\"ab\"), sys.getsizeof(\"abc\"))"
   ]
  },
  {
   "cell_type": "code",
   "execution_count": 5,
   "id": "634c1379",
   "metadata": {},
   "outputs": [
    {
     "name": "stdout",
     "output_type": "stream",
     "text": [
      "76 78 80\n"
     ]
    }
   ],
   "source": [
    "import sys\n",
    "print(sys.getsizeof(\"홍\"), sys.getsizeof(\"홍길\"), sys.getsizeof(\"홍길동\"))"
   ]
  },
  {
   "cell_type": "markdown",
   "id": "39a07a80",
   "metadata": {},
   "source": [
    "﻿\n",
    "인덱싱\n",
    "\n",
    "- 문자열의 각 문자는 개별주소(offset)를 가짐\n",
    "\n",
    "- 이 주소를 사용해 할당된 값을 가져오는 것이 인덱싱\n",
    "\n",
    "- List와 같은 형태로 데이터를 처리함"
   ]
  },
  {
   "cell_type": "code",
   "execution_count": 2,
   "id": "81cff5f3",
   "metadata": {},
   "outputs": [
    {
     "name": "stdout",
     "output_type": "stream",
     "text": [
      "a e\n"
     ]
    }
   ],
   "source": [
    "a = \"abcdef\"\n",
    "print(a[0], a[4])"
   ]
  },
  {
   "cell_type": "code",
   "execution_count": 6,
   "id": "31ad2f05",
   "metadata": {},
   "outputs": [
    {
     "name": "stdout",
     "output_type": "stream",
     "text": [
      "f b\n"
     ]
    }
   ],
   "source": [
    "a = \"abcdef\"\n",
    "print(a[-1], a[-5])"
   ]
  },
  {
   "cell_type": "markdown",
   "id": "b3e2c01b",
   "metadata": {},
   "source": [
    "슬라이싱\n",
    "\n",
    "- 문자열의 주소값을 기반으로 문자열의 부분값을 반환"
   ]
  },
  {
   "cell_type": "code",
   "execution_count": 7,
   "id": "4692e324",
   "metadata": {},
   "outputs": [
    {
     "name": "stdout",
     "output_type": "stream",
     "text": [
      "Hello   AND   Python!!\n",
      "Hello Python!!\n",
      "Hello Python!!\n",
      "HloPto!  AND  !!nohtyP olleH\n"
     ]
    }
   ],
   "source": [
    "a = \"Hello Python!!\"\n",
    "\n",
    "print(a[0:6], \" AND \", a[-9:])\n",
    "print(a[:])\n",
    "print(a[-50:50])\n",
    "print(a[::2], \" AND \", a[::-1])"
   ]
  },
  {
   "cell_type": "markdown",
   "id": "eb95a464",
   "metadata": {},
   "source": [
    "문자열 연산 및 포함 여부 검사"
   ]
  },
  {
   "cell_type": "markdown",
   "id": "0f339186",
   "metadata": {},
   "source": [
    "덧셈과 뺄셈 연산 가능, in 명령으로 포함 여부 체크"
   ]
  },
  {
   "cell_type": "code",
   "execution_count": 9,
   "id": "9434c8c3",
   "metadata": {},
   "outputs": [
    {
     "name": "stdout",
     "output_type": "stream",
     "text": [
      "Hello World\n"
     ]
    }
   ],
   "source": [
    "a = \"Hello\"\n",
    "b = \"World\"\n",
    "print(a + \" \" + b)"
   ]
  },
  {
   "cell_type": "code",
   "execution_count": 10,
   "id": "6e62226c",
   "metadata": {},
   "outputs": [
    {
     "name": "stdout",
     "output_type": "stream",
     "text": [
      "HelloHello WorldWorld\n"
     ]
    }
   ],
   "source": [
    "print(a*2 + \" \" + b*2)"
   ]
  },
  {
   "cell_type": "code",
   "execution_count": 14,
   "id": "3adfc5c5",
   "metadata": {},
   "outputs": [
    {
     "name": "stdout",
     "output_type": "stream",
     "text": [
      "World\n"
     ]
    }
   ],
   "source": [
    "if \"A\" in a:\n",
    "    print(a)\n",
    "else:\n",
    "    print(b)"
   ]
  },
  {
   "cell_type": "markdown",
   "id": "84206e88",
   "metadata": {},
   "source": [
    "﻿특수 문자의 print 동작"
   ]
  },
  {
   "cell_type": "code",
   "execution_count": 15,
   "id": "2f6afc7e",
   "metadata": {},
   "outputs": [
    {
     "data": {
      "text/plain": [
       "'\"Isn\\'t,\" they said.'"
      ]
     },
     "execution_count": 15,
     "metadata": {},
     "output_type": "execute_result"
    }
   ],
   "source": [
    "'\"Isn\\'t,\" they said.'"
   ]
  },
  {
   "cell_type": "code",
   "execution_count": 16,
   "id": "c9b274eb",
   "metadata": {},
   "outputs": [
    {
     "name": "stdout",
     "output_type": "stream",
     "text": [
      "\"Isn't,\" they said.\n"
     ]
    }
   ],
   "source": [
    "print('\"Isn\\'t,\" they said.')"
   ]
  },
  {
   "cell_type": "code",
   "execution_count": 17,
   "id": "0d68f6a4",
   "metadata": {},
   "outputs": [
    {
     "data": {
      "text/plain": [
       "'First line.\\nSecond line.'"
      ]
     },
     "execution_count": 17,
     "metadata": {},
     "output_type": "execute_result"
    }
   ],
   "source": [
    "s = 'First line.\\nSecond line.'\n",
    "s"
   ]
  },
  {
   "cell_type": "code",
   "execution_count": 18,
   "id": "6a7cb86b",
   "metadata": {},
   "outputs": [
    {
     "name": "stdout",
     "output_type": "stream",
     "text": [
      "First line.\n",
      "Second line.\n"
     ]
    }
   ],
   "source": [
    "print(s)"
   ]
  },
  {
   "cell_type": "code",
   "execution_count": 19,
   "id": "1b34cc07",
   "metadata": {},
   "outputs": [
    {
     "name": "stdout",
     "output_type": "stream",
     "text": [
      "C:\\some\n",
      "ame\n"
     ]
    }
   ],
   "source": [
    "print('C:\\some\\name')"
   ]
  },
  {
   "cell_type": "code",
   "execution_count": 22,
   "id": "975b6ae6",
   "metadata": {},
   "outputs": [
    {
     "name": "stdout",
     "output_type": "stream",
     "text": [
      "C:\\some\\name\n"
     ]
    }
   ],
   "source": [
    "print(r'C:\\some\\name')\n",
    "# r -> raw String \\가 해석되지 않길 원하면 앞에 r을 붙일 수 있다."
   ]
  },
  {
   "cell_type": "markdown",
   "id": "9a7523a6",
   "metadata": {},
   "source": [
    "여러 줄로 확장된 문자열"
   ]
  },
  {
   "cell_type": "code",
   "execution_count": 23,
   "id": "7a9f9989",
   "metadata": {},
   "outputs": [
    {
     "name": "stdout",
     "output_type": "stream",
     "text": [
      "Usage: thingy [OPTIONS]\n",
      "    -h                     Display this usage message\n",
      "    -H hostname            Hosename to connect to\n",
      "\n"
     ]
    }
   ],
   "source": [
    "print(\"\"\"\\\n",
    "Usage: thingy [OPTIONS]\n",
    "    -h                     Display this usage message\n",
    "    -H hostname            Hosename to connect to\n",
    "\"\"\")"
   ]
  },
  {
   "cell_type": "markdown",
   "id": "d16e42d1",
   "metadata": {},
   "source": [
    "연속된 문자열 처리"
   ]
  },
  {
   "cell_type": "code",
   "execution_count": 24,
   "id": "65794575",
   "metadata": {},
   "outputs": [
    {
     "data": {
      "text/plain": [
       "'Python'"
      ]
     },
     "execution_count": 24,
     "metadata": {},
     "output_type": "execute_result"
    }
   ],
   "source": [
    "'Py' 'thon'"
   ]
  },
  {
   "cell_type": "code",
   "execution_count": 27,
   "id": "48d29da3",
   "metadata": {},
   "outputs": [
    {
     "data": {
      "text/plain": [
       "'Put several strings within parentheses to gave them joined together.'"
      ]
     },
     "execution_count": 27,
     "metadata": {},
     "output_type": "execute_result"
    }
   ],
   "source": [
    "text = ('Put several strings within parentheses '\n",
    "       'to gave them joined together.')\n",
    "text"
   ]
  },
  {
   "cell_type": "code",
   "execution_count": 32,
   "id": "0fa06ac8",
   "metadata": {},
   "outputs": [
    {
     "data": {
      "text/plain": [
       "'Python'"
      ]
     },
     "execution_count": 32,
     "metadata": {},
     "output_type": "execute_result"
    }
   ],
   "source": [
    "prefix = 'Py'\n",
    "prefix + 'thon'"
   ]
  },
  {
   "cell_type": "code",
   "execution_count": 33,
   "id": "18f39add",
   "metadata": {},
   "outputs": [
    {
     "data": {
      "text/plain": [
       "'unununium'"
      ]
     },
     "execution_count": 33,
     "metadata": {},
     "output_type": "execute_result"
    }
   ],
   "source": [
    "('un' *3) + 'ium'"
   ]
  },
  {
   "cell_type": "code",
   "execution_count": null,
   "id": "45fb902b",
   "metadata": {},
   "outputs": [],
   "source": []
  }
 ],
 "metadata": {
  "kernelspec": {
   "display_name": "Python 3 (ipykernel)",
   "language": "python",
   "name": "python3"
  },
  "language_info": {
   "codemirror_mode": {
    "name": "ipython",
    "version": 3
   },
   "file_extension": ".py",
   "mimetype": "text/x-python",
   "name": "python",
   "nbconvert_exporter": "python",
   "pygments_lexer": "ipython3",
   "version": "3.9.13"
  }
 },
 "nbformat": 4,
 "nbformat_minor": 5
}
