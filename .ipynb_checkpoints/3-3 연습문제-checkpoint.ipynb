{
 "cells": [
  {
   "cell_type": "markdown",
   "id": "496ad212",
   "metadata": {},
   "source": [
    "1. 변수에 다음과 같은 문제열이 할당되어 있습니다."
   ]
  },
  {
   "cell_type": "markdown",
   "id": "fa9fa2c0",
   "metadata": {},
   "source": [
    "변수에 문자열 더하기와 문자열 곱하기를 사용해서 아래와 같이 출력해 보세요."
   ]
  },
  {
   "cell_type": "code",
   "execution_count": 3,
   "id": "1d56b13f",
   "metadata": {},
   "outputs": [],
   "source": [
    "# 실행 예\n",
    "# python hello python hello python hello python hello"
   ]
  },
  {
   "cell_type": "code",
   "execution_count": 9,
   "id": "bedb6592",
   "metadata": {},
   "outputs": [
    {
     "name": "stdout",
     "output_type": "stream",
     "text": [
      "python hello python hello python hello python hello python hello \n"
     ]
    }
   ],
   "source": [
    "t1 = 'python'\n",
    "t2 = 'hello'\n",
    "print((t1+' '+t2+' ') * 5)"
   ]
  },
  {
   "cell_type": "markdown",
   "id": "73644745",
   "metadata": {},
   "source": [
    "2. 국어, 영어, 수학 점수가 입력된다. 한 과목이라도 50점 미만이면 불합격이다.\n",
    "\n",
    "다음 소스 코드를 완성하여 합격이면 True, 불합격이면 False가 출력되게 하시오."
   ]
  },
  {
   "cell_type": "code",
   "execution_count": 12,
   "id": "bf2f39a6",
   "metadata": {},
   "outputs": [
    {
     "name": "stdout",
     "output_type": "stream",
     "text": [
      "국어, 영어, 수학 점수를 차례로 입력하세요. 78 46 90\n",
      "False\n"
     ]
    }
   ],
   "source": [
    "kor, eng, math = map(int, input('국어, 영어, 수학 점수를 차례로 입력하세요. ').split())\n",
    "print((kor >= 50) and (eng >= 50) and (math >= 50))"
   ]
  }
 ],
 "metadata": {
  "kernelspec": {
   "display_name": "Python 3 (ipykernel)",
   "language": "python",
   "name": "python3"
  },
  "language_info": {
   "codemirror_mode": {
    "name": "ipython",
    "version": 3
   },
   "file_extension": ".py",
   "mimetype": "text/x-python",
   "name": "python",
   "nbconvert_exporter": "python",
   "pygments_lexer": "ipython3",
   "version": "3.9.13"
  }
 },
 "nbformat": 4,
 "nbformat_minor": 5
}
