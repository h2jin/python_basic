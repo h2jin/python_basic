{
 "cells": [
  {
   "cell_type": "markdown",
   "id": "2d1e2d53",
   "metadata": {},
   "source": [
    "변수의 사용"
   ]
  },
  {
   "cell_type": "markdown",
   "id": "f13cdc50",
   "metadata": {},
   "source": [
    "자료형 사용 예시"
   ]
  },
  {
   "cell_type": "code",
   "execution_count": 1,
   "id": "bfb05bae",
   "metadata": {},
   "outputs": [
    {
     "name": "stdout",
     "output_type": "stream",
     "text": [
      "1 1\n"
     ]
    }
   ],
   "source": [
    "a=1\n",
    "b=1\n",
    "print(a, b)"
   ]
  },
  {
   "cell_type": "code",
   "execution_count": 2,
   "id": "c3619bbb",
   "metadata": {},
   "outputs": [
    {
     "name": "stdout",
     "output_type": "stream",
     "text": [
      "1.5 3.5\n"
     ]
    }
   ],
   "source": [
    "a=1.5\n",
    "b=3.5\n",
    "print(a, b)"
   ]
  },
  {
   "cell_type": "code",
   "execution_count": 3,
   "id": "8fbdcd1a",
   "metadata": {},
   "outputs": [
    {
     "name": "stdout",
     "output_type": "stream",
     "text": [
      "ABC 101010\n"
     ]
    }
   ],
   "source": [
    "a=\"ABC\"\n",
    "b=\"101010\"\n",
    "print(a, b)"
   ]
  },
  {
   "cell_type": "code",
   "execution_count": 4,
   "id": "96cf05e8",
   "metadata": {},
   "outputs": [
    {
     "name": "stdout",
     "output_type": "stream",
     "text": [
      "True False\n"
     ]
    }
   ],
   "source": [
    "a=True\n",
    "b=False\n",
    "print(a, b)"
   ]
  },
  {
   "cell_type": "code",
   "execution_count": null,
   "id": "11d197a1",
   "metadata": {},
   "outputs": [],
   "source": []
  },
  {
   "cell_type": "markdown",
   "id": "34de450c",
   "metadata": {},
   "source": [
    "제곱승과 나머지 구하기"
   ]
  },
  {
   "cell_type": "markdown",
   "id": "e92fdd10",
   "metadata": {},
   "source": [
    "\"**\"은 제곱승 연산자"
   ]
  },
  {
   "cell_type": "code",
   "execution_count": 5,
   "id": "491544d0",
   "metadata": {},
   "outputs": [
    {
     "name": "stdout",
     "output_type": "stream",
     "text": [
      "243\n"
     ]
    }
   ],
   "source": [
    "print(3 * 3 * 3 * 3 * 3)"
   ]
  },
  {
   "cell_type": "code",
   "execution_count": 6,
   "id": "9c43e96b",
   "metadata": {},
   "outputs": [
    {
     "name": "stdout",
     "output_type": "stream",
     "text": [
      "243\n"
     ]
    }
   ],
   "source": [
    "print (3 ** 5) # 파이썬만의 고유한 연산"
   ]
  },
  {
   "cell_type": "markdown",
   "id": "a02f474a",
   "metadata": {},
   "source": [
    "\"%\"는 나머지를 구하는 연산자"
   ]
  },
  {
   "cell_type": "code",
   "execution_count": 7,
   "id": "32547aef",
   "metadata": {},
   "outputs": [
    {
     "name": "stdout",
     "output_type": "stream",
     "text": [
      "3.5\n"
     ]
    }
   ],
   "source": [
    "print(7 / 2)"
   ]
  },
  {
   "cell_type": "code",
   "execution_count": 8,
   "id": "1ad0ef3a",
   "metadata": {},
   "outputs": [
    {
     "name": "stdout",
     "output_type": "stream",
     "text": [
      "1\n"
     ]
    }
   ],
   "source": [
    "print(7 % 2)"
   ]
  },
  {
   "cell_type": "code",
   "execution_count": 10,
   "id": "254d98c2",
   "metadata": {},
   "outputs": [
    {
     "name": "stdout",
     "output_type": "stream",
     "text": [
      "3\n"
     ]
    }
   ],
   "source": [
    "print(7 // 2) # 파이썬만의 고유한 연산"
   ]
  },
  {
   "cell_type": "markdown",
   "id": "7c1ad897",
   "metadata": {},
   "source": [
    "증가 또는 감소 연산"
   ]
  },
  {
   "cell_type": "markdown",
   "id": "14d7432a",
   "metadata": {},
   "source": [
    "a += 1 은 a = a + 1 과 같은 의미로 증가 연산"
   ]
  },
  {
   "cell_type": "code",
   "execution_count": 17,
   "id": "e8532187",
   "metadata": {},
   "outputs": [
    {
     "name": "stdout",
     "output_type": "stream",
     "text": [
      "2\n"
     ]
    }
   ],
   "source": [
    "a = 1\n",
    "a = a + 1\n",
    "print(a)"
   ]
  },
  {
   "cell_type": "code",
   "execution_count": 18,
   "id": "107b2e08",
   "metadata": {},
   "outputs": [
    {
     "name": "stdout",
     "output_type": "stream",
     "text": [
      "3\n"
     ]
    }
   ],
   "source": [
    "a += 1\n",
    "print(a)"
   ]
  },
  {
   "cell_type": "markdown",
   "id": "646788c7",
   "metadata": {},
   "source": [
    "a -= 1 은 a = a - 1 과 같은 의미로 감소 연산"
   ]
  },
  {
   "cell_type": "code",
   "execution_count": 12,
   "id": "457a0e2a",
   "metadata": {},
   "outputs": [
    {
     "name": "stdout",
     "output_type": "stream",
     "text": [
      "1\n"
     ]
    }
   ],
   "source": [
    "a -= 1\n",
    "a = a - 1\n",
    "print(a)"
   ]
  },
  {
   "cell_type": "markdown",
   "id": "ba924066",
   "metadata": {},
   "source": [
    "++a 와 a++은 지원하지않는다."
   ]
  },
  {
   "cell_type": "code",
   "execution_count": 13,
   "id": "71c16500",
   "metadata": {},
   "outputs": [
    {
     "ename": "SyntaxError",
     "evalue": "invalid syntax (1054444811.py, line 2)",
     "output_type": "error",
     "traceback": [
      "\u001b[1;36m  File \u001b[1;32m\"C:\\Users\\82102\\AppData\\Local\\Temp\\ipykernel_4740\\1054444811.py\"\u001b[1;36m, line \u001b[1;32m2\u001b[0m\n\u001b[1;33m    print(a++)\u001b[0m\n\u001b[1;37m             ^\u001b[0m\n\u001b[1;31mSyntaxError\u001b[0m\u001b[1;31m:\u001b[0m invalid syntax\n"
     ]
    }
   ],
   "source": [
    "a=1\n",
    "print(a++)"
   ]
  },
  {
   "cell_type": "code",
   "execution_count": 19,
   "id": "27533e71",
   "metadata": {},
   "outputs": [
    {
     "name": "stdout",
     "output_type": "stream",
     "text": [
      "1\n"
     ]
    }
   ],
   "source": [
    "a=1\n",
    "print(++a)"
   ]
  },
  {
   "cell_type": "markdown",
   "id": "ffd24c80",
   "metadata": {},
   "source": [
    "캐스팅 연산"
   ]
  },
  {
   "cell_type": "markdown",
   "id": "76549d3b",
   "metadata": {},
   "source": [
    "float()과 int()를 사용하여 데이터의 형변환 가능"
   ]
  },
  {
   "cell_type": "code",
   "execution_count": 20,
   "id": "c0f44615",
   "metadata": {},
   "outputs": [
    {
     "name": "stdout",
     "output_type": "stream",
     "text": [
      "10\n"
     ]
    }
   ],
   "source": [
    "a=10\n",
    "print(a)"
   ]
  },
  {
   "cell_type": "code",
   "execution_count": 21,
   "id": "c451925b",
   "metadata": {},
   "outputs": [
    {
     "name": "stdout",
     "output_type": "stream",
     "text": [
      "10.0\n"
     ]
    }
   ],
   "source": [
    "a=float(10)\n",
    "print(a)"
   ]
  },
  {
   "cell_type": "code",
   "execution_count": 22,
   "id": "3b85c1c3",
   "metadata": {},
   "outputs": [
    {
     "name": "stdout",
     "output_type": "stream",
     "text": [
      "3.3333333333333335\n"
     ]
    }
   ],
   "source": [
    "b=3\n",
    "print(a/b)\n",
    "# a가 float이어서 결과가 float이 된 것은 아니다."
   ]
  },
  {
   "cell_type": "markdown",
   "id": "ebb65e28",
   "metadata": {},
   "source": [
    "10.3과 10.7 정수형으로 형변환 후 덧셈하면 결과값은?"
   ]
  },
  {
   "cell_type": "code",
   "execution_count": 23,
   "id": "e194dfb7",
   "metadata": {},
   "outputs": [
    {
     "name": "stdout",
     "output_type": "stream",
     "text": [
      "20\n"
     ]
    }
   ],
   "source": [
    "a=10.7\n",
    "b=10.3\n",
    "\n",
    "a=int(a)\n",
    "b=int(b)\n",
    "print(a+b)"
   ]
  },
  {
   "cell_type": "code",
   "execution_count": 24,
   "id": "fb106f7a",
   "metadata": {},
   "outputs": [
    {
     "name": "stdout",
     "output_type": "stream",
     "text": [
      "10\n"
     ]
    }
   ],
   "source": [
    "print(a)"
   ]
  },
  {
   "cell_type": "code",
   "execution_count": 25,
   "id": "0059ead2",
   "metadata": {},
   "outputs": [
    {
     "name": "stdout",
     "output_type": "stream",
     "text": [
      "10\n"
     ]
    }
   ],
   "source": [
    "print(b)"
   ]
  },
  {
   "cell_type": "markdown",
   "id": "6465c37a",
   "metadata": {},
   "source": [
    "문자열로 선언된 값도 int(), float()함수로 형변환 가능"
   ]
  },
  {
   "cell_type": "code",
   "execution_count": 26,
   "id": "fd278a03",
   "metadata": {},
   "outputs": [
    {
     "name": "stdout",
     "output_type": "stream",
     "text": [
      "76.3\n"
     ]
    }
   ],
   "source": [
    "a='76.3'\n",
    "b=float(a)\n",
    "print(a)"
   ]
  },
  {
   "cell_type": "code",
   "execution_count": 27,
   "id": "26e0c663",
   "metadata": {},
   "outputs": [
    {
     "name": "stdout",
     "output_type": "stream",
     "text": [
      "76.3\n"
     ]
    }
   ],
   "source": [
    "print(b)"
   ]
  },
  {
   "cell_type": "code",
   "execution_count": 28,
   "id": "9a0dcd38",
   "metadata": {},
   "outputs": [
    {
     "ename": "TypeError",
     "evalue": "can only concatenate str (not \"float\") to str",
     "output_type": "error",
     "traceback": [
      "\u001b[1;31m---------------------------------------------------------------------------\u001b[0m",
      "\u001b[1;31mTypeError\u001b[0m                                 Traceback (most recent call last)",
      "\u001b[1;32m~\\AppData\\Local\\Temp\\ipykernel_4740\\1083478837.py\u001b[0m in \u001b[0;36m<module>\u001b[1;34m\u001b[0m\n\u001b[1;32m----> 1\u001b[1;33m \u001b[0mprint\u001b[0m\u001b[1;33m(\u001b[0m\u001b[0ma\u001b[0m\u001b[1;33m+\u001b[0m\u001b[0mb\u001b[0m\u001b[1;33m)\u001b[0m\u001b[1;33m\u001b[0m\u001b[1;33m\u001b[0m\u001b[0m\n\u001b[0m",
      "\u001b[1;31mTypeError\u001b[0m: can only concatenate str (not \"float\") to str"
     ]
    }
   ],
   "source": [
    "print(a+b)\n",
    "# 문자열과 소수점 연산은 안되기 떄문에 에러 발생"
   ]
  },
  {
   "cell_type": "markdown",
   "id": "fe5fb165",
   "metadata": {},
   "source": [
    "a와 b를 실수형으로 뎃셈하고, 문자열로 연결하려면?"
   ]
  },
  {
   "cell_type": "code",
   "execution_count": 29,
   "id": "d63ed5c2",
   "metadata": {},
   "outputs": [
    {
     "name": "stdout",
     "output_type": "stream",
     "text": [
      "152.6\n"
     ]
    }
   ],
   "source": [
    "a=float(a)\n",
    "b-a\n",
    "print(a+b)"
   ]
  },
  {
   "cell_type": "code",
   "execution_count": 30,
   "id": "0851e8da",
   "metadata": {},
   "outputs": [
    {
     "name": "stdout",
     "output_type": "stream",
     "text": [
      "76.376.3\n"
     ]
    }
   ],
   "source": [
    "a=str(a)\n",
    "b=str(b)\n",
    "print(a+b)"
   ]
  },
  {
   "cell_type": "markdown",
   "id": "34a21a45",
   "metadata": {},
   "source": [
    "type()함수"
   ]
  },
  {
   "cell_type": "markdown",
   "id": "2aedc990",
   "metadata": {},
   "source": [
    "type()함수는 변수의 데이터 형을 확인하는 함수"
   ]
  },
  {
   "cell_type": "code",
   "execution_count": 31,
   "id": "55dc8766",
   "metadata": {},
   "outputs": [],
   "source": [
    "a=int(10.3)\n",
    "b=float(10.3)\n",
    "c=str(10.3)"
   ]
  },
  {
   "cell_type": "code",
   "execution_count": 32,
   "id": "1a3d2d13",
   "metadata": {},
   "outputs": [
    {
     "name": "stdout",
     "output_type": "stream",
     "text": [
      "<class 'int'>\n"
     ]
    }
   ],
   "source": [
    "print(type(a))"
   ]
  },
  {
   "cell_type": "code",
   "execution_count": 33,
   "id": "be30c97b",
   "metadata": {},
   "outputs": [
    {
     "name": "stdout",
     "output_type": "stream",
     "text": [
      "<class 'float'>\n"
     ]
    }
   ],
   "source": [
    "print(type(b))"
   ]
  },
  {
   "cell_type": "code",
   "execution_count": 34,
   "id": "43f7659f",
   "metadata": {},
   "outputs": [
    {
     "name": "stdout",
     "output_type": "stream",
     "text": [
      "<class 'str'>\n"
     ]
    }
   ],
   "source": [
    "print(type(c))"
   ]
  },
  {
   "cell_type": "code",
   "execution_count": null,
   "id": "5a488025",
   "metadata": {},
   "outputs": [],
   "source": []
  }
 ],
 "metadata": {
  "kernelspec": {
   "display_name": "Python 3 (ipykernel)",
   "language": "python",
   "name": "python3"
  },
  "language_info": {
   "codemirror_mode": {
    "name": "ipython",
    "version": 3
   },
   "file_extension": ".py",
   "mimetype": "text/x-python",
   "name": "python",
   "nbconvert_exporter": "python",
   "pygments_lexer": "ipython3",
   "version": "3.9.13"
  }
 },
 "nbformat": 4,
 "nbformat_minor": 5
}
