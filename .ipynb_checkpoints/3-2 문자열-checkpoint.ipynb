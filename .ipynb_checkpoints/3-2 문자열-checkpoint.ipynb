{
 "cells": [
  {
   "cell_type": "markdown",
   "id": "ed336e96",
   "metadata": {},
   "source": [
    "문자열이란?"
   ]
  },
  {
   "cell_type": "markdown",
   "id": "5251368d",
   "metadata": {},
   "source": [
    "문자열(String)이란 문자, 단어 등으로 구성된 문자들의 집합을 의미한다. \n",
    "예를들어 다음와 같은 것들이 문자열이다.\n",
    "\n",
    "파이썬은 \"\", '' 모두 문자열로 인식한다. 결국 문자열만 있다고 봐도 무방하다."
   ]
  },
  {
   "cell_type": "code",
   "execution_count": 1,
   "id": "38c21a98",
   "metadata": {},
   "outputs": [
    {
     "data": {
      "text/plain": [
       "'Life is too short, You need Python'"
      ]
     },
     "execution_count": 1,
     "metadata": {},
     "output_type": "execute_result"
    }
   ],
   "source": [
    "\"Life is too short, You need Python\""
   ]
  },
  {
   "cell_type": "code",
   "execution_count": 2,
   "id": "2db03057",
   "metadata": {},
   "outputs": [
    {
     "data": {
      "text/plain": [
       "'a'"
      ]
     },
     "execution_count": 2,
     "metadata": {},
     "output_type": "execute_result"
    }
   ],
   "source": [
    "\"a\""
   ]
  },
  {
   "cell_type": "code",
   "execution_count": 3,
   "id": "a2233cea",
   "metadata": {},
   "outputs": [
    {
     "data": {
      "text/plain": [
       "'123'"
      ]
     },
     "execution_count": 3,
     "metadata": {},
     "output_type": "execute_result"
    }
   ],
   "source": [
    "\"123\""
   ]
  },
  {
   "cell_type": "markdown",
   "id": "36450c4e",
   "metadata": {},
   "source": [
    "문자열은 어떻게 만들과 사용할까?"
   ]
  },
  {
   "cell_type": "code",
   "execution_count": 4,
   "id": "e18e76b2",
   "metadata": {},
   "outputs": [
    {
     "data": {
      "text/plain": [
       "'Hello World'"
      ]
     },
     "execution_count": 4,
     "metadata": {},
     "output_type": "execute_result"
    }
   ],
   "source": [
    "\"Hello World\""
   ]
  },
  {
   "cell_type": "code",
   "execution_count": 5,
   "id": "f67d7d1c",
   "metadata": {},
   "outputs": [
    {
     "data": {
      "text/plain": [
       "'Python is fun'"
      ]
     },
     "execution_count": 5,
     "metadata": {},
     "output_type": "execute_result"
    }
   ],
   "source": [
    "'Python is fun'"
   ]
  },
  {
   "cell_type": "markdown",
   "id": "358d66ef",
   "metadata": {},
   "source": [
    "따옴포 포함시키기"
   ]
  },
  {
   "cell_type": "markdown",
   "id": "b381a85a",
   "metadata": {},
   "source": [
    "1. 문자열에 작은따옴표 (')포함시키기"
   ]
  },
  {
   "cell_type": "code",
   "execution_count": 7,
   "id": "5ea9962f",
   "metadata": {},
   "outputs": [
    {
     "data": {
      "text/plain": [
       "\"Python's favorite food is perl\""
      ]
     },
     "execution_count": 7,
     "metadata": {},
     "output_type": "execute_result"
    }
   ],
   "source": [
    "food = \"Python's favorite food is perl\"\n",
    "food"
   ]
  },
  {
   "cell_type": "code",
   "execution_count": 8,
   "id": "116f27cc",
   "metadata": {},
   "outputs": [
    {
     "ename": "SyntaxError",
     "evalue": "invalid syntax (2716953454.py, line 1)",
     "output_type": "error",
     "traceback": [
      "\u001b[1;36m  File \u001b[1;32m\"C:\\Users\\82102\\AppData\\Local\\Temp\\ipykernel_9500\\2716953454.py\"\u001b[1;36m, line \u001b[1;32m1\u001b[0m\n\u001b[1;33m    food = 'Python's favorite food is perl'\u001b[0m\n\u001b[1;37m                   ^\u001b[0m\n\u001b[1;31mSyntaxError\u001b[0m\u001b[1;31m:\u001b[0m invalid syntax\n"
     ]
    }
   ],
   "source": [
    "food = 'Python's favorite food is perl'\n",
    "food"
   ]
  },
  {
   "cell_type": "markdown",
   "id": "6a308e6d",
   "metadata": {},
   "source": [
    "2. 문자열에 큰따옴표(\") 포함시키기"
   ]
  },
  {
   "cell_type": "code",
   "execution_count": 9,
   "id": "656299a1",
   "metadata": {},
   "outputs": [
    {
     "data": {
      "text/plain": [
       "'\"Python is very easy.\" he says.'"
      ]
     },
     "execution_count": 9,
     "metadata": {},
     "output_type": "execute_result"
    }
   ],
   "source": [
    "say = '\"Python is very easy.\" he says.'\n",
    "say"
   ]
  },
  {
   "cell_type": "markdown",
   "id": "518d1ebe",
   "metadata": {},
   "source": [
    "3. 백슬래시(\\)를 사용해서 작은따옴표와 큰따옴표(\")를 문자열에 포함시키기"
   ]
  },
  {
   "cell_type": "code",
   "execution_count": 14,
   "id": "c5f9edaa",
   "metadata": {},
   "outputs": [
    {
     "name": "stdout",
     "output_type": "stream",
     "text": [
      "Python's favorite food is perl\n",
      "\"Python is very easy.\" he says.\n"
     ]
    }
   ],
   "source": [
    "food = 'Python\\'s favorite food is perl'\n",
    "say = \"\\\"Python is very easy.\\\" he says.\"\n",
    "print(food)\n",
    "print(say)"
   ]
  },
  {
   "cell_type": "markdown",
   "id": "84642d05",
   "metadata": {},
   "source": [
    "여러 줄인 문자열을 변수에 대입하고 싶을 때"
   ]
  },
  {
   "cell_type": "markdown",
   "id": "35b84d88",
   "metadata": {},
   "source": [
    "1. 줄을 바꾸기 위한 이스케이프 코드 \\n 삽입하기"
   ]
  },
  {
   "cell_type": "code",
   "execution_count": 17,
   "id": "dd0c8653",
   "metadata": {},
   "outputs": [
    {
     "name": "stdout",
     "output_type": "stream",
     "text": [
      "Life is too short\n",
      "You need python\n"
     ]
    }
   ],
   "source": [
    "multiline = \"Life is too short\\nYou need python\"\n",
    "print(multiline)"
   ]
  },
  {
   "cell_type": "markdown",
   "id": "4cec70d2",
   "metadata": {},
   "source": [
    "2. 연속된 작은따옴표 3개(''') 또는 큰따옴표3개 (\"\"\") 사용하기"
   ]
  },
  {
   "cell_type": "code",
   "execution_count": 18,
   "id": "af3308f6",
   "metadata": {},
   "outputs": [
    {
     "name": "stdout",
     "output_type": "stream",
     "text": [
      "Life is too short\n",
      "you need python\n"
     ]
    }
   ],
   "source": [
    "multiline = '''Life is too short\n",
    "you need python'''\n",
    "print(multiline)"
   ]
  },
  {
   "cell_type": "code",
   "execution_count": 19,
   "id": "5537771e",
   "metadata": {},
   "outputs": [
    {
     "name": "stdout",
     "output_type": "stream",
     "text": [
      "Life is too short\n",
      "you need python\n"
     ]
    }
   ],
   "source": [
    "multiline = \"\"\"Life is too short\n",
    "you need python\"\"\"\n",
    "print(multiline)"
   ]
  },
  {
   "cell_type": "markdown",
   "id": "39159cca",
   "metadata": {},
   "source": [
    "문자열 연산하기"
   ]
  },
  {
   "cell_type": "markdown",
   "id": "e4a869ef",
   "metadata": {},
   "source": [
    "문자열 더해서 연결하기(Concatenation)"
   ]
  },
  {
   "cell_type": "code",
   "execution_count": 22,
   "id": "c715b364",
   "metadata": {},
   "outputs": [
    {
     "data": {
      "text/plain": [
       "'Pythonis fun'"
      ]
     },
     "execution_count": 22,
     "metadata": {},
     "output_type": "execute_result"
    }
   ],
   "source": [
    "head = \"Python\"\n",
    "tail = \"is fun\"\n",
    "head + tail"
   ]
  },
  {
   "cell_type": "markdown",
   "id": "6b1d66c2",
   "metadata": {},
   "source": [
    "문자열 곱하기"
   ]
  },
  {
   "cell_type": "code",
   "execution_count": 21,
   "id": "e0b9a6ca",
   "metadata": {},
   "outputs": [
    {
     "data": {
      "text/plain": [
       "'pythonpython'"
      ]
     },
     "execution_count": 21,
     "metadata": {},
     "output_type": "execute_result"
    }
   ],
   "source": [
    "a = \"python\"\n",
    "a * 2"
   ]
  },
  {
   "cell_type": "markdown",
   "id": "a0e4ac17",
   "metadata": {},
   "source": [
    "문자열 곱하기 응용"
   ]
  },
  {
   "cell_type": "code",
   "execution_count": 24,
   "id": "3f334a93",
   "metadata": {},
   "outputs": [
    {
     "name": "stdout",
     "output_type": "stream",
     "text": [
      "==================================================\n",
      "My Program\n",
      "==================================================\n"
     ]
    }
   ],
   "source": [
    "# for(int i = 0; i <= 50; i++) {\n",
    "#     print(\"=\")\n",
    "# }\n",
    "\n",
    "print(\"=\" * 50)\n",
    "print(\"My Program\")\n",
    "print(\"=\" * 50)"
   ]
  },
  {
   "cell_type": "code",
   "execution_count": null,
   "id": "7446cb9e",
   "metadata": {},
   "outputs": [],
   "source": []
  }
 ],
 "metadata": {
  "kernelspec": {
   "display_name": "Python 3 (ipykernel)",
   "language": "python",
   "name": "python3"
  },
  "language_info": {
   "codemirror_mode": {
    "name": "ipython",
    "version": 3
   },
   "file_extension": ".py",
   "mimetype": "text/x-python",
   "name": "python",
   "nbconvert_exporter": "python",
   "pygments_lexer": "ipython3",
   "version": "3.9.13"
  }
 },
 "nbformat": 4,
 "nbformat_minor": 5
}
