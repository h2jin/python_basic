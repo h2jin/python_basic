{
 "cells": [
  {
   "cell_type": "markdown",
   "id": "3d8d9351",
   "metadata": {},
   "source": [
    "함수의 인자 처리\n",
    "\n",
    "키워드 인자\n",
    "\n",
    "- 함수에 입력되는 parameter의 변수명을 사용, arguments를 넘김"
   ]
  },
  {
   "cell_type": "code",
   "execution_count": 8,
   "id": "2ab11731",
   "metadata": {},
   "outputs": [
    {
     "name": "stdout",
     "output_type": "stream",
     "text": [
      "Hello group. My name is Hong\n",
      "Hello group. My name is Hong\n"
     ]
    }
   ],
   "source": [
    "def print_something(my_name, your_name):\n",
    "    print(\"Hello {0}. My name is {1}\".format(your_name, my_name))\n",
    "\n",
    "print_something(\"Hong\", \"group\")\n",
    "print_something(your_name=\"group\", my_name=\"Hong\")"
   ]
  },
  {
   "cell_type": "markdown",
   "id": "4c3e9078",
   "metadata": {},
   "source": [
    "﻿\n",
    "디폴트 인자\n",
    "\n",
    "- parameter의 기본값을 사용, 입력하지 않을 경우 기본값 출력\n",
    "\n",
    "﻿"
   ]
  },
  {
   "cell_type": "code",
   "execution_count": 9,
   "id": "41cbb454",
   "metadata": {},
   "outputs": [
    {
     "name": "stdout",
     "output_type": "stream",
     "text": [
      "Hello none name. My name is Hong\n",
      "Hello group. My name is Hong\n"
     ]
    }
   ],
   "source": [
    "def print_something(my_name, your_name=\"none name\"):\n",
    "    print(\"Hello {0}. My name is {1}\".format(your_name, my_name))\n",
    "\n",
    "print_something(\"Hong\")\n",
    "print_something(your_name=\"group\", my_name=\"Hong\")"
   ]
  },
  {
   "cell_type": "code",
   "execution_count": 10,
   "id": "1ff66edd",
   "metadata": {},
   "outputs": [
    {
     "name": "stdout",
     "output_type": "stream",
     "text": [
      "100 200 1\n"
     ]
    }
   ],
   "source": [
    "def line(x, y, width=1):\n",
    "    print(x, y, width)\n",
    "    \n",
    "line(100, 200)    "
   ]
  },
  {
   "cell_type": "markdown",
   "id": "9042b634",
   "metadata": {},
   "source": [
    "﻿\n",
    "가변인자(Variable-length)\n",
    "\n",
    "- 개수가 정해지지 않은 변수를 함수의 parameter로 사용하는 법\n",
    "\n",
    "- Keyword arguments와 함께, argument 추가가 가능\n",
    "\n",
    "- Asterisk(*) 기호를 사용하여 함수의 parameter를 표시함\n",
    "\n",
    "- 입력된 값은 tupletype으로 사용할 수 있음\n",
    "\n",
    "- 가변인자는 오직 한개만 맨 마지막 parameter 위치에 사용 가능\n",
    "\n",
    "- 가변인자는 일반적으로 *args를 변수명으로 사용\n",
    "\n",
    "- 기존 parameter 이후에 나오는 값을 tuple로 지정함\n",
    "\n",
    "\n",
    "﻿"
   ]
  },
  {
   "cell_type": "code",
   "execution_count": 12,
   "id": "12143d96",
   "metadata": {},
   "outputs": [
    {
     "name": "stdout",
     "output_type": "stream",
     "text": [
      "(3, 4, 5)\n",
      "15\n"
     ]
    }
   ],
   "source": [
    "def asterisk_test(a, b, *args):\n",
    "    print(args)\n",
    "    return a + b + sum(args)\n",
    "\n",
    "ret = asterisk_test(1, 2, 3, 4, 5)\n",
    "print(ret)"
   ]
  },
  {
   "cell_type": "code",
   "execution_count": 19,
   "id": "1b552330",
   "metadata": {},
   "outputs": [
    {
     "name": "stdout",
     "output_type": "stream",
     "text": [
      "17\n"
     ]
    }
   ],
   "source": [
    "# 가변 더하기 함수\n",
    "def vsum(n, *args):\n",
    "    total = 0\n",
    "    for i in range(n):\n",
    "        total += args[i] \n",
    "    return total\n",
    "\n",
    "ret = vsum(4, 3,4,5,5)\n",
    "print(ret)"
   ]
  },
  {
   "cell_type": "markdown",
   "id": "e3061597",
   "metadata": {},
   "source": [
    "키워드 가변인자(Keyword variable-length)\n",
    "\n",
    "- parameter 이름을 따로 지정하지 않고 입력하는 방법\n",
    "\n",
    "- Asterisk(*) 두 개를 사용하여 함수의 parameter를 표시함\n",
    "\n",
    "- 입력된 값은 dicttype으로 사용할 수 있음\n",
    "\n",
    "- 가변인자는 오직 한개만 기존 가변인자 다음에 사용\n"
   ]
  },
  {
   "cell_type": "code",
   "execution_count": 23,
   "id": "3bc93b34",
   "metadata": {},
   "outputs": [],
   "source": [
    "def cheeseshop(kind, *arguments, **keywords):\n",
    "    print(\"-- Do you have any\", kind, \"?\")\n",
    "    print(\"-- I'm sorry, we're all out of \", kind)\n",
    "    for arg in arguments:\n",
    "        print(arg)\n",
    "    print(\"-\" *40)\n",
    "    for kw in keywords:\n",
    "        print(kw, \":\", keywords[kw])"
   ]
  },
  {
   "cell_type": "code",
   "execution_count": 24,
   "id": "cfb96185",
   "metadata": {
    "scrolled": true
   },
   "outputs": [
    {
     "name": "stdout",
     "output_type": "stream",
     "text": [
      "-- Do you have any Limburger ?\n",
      "-- I'm sorry, we're all out of  Limburger\n",
      "It's very runny, sir.\n",
      "It's really very, VERY runny, sir.\n",
      "----------------------------------------\n",
      "shopkeeper : Michael Palin\n",
      "client : John Cleese\n",
      "sketch : Cheese Chop Sketch\n"
     ]
    }
   ],
   "source": [
    "cheeseshop(\"Limburger\", \"It's very runny, sir.\", \n",
    "    \"It's really very, VERY runny, sir.\",\n",
    "    shopkeeper=\"Michael Palin\",\n",
    "    client=\"John Cleese\",\n",
    "    sketch=\"Cheese Chop Sketch\")"
   ]
  },
  {
   "cell_type": "code",
   "execution_count": 25,
   "id": "6c21eb53",
   "metadata": {},
   "outputs": [
    {
     "name": "stdout",
     "output_type": "stream",
     "text": [
      "1\n",
      "(2, 3, 4)\n",
      "{'x': 100, 'y': 200, 'z': 300}\n"
     ]
    }
   ],
   "source": [
    "def foo(a, *b, **c):\n",
    "    print(a)\n",
    "    print(b)\n",
    "    print(c)\n",
    "    \n",
    "foo(1, 2,3,4, x=100, y=200, z=300)"
   ]
  },
  {
   "cell_type": "code",
   "execution_count": null,
   "id": "88a6eac1",
   "metadata": {},
   "outputs": [],
   "source": []
  }
 ],
 "metadata": {
  "kernelspec": {
   "display_name": "Python 3 (ipykernel)",
   "language": "python",
   "name": "python3"
  },
  "language_info": {
   "codemirror_mode": {
    "name": "ipython",
    "version": 3
   },
   "file_extension": ".py",
   "mimetype": "text/x-python",
   "name": "python",
   "nbconvert_exporter": "python",
   "pygments_lexer": "ipython3",
   "version": "3.9.13"
  }
 },
 "nbformat": 4,
 "nbformat_minor": 5
}
