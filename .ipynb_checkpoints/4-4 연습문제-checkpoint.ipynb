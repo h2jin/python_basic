{
 "cells": [
  {
   "cell_type": "markdown",
   "id": "aa43c80e",
   "metadata": {},
   "source": [
    "1. 다음 소스 코드를 완성하여 리스트 [5, 3, 1, -1, -3, -5, -7, -9]가 출력되게 하시오.\n",
    "\n",
    "리스트를 만들 때는 range를 사용하시오.\n",
    "\n",
    "﻿"
   ]
  },
  {
   "cell_type": "code",
   "execution_count": 5,
   "id": "9394aa67",
   "metadata": {},
   "outputs": [
    {
     "name": "stdout",
     "output_type": "stream",
     "text": [
      "[5, 3, 1, -1, -3, -5, -7, -9]\n"
     ]
    }
   ],
   "source": [
    "a = list(range(5, -10, -2))\n",
    "print(a)"
   ]
  },
  {
   "cell_type": "markdown",
   "id": "ad6e87d8",
   "metadata": {},
   "source": [
    "﻿\n",
    "2. 표준 입력으로 문자열 두 개가 각 줄에 입력된다. 첫 번째 문자열에서 인덱스가 홀수인 문자와 두 번째 문자열에서 인덱스가 짝수인 문자를 연결하여 출력하는 프로그램을 구현하시오.\n",
    "\n",
    "예)\n",
    "\n",
    "표준입력:\n",
    "\n",
    "python\n",
    "\n",
    "python\n",
    "\n",
    "표준 출력:\n",
    "\n",
    "yhnpto"
   ]
  },
  {
   "cell_type": "code",
   "execution_count": 8,
   "id": "c4dde84a",
   "metadata": {},
   "outputs": [
    {
     "name": "stdout",
     "output_type": "stream",
     "text": [
      "첫번째 문자열 : python\n",
      "두번째 문자열 : python\n",
      "yhnpto\n"
     ]
    }
   ],
   "source": [
    "first = input(\"첫번째 문자열 : \")\n",
    "second = input(\"두번째 문자열 : \")\n",
    "\n",
    "temp = first[1::2] + second[::2] \n",
    "# temp = first[1:len(first):2] + second[0:len(second):2]\n",
    "print(temp)"
   ]
  },
  {
   "cell_type": "markdown",
   "id": "37b89303",
   "metadata": {},
   "source": [
    "﻿3. 다음의 딕셔너리로 부터 아래 조건에 부합하는 자료구조를 생성하라.\n",
    " \n",
    " icecream = {'탱크보이': 1200, '폴라포': 1200, '빵빠레': 1800, '월드콘': 1500, '메로나': 1000}\n",
    " "
   ]
  },
  {
   "cell_type": "code",
   "execution_count": 29,
   "id": "90a63893",
   "metadata": {},
   "outputs": [],
   "source": [
    "icecream = {'탱크보이': 1200, '폴라포': 1200, '빵빠레': 1800, '월드콘': 1500, '메로나': 1000}"
   ]
  },
  {
   "cell_type": "markdown",
   "id": "a322f7ff",
   "metadata": {},
   "source": [
    "- 다음의 딕셔너리로부터 keys 값으로만 구성된 리스트를 생성하라."
   ]
  },
  {
   "cell_type": "code",
   "execution_count": 16,
   "id": "bab1f0a0",
   "metadata": {},
   "outputs": [
    {
     "name": "stdout",
     "output_type": "stream",
     "text": [
      "['탱크보이', '폴라포', '빵빠레', '월드콘', '메로나']\n"
     ]
    }
   ],
   "source": [
    "keys = list(icecream.keys())\n",
    "print(keys)"
   ]
  },
  {
   "cell_type": "markdown",
   "id": "fb8db512",
   "metadata": {},
   "source": [
    "- 다음의 딕셔너리로부터 values 값으로만 구성된 튜플을 생성하라."
   ]
  },
  {
   "cell_type": "code",
   "execution_count": 30,
   "id": "4b655051",
   "metadata": {},
   "outputs": [
    {
     "name": "stdout",
     "output_type": "stream",
     "text": [
      "(1200, 1200, 1800, 1500, 1000)\n"
     ]
    }
   ],
   "source": [
    "values = tuple(icecream.values())\n",
    "print(values)"
   ]
  },
  {
   "cell_type": "markdown",
   "id": "261c034f",
   "metadata": {},
   "source": [
    "- 다음의 딕셔너리로부터 아이스크림 가격의 총합을 출력하라."
   ]
  },
  {
   "cell_type": "code",
   "execution_count": 31,
   "id": "d659f2a8",
   "metadata": {},
   "outputs": [
    {
     "name": "stdout",
     "output_type": "stream",
     "text": [
      "6700\n"
     ]
    }
   ],
   "source": [
    "total = sum(values)\n",
    "print(total)"
   ]
  },
  {
   "cell_type": "code",
   "execution_count": 34,
   "id": "d93208ab",
   "metadata": {},
   "outputs": [
    {
     "data": {
      "text/plain": [
       "list"
      ]
     },
     "execution_count": 34,
     "metadata": {},
     "output_type": "execute_result"
    }
   ],
   "source": [
    "icecream = {'탱크보이': '1200', '폴라포': '1200', '빵빠레': '1800', '월드콘': '1500', '메로나': '1000'}\n",
    "\n",
    "# 리스트 안에 있는 문자열을 숫자로 바꾸는 방법은 무엇일까..."
   ]
  },
  {
   "cell_type": "markdown",
   "id": "e1dc0357",
   "metadata": {},
   "source": [
    "﻿4. 다음의 data와 close_price 두 개의 리스트를 close_table 이름의 딕셔너리로 생성하라."
   ]
  },
  {
   "cell_type": "code",
   "execution_count": 35,
   "id": "52ddf37d",
   "metadata": {},
   "outputs": [],
   "source": [
    "data = ['09/05', '09/06', '09/07', '09/08', '09/09']\n",
    "close_price = [10500, 10300, 10100, 10800, 11000]"
   ]
  },
  {
   "cell_type": "code",
   "execution_count": 38,
   "id": "6c0c90aa",
   "metadata": {},
   "outputs": [
    {
     "name": "stdout",
     "output_type": "stream",
     "text": [
      "{'09/05': 10500, '09/06': 10300, '09/07': 10100, '09/08': 10800, '09/09': 11000}\n"
     ]
    }
   ],
   "source": [
    "close_table = dict( zip(data, close_price))\n",
    "\n",
    "print(close_table)"
   ]
  },
  {
   "cell_type": "code",
   "execution_count": null,
   "id": "6ef2df0c",
   "metadata": {},
   "outputs": [],
   "source": []
  }
 ],
 "metadata": {
  "kernelspec": {
   "display_name": "Python 3 (ipykernel)",
   "language": "python",
   "name": "python3"
  },
  "language_info": {
   "codemirror_mode": {
    "name": "ipython",
    "version": 3
   },
   "file_extension": ".py",
   "mimetype": "text/x-python",
   "name": "python",
   "nbconvert_exporter": "python",
   "pygments_lexer": "ipython3",
   "version": "3.9.13"
  }
 },
 "nbformat": 4,
 "nbformat_minor": 5
}
