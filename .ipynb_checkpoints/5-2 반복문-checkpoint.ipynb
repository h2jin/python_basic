{
 "cells": [
  {
   "cell_type": "markdown",
   "id": "547bff62",
   "metadata": {},
   "source": [
    "﻿\n",
    "반복문\n",
    "\n",
    "정해진 동작을 반복적으로 수행하게 하는 명령문\n",
    "\n",
    "\n",
    "생활 속 프로그램 예시\n",
    "\n",
    "- 100명의 학생 성적을 산출할 때\n",
    "\n",
    "- 왓챠에서 영화 추천하기\n",
    "\n",
    "- 워드에서 단어 바꾸기 명령 실행\n",
    "\n",
    "\n",
    "반복문은 반복 시작 조건, 종료 조건, 수행명령으로 구성됨\n",
    "\n",
    "반복문 역시 반복 구문은 들여쓰기와 block으로 구분됨\n",
    "\n",
    "\n",
    "파이썬은 반복문으로 for, while 등의 명령 키워드를 사용함.\n",
    "\n",
    "\n",
    "﻿"
   ]
  },
  {
   "cell_type": "markdown",
   "id": "cf6d3dd2",
   "metadata": {},
   "source": [
    "for 문\n",
    "\n",
    "\n",
    "기본적인 반복문, 반복 범위를 지정하여 반복문 수행"
   ]
  },
  {
   "cell_type": "code",
   "execution_count": 1,
   "id": "bf6065a2",
   "metadata": {},
   "outputs": [
    {
     "name": "stdout",
     "output_type": "stream",
     "text": [
      "Hello\n",
      "Hello\n",
      "Hello\n",
      "Hello\n",
      "Hello\n",
      "1\n",
      "2\n",
      "3\n",
      "4\n",
      "5\n"
     ]
    }
   ],
   "source": [
    "for looper in [1, 2, 3, 4, 5]:\n",
    "    print(\"Hello\")\n",
    "    \n",
    "for looper in [1, 2, 3, 4, 5]:\n",
    "    print(looper)"
   ]
  },
  {
   "cell_type": "markdown",
   "id": "999f39c8",
   "metadata": {},
   "source": [
    "range() 사용하기"
   ]
  },
  {
   "cell_type": "code",
   "execution_count": 2,
   "id": "c7591525",
   "metadata": {},
   "outputs": [
    {
     "name": "stdout",
     "output_type": "stream",
     "text": [
      "Hello\n",
      "Hello\n",
      "Hello\n",
      "Hello\n",
      "Hello\n",
      "hello\n",
      "hello\n",
      "hello\n",
      "hello\n",
      "hello\n"
     ]
    }
   ],
   "source": [
    "for looper in [1, 2, 3, 4, 5]:\n",
    "    print(\"Hello\")\n",
    "\n",
    "for looper in range(0, 5):\n",
    "    print(\"hello\")"
   ]
  },
  {
   "cell_type": "markdown",
   "id": "b025d281",
   "metadata": {},
   "source": [
    "for문의 다양한 반복문 조건 표현\n",
    "\n",
    "\n",
    "문자열을 한자씩 리스트로 처리"
   ]
  },
  {
   "cell_type": "code",
   "execution_count": 3,
   "id": "51127b8b",
   "metadata": {},
   "outputs": [
    {
     "name": "stdout",
     "output_type": "stream",
     "text": [
      "a\n",
      "b\n",
      "c\n",
      "d\n",
      "e\n",
      "f\n",
      "g\n"
     ]
    }
   ],
   "source": [
    "for i in 'abcdefg':\n",
    "    print(i)"
   ]
  },
  {
   "cell_type": "markdown",
   "id": "2a097b77",
   "metadata": {},
   "source": [
    "각각의 문자열 리스트로 처리"
   ]
  },
  {
   "cell_type": "code",
   "execution_count": 4,
   "id": "2e139795",
   "metadata": {},
   "outputs": [
    {
     "name": "stdout",
     "output_type": "stream",
     "text": [
      "Americano\n",
      "Latte\n",
      "Frafuchino\n"
     ]
    }
   ],
   "source": [
    "for i in ['Americano', 'Latte', 'Frafuchino']:\n",
    "    print(i)"
   ]
  },
  {
   "cell_type": "markdown",
   "id": "1635100b",
   "metadata": {},
   "source": [
    "간격을 두고 세기"
   ]
  },
  {
   "cell_type": "code",
   "execution_count": 5,
   "id": "34961907",
   "metadata": {},
   "outputs": [
    {
     "name": "stdout",
     "output_type": "stream",
     "text": [
      "1 3 5 7 9 "
     ]
    }
   ],
   "source": [
    "for i in range(1,10,2):\n",
    "    print(i, end=' ')"
   ]
  },
  {
   "cell_type": "markdown",
   "id": "9419d7b1",
   "metadata": {},
   "source": [
    "- 역순으로 반복문 수행"
   ]
  },
  {
   "cell_type": "code",
   "execution_count": 7,
   "id": "3e5ac5a2",
   "metadata": {},
   "outputs": [
    {
     "name": "stdout",
     "output_type": "stream",
     "text": [
      "10 9 8 7 6 5 4 3 2 1 "
     ]
    }
   ],
   "source": [
    "for i in range(10,0,-1):\n",
    "    print(i, end=\" \")"
   ]
  },
  {
   "cell_type": "markdown",
   "id": "04b4f3f5",
   "metadata": {},
   "source": [
    "While문\n",
    "\n",
    "조건이 만족하는 동안 반복 명령문을 수행"
   ]
  },
  {
   "cell_type": "code",
   "execution_count": 8,
   "id": "3cddc32c",
   "metadata": {},
   "outputs": [
    {
     "name": "stdout",
     "output_type": "stream",
     "text": [
      "0 1 2 3 4 5 6 7 8 9 "
     ]
    }
   ],
   "source": [
    "i=0\n",
    "while i < 10:\n",
    "    print(i, end=\" \")\n",
    "    i += 1"
   ]
  },
  {
   "cell_type": "markdown",
   "id": "94bcc7a0",
   "metadata": {},
   "source": [
    "for문은 while문으로 변환 가능"
   ]
  },
  {
   "cell_type": "code",
   "execution_count": 9,
   "id": "6d1b6503",
   "metadata": {},
   "outputs": [
    {
     "name": "stdout",
     "output_type": "stream",
     "text": [
      "0 1 2 3 4 "
     ]
    }
   ],
   "source": [
    "for i in range(0,5):\n",
    "    print(i, end=' ')"
   ]
  },
  {
   "cell_type": "code",
   "execution_count": 10,
   "id": "bd27dabc",
   "metadata": {},
   "outputs": [
    {
     "name": "stdout",
     "output_type": "stream",
     "text": [
      "0 1 2 3 4 "
     ]
    }
   ],
   "source": [
    "i=0\n",
    "while i<5:\n",
    "    print(i, end=' ')\n",
    "    i += 1"
   ]
  },
  {
   "cell_type": "markdown",
   "id": "5834bb4f",
   "metadata": {},
   "source": [
    "반복의 제어 - break, continue\n",
    "\n",
    "break 특정 조건에서 반복 종료"
   ]
  },
  {
   "cell_type": "code",
   "execution_count": 11,
   "id": "d8ae628d",
   "metadata": {},
   "outputs": [
    {
     "name": "stdout",
     "output_type": "stream",
     "text": [
      "0\n",
      "1\n",
      "2\n",
      "3\n",
      "4\n",
      "EOP\n"
     ]
    }
   ],
   "source": [
    "for i in range(10):\n",
    "    if i == 5:\n",
    "        break\n",
    "    print(i)\n",
    "    \n",
    "print(\"EOP\")"
   ]
  },
  {
   "cell_type": "markdown",
   "id": "acc1449c",
   "metadata": {},
   "source": [
    "continue 특정 조건에서 남은 반복 명령 skip"
   ]
  },
  {
   "cell_type": "code",
   "execution_count": 12,
   "id": "cb2e8456",
   "metadata": {},
   "outputs": [
    {
     "name": "stdout",
     "output_type": "stream",
     "text": [
      "0\n",
      "1\n",
      "2\n",
      "3\n",
      "4\n",
      "6\n",
      "7\n",
      "8\n",
      "9\n",
      "EOP\n"
     ]
    }
   ],
   "source": [
    "for i in range(10):\n",
    "    if i == 5:\n",
    "        continue\n",
    "    print(i)\n",
    "print(\"EOP\")"
   ]
  },
  {
   "cell_type": "markdown",
   "id": "31648411",
   "metadata": {},
   "source": [
    "반복의 제어 - else\n",
    "\n",
    "파이썬 만의 매우 특이한 특성\n",
    "\n",
    "\n",
    "반복조건이 만족하지 않을 경우 반복 종료 시 1회 수행\n",
    "\n",
    "반복문을 정리하는 마지막 종료구문을 넣고 싶을 때 else를 넣어주면 된다.\n",
    "\n",
    "\n",
    "* break로 종료된 반복문은 else block이 수행되지 않음.\n",
    "\n",
    "이를 통해 for문을 끝까지 돌았는지 끝까지 돌지 않았는지 알 수 있다.\n",
    "\n",
    "else문은 루프를 끝까지 돌았을 때만 else문을 타게 되는 것이다.\n",
    "\n",
    "﻿"
   ]
  },
  {
   "cell_type": "code",
   "execution_count": 16,
   "id": "14cbe83f",
   "metadata": {},
   "outputs": [
    {
     "name": "stdout",
     "output_type": "stream",
     "text": [
      "0 1 2 3 4 5 6 7 8 9 EOP\n"
     ]
    }
   ],
   "source": [
    "for i in range(10):\n",
    "    print(i, end=' ')\n",
    "else:\n",
    "    print(\"EOP\")"
   ]
  },
  {
   "cell_type": "code",
   "execution_count": 15,
   "id": "151b9c40",
   "metadata": {},
   "outputs": [
    {
     "name": "stdout",
     "output_type": "stream",
     "text": [
      "0 1 2 3 4 5 6 7 8 9 EOP\n"
     ]
    }
   ],
   "source": [
    "i=0\n",
    "while i <10:\n",
    "    print(i, end=' ')\n",
    "    i += 1\n",
    "else:\n",
    "    print(\"EOP\")"
   ]
  },
  {
   "cell_type": "code",
   "execution_count": null,
   "id": "6268de7b",
   "metadata": {},
   "outputs": [],
   "source": []
  }
 ],
 "metadata": {
  "kernelspec": {
   "display_name": "Python 3 (ipykernel)",
   "language": "python",
   "name": "python3"
  },
  "language_info": {
   "codemirror_mode": {
    "name": "ipython",
    "version": 3
   },
   "file_extension": ".py",
   "mimetype": "text/x-python",
   "name": "python",
   "nbconvert_exporter": "python",
   "pygments_lexer": "ipython3",
   "version": "3.9.13"
  }
 },
 "nbformat": 4,
 "nbformat_minor": 5
}
