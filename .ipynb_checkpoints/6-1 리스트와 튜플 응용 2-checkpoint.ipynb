{
 "cells": [
  {
   "cell_type": "markdown",
   "id": "66ad4a74",
   "metadata": {},
   "source": [
    "튜플\n",
    "\n",
    "- 튜플은 쉼표로 구분되는 여러 값으로 구성된다."
   ]
  },
  {
   "cell_type": "code",
   "execution_count": 1,
   "id": "d546de34",
   "metadata": {},
   "outputs": [
    {
     "data": {
      "text/plain": [
       "12345"
      ]
     },
     "execution_count": 1,
     "metadata": {},
     "output_type": "execute_result"
    }
   ],
   "source": [
    "t = 12345, 54321, 'hello!'\n",
    "t[0]"
   ]
  },
  {
   "cell_type": "code",
   "execution_count": 2,
   "id": "6146974a",
   "metadata": {},
   "outputs": [
    {
     "data": {
      "text/plain": [
       "(12345, 54321, 'hello!')"
      ]
     },
     "execution_count": 2,
     "metadata": {},
     "output_type": "execute_result"
    }
   ],
   "source": [
    "t"
   ]
  },
  {
   "cell_type": "markdown",
   "id": "66ee30b4",
   "metadata": {},
   "source": [
    "중첩된 튜플"
   ]
  },
  {
   "cell_type": "code",
   "execution_count": 3,
   "id": "5da23d10",
   "metadata": {},
   "outputs": [
    {
     "data": {
      "text/plain": [
       "((12345, 54321, 'hello!'), (1, 2, 3, 4, 5))"
      ]
     },
     "execution_count": 3,
     "metadata": {},
     "output_type": "execute_result"
    }
   ],
   "source": [
    "u = t, (1, 2, 3, 4, 5)\n",
    "u"
   ]
  },
  {
   "cell_type": "markdown",
   "id": "824795e5",
   "metadata": {},
   "source": [
    "튜플은 불변 객체이다."
   ]
  },
  {
   "cell_type": "code",
   "execution_count": 4,
   "id": "e4f3e8a4",
   "metadata": {},
   "outputs": [
    {
     "ename": "TypeError",
     "evalue": "'tuple' object does not support item assignment",
     "output_type": "error",
     "traceback": [
      "\u001b[1;31m---------------------------------------------------------------------------\u001b[0m",
      "\u001b[1;31mTypeError\u001b[0m                                 Traceback (most recent call last)",
      "\u001b[1;32m~\\AppData\\Local\\Temp\\ipykernel_14164\\16871866.py\u001b[0m in \u001b[0;36m<module>\u001b[1;34m\u001b[0m\n\u001b[1;32m----> 1\u001b[1;33m \u001b[0mt\u001b[0m\u001b[1;33m[\u001b[0m\u001b[1;36m0\u001b[0m\u001b[1;33m]\u001b[0m \u001b[1;33m=\u001b[0m \u001b[1;36m88888\u001b[0m\u001b[1;33m\u001b[0m\u001b[1;33m\u001b[0m\u001b[0m\n\u001b[0m",
      "\u001b[1;31mTypeError\u001b[0m: 'tuple' object does not support item assignment"
     ]
    }
   ],
   "source": [
    "t[0] = 88888"
   ]
  },
  {
   "cell_type": "markdown",
   "id": "841a6528",
   "metadata": {},
   "source": [
    "튜플의 요소로 가변 객체를 포함할 수 있다."
   ]
  },
  {
   "cell_type": "code",
   "execution_count": 5,
   "id": "286e6e11",
   "metadata": {},
   "outputs": [
    {
     "data": {
      "text/plain": [
       "([2, 2, 3], [3, 1, 2])"
      ]
     },
     "execution_count": 5,
     "metadata": {},
     "output_type": "execute_result"
    }
   ],
   "source": [
    "v = ([1, 2, 3], [3, 1, 2])\n",
    "v[0][0] = 2\n",
    "v"
   ]
  },
  {
   "cell_type": "markdown",
   "id": "ac978af6",
   "metadata": {},
   "source": [
    "﻿빈 튜플 만들기"
   ]
  },
  {
   "cell_type": "code",
   "execution_count": 6,
   "id": "b096f923",
   "metadata": {},
   "outputs": [
    {
     "data": {
      "text/plain": [
       "0"
      ]
     },
     "execution_count": 6,
     "metadata": {},
     "output_type": "execute_result"
    }
   ],
   "source": [
    "empty = ()\n",
    "len(empty)"
   ]
  },
  {
   "cell_type": "markdown",
   "id": "a0706763",
   "metadata": {},
   "source": [
    "콤마가 있으면 튜플로 간주한다."
   ]
  },
  {
   "cell_type": "code",
   "execution_count": 7,
   "id": "0667ba6f",
   "metadata": {},
   "outputs": [
    {
     "data": {
      "text/plain": [
       "1"
      ]
     },
     "execution_count": 7,
     "metadata": {},
     "output_type": "execute_result"
    }
   ],
   "source": [
    "singleton = 'hello',\n",
    "len(singleton)"
   ]
  },
  {
   "cell_type": "markdown",
   "id": "ed8296e4",
   "metadata": {},
   "source": [
    "튜플 언 패킹"
   ]
  },
  {
   "cell_type": "code",
   "execution_count": 11,
   "id": "2975c244",
   "metadata": {},
   "outputs": [
    {
     "name": "stdout",
     "output_type": "stream",
     "text": [
      "12345 54321 hello!\n"
     ]
    }
   ],
   "source": [
    "t = 12345, 54321, 'hello!'\n",
    "x, y, z = t\n",
    "print(x, y, z)\n",
    "\n",
    "# x, y = t\n",
    "# 원소의 개수를 맞춰야 한다. 그렇지 않을 경우 Error (too many values to unpack)"
   ]
  },
  {
   "cell_type": "code",
   "execution_count": 12,
   "id": "84969013",
   "metadata": {},
   "outputs": [
    {
     "name": "stdout",
     "output_type": "stream",
     "text": [
      "(12345, 54321, 'hello!')\n"
     ]
    }
   ],
   "source": [
    "t = 12345, 54321, 'hello!'\n",
    "a = t\n",
    "print(a)"
   ]
  },
  {
   "cell_type": "code",
   "execution_count": 13,
   "id": "c51557fb",
   "metadata": {},
   "outputs": [
    {
     "name": "stdout",
     "output_type": "stream",
     "text": [
      "1 2 3\n"
     ]
    }
   ],
   "source": [
    "def foo():\n",
    "    return 1, 2, 3 #이는 리턴을 3개 한 것이 아니라 튜플을 리턴한 것이다.\n",
    "\n",
    "a, b, c = foo()\n",
    "print(a, b, c)"
   ]
  },
  {
   "cell_type": "markdown",
   "id": "7259fbbf",
   "metadata": {},
   "source": [
    "피보나치 수열 만들기"
   ]
  },
  {
   "cell_type": "code",
   "execution_count": 14,
   "id": "62a4d2ba",
   "metadata": {},
   "outputs": [
    {
     "name": "stdout",
     "output_type": "stream",
     "text": [
      "0 1 1 2 3 5 8 "
     ]
    }
   ],
   "source": [
    "a = 0\n",
    "b = 1\n",
    "while a < 10:\n",
    "    print(a, end=' ')\n",
    "    c = a + b\n",
    "    a = b\n",
    "    b = c"
   ]
  },
  {
   "cell_type": "code",
   "execution_count": 15,
   "id": "4789dbd7",
   "metadata": {},
   "outputs": [
    {
     "name": "stdout",
     "output_type": "stream",
     "text": [
      "0 1 1 2 3 5 8 "
     ]
    }
   ],
   "source": [
    "a, b = 0, 1\n",
    "while a < 10:\n",
    "    print(a, end=' ')\n",
    "    a, b = b, a+b"
   ]
  },
  {
   "cell_type": "code",
   "execution_count": null,
   "id": "e751d2b2",
   "metadata": {},
   "outputs": [],
   "source": []
  }
 ],
 "metadata": {
  "kernelspec": {
   "display_name": "Python 3 (ipykernel)",
   "language": "python",
   "name": "python3"
  },
  "language_info": {
   "codemirror_mode": {
    "name": "ipython",
    "version": 3
   },
   "file_extension": ".py",
   "mimetype": "text/x-python",
   "name": "python",
   "nbconvert_exporter": "python",
   "pygments_lexer": "ipython3",
   "version": "3.9.13"
  }
 },
 "nbformat": 4,
 "nbformat_minor": 5
}
