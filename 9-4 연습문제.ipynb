{
 "cells": [
  {
   "cell_type": "markdown",
   "id": "b0fb14a9",
   "metadata": {},
   "source": [
    "1. 삼각형의 넓이를 계산하기 위한 클래스를 만든다. 이 클래스는 다음과 같은 속성을 가진다.\n",
    "\n",
    "- 밑변의 길이 b와 높이 h\n",
    "\n",
    "- 삼각형의 넓이를 계산하는 메서드 area"
   ]
  },
  {
   "cell_type": "code",
   "execution_count": 7,
   "id": "96e7d0bd",
   "metadata": {},
   "outputs": [
    {
     "ename": "TypeError",
     "evalue": "area() takes 0 positional arguments but 1 was given",
     "output_type": "error",
     "traceback": [
      "\u001b[1;31m---------------------------------------------------------------------------\u001b[0m",
      "\u001b[1;31mTypeError\u001b[0m                                 Traceback (most recent call last)",
      "\u001b[1;32m~\\AppData\\Local\\Temp\\ipykernel_13364\\4288855901.py\u001b[0m in \u001b[0;36m<module>\u001b[1;34m\u001b[0m\n\u001b[0;32m      9\u001b[0m \u001b[1;33m\u001b[0m\u001b[0m\n\u001b[0;32m     10\u001b[0m \u001b[0mt\u001b[0m \u001b[1;33m=\u001b[0m \u001b[0mTriangle\u001b[0m\u001b[1;33m(\u001b[0m\u001b[1;36m10\u001b[0m\u001b[1;33m,\u001b[0m \u001b[1;36m20\u001b[0m\u001b[1;33m)\u001b[0m\u001b[1;33m\u001b[0m\u001b[1;33m\u001b[0m\u001b[0m\n\u001b[1;32m---> 11\u001b[1;33m \u001b[0mprint\u001b[0m\u001b[1;33m(\u001b[0m\u001b[0mt\u001b[0m\u001b[1;33m.\u001b[0m\u001b[0marea\u001b[0m\u001b[1;33m(\u001b[0m\u001b[1;33m)\u001b[0m\u001b[1;33m)\u001b[0m\u001b[1;33m\u001b[0m\u001b[1;33m\u001b[0m\u001b[0m\n\u001b[0m",
      "\u001b[1;31mTypeError\u001b[0m: area() takes 0 positional arguments but 1 was given"
     ]
    }
   ],
   "source": [
    "class Triangle:\n",
    "    def __init__(self, b, h):\n",
    "        self.b = b\n",
    "        self.h = h\n",
    "        \n",
    "    def area(self):\n",
    "        return self.b * self.h * 0.5\n",
    "    \n",
    "    \n",
    "t = Triangle(10, 20)\n",
    "print(t.area())"
   ]
  },
  {
   "cell_type": "markdown",
   "id": "0432c42e",
   "metadata": {},
   "source": [
    "﻿2. 표준 입력으로 시:분:초 형식의 시간이 입력된다. 다음 소스코드에서 Time 클래스를 완성하여 시, 분, 초가 출력되게 하시오.\n",
    "\n",
    "- from_string은 문자열로 인스턴스를 만드는 메서드이며\n",
    "\n",
    "- is_time_valid는 문자열이 올바른 시간인지 검사하는 메서드이다.\n",
    "\n",
    "- 시간은 23시까지, 분은 59분까지, 초는 59초까지 있어야 한다."
   ]
  },
  {
   "cell_type": "code",
   "execution_count": 12,
   "id": "35d349f9",
   "metadata": {},
   "outputs": [
    {
     "name": "stdout",
     "output_type": "stream",
     "text": [
      "99:99:99\n",
      "잘못된 시간 형식입니다.\n"
     ]
    }
   ],
   "source": [
    "class Time:\n",
    "    def __init__(self, hour, minute, second):\n",
    "        self.hour = hour\n",
    "        self.minute = minute\n",
    "        self.second = second\n",
    "    \n",
    "    @staticmethod\n",
    "    def is_time_valid(time_string):\n",
    "        hour, minute, second = map(int, time_string.split(\":\"))\n",
    "#         print(hour, minute, second)\n",
    "        if hour<0 or hour>23:\n",
    "            return False\n",
    "        if minute<0 or minute>59:\n",
    "            return False\n",
    "        if second<0 or second>59:\n",
    "            return False\n",
    "        return True\n",
    "    \n",
    "    @staticmethod\n",
    "    def from_string(time_string):\n",
    "        hour, minute, second = map(int, time_string.split(\":\"))\n",
    "        return Time(hour, minute, second)\n",
    "        \n",
    "        \n",
    "time_string = input()\n",
    "\n",
    "if Time.is_time_valid(time_string):\n",
    "    t = Time.from_string(time_string)\n",
    "    print(t.hour, t.minute, t.second)\n",
    "else:\n",
    "    print(\"잘못된 시간 형식입니다.\")"
   ]
  },
  {
   "cell_type": "markdown",
   "id": "db5c96c4",
   "metadata": {},
   "source": [
    "﻿\n",
    "3. Car 클래스는 run() 구현하되 자식 클래스는 반드시 run()을 오버라이딩 하도록 만들고, Electric 클래스는 charge() 함수를 구현하고\n",
    "\n",
    "Model3 클래스는 위 두 클래스로부터 다중 상속하여 구현하시오.\n",
    "\n",
    "﻿"
   ]
  },
  {
   "cell_type": "code",
   "execution_count": 1,
   "id": "d1210c10",
   "metadata": {},
   "outputs": [
    {
     "name": "stdout",
     "output_type": "stream",
     "text": [
      "충전한다.\n",
      "모델3가 달린다.\n"
     ]
    }
   ],
   "source": [
    "from abc import *\n",
    "\n",
    "class Car(metaclass=ABCMeta):\n",
    "    @abstractmethod\n",
    "    def run(self):\n",
    "        pass\n",
    "    \n",
    "class Electric:\n",
    "    def charge(self):\n",
    "        print(\"충전한다.\")\n",
    "        \n",
    "class Model3(Car, Electric):\n",
    "    def run(self):\n",
    "        print(\"모델3가 달린다.\")\n",
    "        \n",
    "m = Model3()\n",
    "m.charge()\n",
    "m.run()"
   ]
  },
  {
   "cell_type": "code",
   "execution_count": null,
   "id": "e41aeb74",
   "metadata": {},
   "outputs": [],
   "source": []
  }
 ],
 "metadata": {
  "kernelspec": {
   "display_name": "Python 3 (ipykernel)",
   "language": "python",
   "name": "python3"
  },
  "language_info": {
   "codemirror_mode": {
    "name": "ipython",
    "version": 3
   },
   "file_extension": ".py",
   "mimetype": "text/x-python",
   "name": "python",
   "nbconvert_exporter": "python",
   "pygments_lexer": "ipython3",
   "version": "3.9.13"
  }
 },
 "nbformat": 4,
 "nbformat_minor": 5
}
