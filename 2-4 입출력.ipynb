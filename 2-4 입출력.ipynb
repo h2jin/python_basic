{
 "cells": [
  {
   "cell_type": "markdown",
   "id": "db2d6c63",
   "metadata": {},
   "source": [
    "입력"
   ]
  },
  {
   "cell_type": "markdown",
   "id": "d636438f",
   "metadata": {},
   "source": [
    "input()함수는 콘솔창에서 문자열을 입력 받는 함수"
   ]
  },
  {
   "cell_type": "code",
   "execution_count": 5,
   "id": "7999e7f0",
   "metadata": {},
   "outputs": [
    {
     "name": "stdout",
     "output_type": "stream",
     "text": [
      "Enter your name:\n",
      "heejin\n",
      "Hi  heejin  How are you today?\n"
     ]
    }
   ],
   "source": [
    "print(\"Enter your name:\")\n",
    "somebody = input()\n",
    "print(\"Hi \" , somebody , \" How are you today?\")"
   ]
  },
  {
   "cell_type": "markdown",
   "id": "46fc9e4a",
   "metadata": {},
   "source": [
    "콤마(,)를 사용할 경우 print문이 연결된다."
   ]
  },
  {
   "cell_type": "code",
   "execution_count": 6,
   "id": "6c276cfc",
   "metadata": {},
   "outputs": [
    {
     "name": "stdout",
     "output_type": "stream",
     "text": [
      "Hello World! Hello Again!\n"
     ]
    }
   ],
   "source": [
    "print(\"Hello World!\", \"Hello Again!\")"
   ]
  },
  {
   "cell_type": "markdown",
   "id": "cadb981a",
   "metadata": {},
   "source": [
    "숫자 입력 받기"
   ]
  },
  {
   "cell_type": "code",
   "execution_count": 8,
   "id": "22c746e9",
   "metadata": {},
   "outputs": [
    {
     "name": "stdout",
     "output_type": "stream",
     "text": [
      "온도를 입력하세요:36.5\n",
      "36.5\n"
     ]
    }
   ],
   "source": [
    "temperature = float(input(\"온도를 입력하세요:\"))\n",
    "print(temperature)"
   ]
  },
  {
   "cell_type": "code",
   "execution_count": 9,
   "id": "81a6eeb3",
   "metadata": {},
   "outputs": [
    {
     "name": "stdout",
     "output_type": "stream",
     "text": [
      "Hello Python\n",
      "Hello\n",
      "Python\n"
     ]
    }
   ],
   "source": [
    "a, b = input().split()\n",
    "print(a)\n",
    "print(b)"
   ]
  },
  {
   "cell_type": "code",
   "execution_count": 10,
   "id": "32e42461",
   "metadata": {},
   "outputs": [
    {
     "name": "stdout",
     "output_type": "stream",
     "text": [
      "문자열 두 개를 입력하세요: Hello Python\n",
      "Hello\n",
      "Python\n"
     ]
    }
   ],
   "source": [
    "a, b = input('문자열 두 개를 입력하세요: ').split()\n",
    "print(a)\n",
    "print(b)"
   ]
  },
  {
   "cell_type": "code",
   "execution_count": 12,
   "id": "0d92c501",
   "metadata": {},
   "outputs": [
    {
     "name": "stdout",
     "output_type": "stream",
     "text": [
      "Hello,Python\n",
      "Hello\n",
      "Python\n"
     ]
    }
   ],
   "source": [
    "a, b = input().split(\",\")\n",
    "print(a)\n",
    "print(b)"
   ]
  },
  {
   "cell_type": "code",
   "execution_count": 13,
   "id": "91844389",
   "metadata": {},
   "outputs": [
    {
     "name": "stdout",
     "output_type": "stream",
     "text": [
      "문자열 두 개를 입력하세요: Hello,Python\n",
      "Hello\n",
      "Python\n"
     ]
    }
   ],
   "source": [
    "a, b = input('문자열 두 개를 입력하세요: ').split(',')\n",
    "print(a)\n",
    "print(b)"
   ]
  },
  {
   "cell_type": "markdown",
   "id": "c75c8ac4",
   "metadata": {},
   "source": [
    "입력값을 정수로 변환하기"
   ]
  },
  {
   "cell_type": "code",
   "execution_count": 14,
   "id": "c7f21155",
   "metadata": {},
   "outputs": [
    {
     "name": "stdout",
     "output_type": "stream",
     "text": [
      "숫자 두 개를 입력하세요: 10 20\n",
      "1020\n"
     ]
    }
   ],
   "source": [
    "a, b = input('숫자 두 개를 입력하세요: ').split()\n",
    "print(a + b)"
   ]
  },
  {
   "cell_type": "code",
   "execution_count": 16,
   "id": "3da35749",
   "metadata": {},
   "outputs": [
    {
     "name": "stdout",
     "output_type": "stream",
     "text": [
      "숫자 두 개를 입력하세요: 10 20\n",
      "30\n"
     ]
    }
   ],
   "source": [
    "a, b = input('숫자 두 개를 입력하세요: ').split()\n",
    "a = int(a)\n",
    "b = int(b)\n",
    "print(a + b)"
   ]
  },
  {
   "cell_type": "code",
   "execution_count": 18,
   "id": "b694d87e",
   "metadata": {},
   "outputs": [
    {
     "name": "stdout",
     "output_type": "stream",
     "text": [
      "숫자 두 개를 입력하세요: 10 20\n",
      "30\n"
     ]
    }
   ],
   "source": [
    "a, b = map(int, input(\"숫자 두 개를 입력하세요: \").split())\n",
    "#여기 들어오는 모든 애들에 대해서 Integer라는 캐스팅함수를 태우라는 것이다.\n",
    "#여기에 입력된 모든 애들을 Integer함수에 태워라 -> Mapping이라고 한다.\n",
    "print(a + b)"
   ]
  },
  {
   "cell_type": "markdown",
   "id": "5fb13bfc",
   "metadata": {},
   "source": [
    "출력"
   ]
  },
  {
   "cell_type": "markdown",
   "id": "a5d61034",
   "metadata": {},
   "source": [
    "sep로 값 사이에 문자 넣기"
   ]
  },
  {
   "cell_type": "code",
   "execution_count": 19,
   "id": "8d46ae90",
   "metadata": {},
   "outputs": [
    {
     "name": "stdout",
     "output_type": "stream",
     "text": [
      "1 2 3\n"
     ]
    }
   ],
   "source": [
    "print(1, 2, 3)"
   ]
  },
  {
   "cell_type": "code",
   "execution_count": 20,
   "id": "078a67cb",
   "metadata": {},
   "outputs": [
    {
     "name": "stdout",
     "output_type": "stream",
     "text": [
      "Hello Python\n"
     ]
    }
   ],
   "source": [
    "print(\"Hello\", \"Python\")"
   ]
  },
  {
   "cell_type": "code",
   "execution_count": 21,
   "id": "d2997de9",
   "metadata": {},
   "outputs": [
    {
     "name": "stdout",
     "output_type": "stream",
     "text": [
      "1, 2, 3\n"
     ]
    }
   ],
   "source": [
    "print(1, 2, 3, sep=', ')"
   ]
  },
  {
   "cell_type": "code",
   "execution_count": 22,
   "id": "04dcc71f",
   "metadata": {},
   "outputs": [
    {
     "name": "stdout",
     "output_type": "stream",
     "text": [
      "Hello Python\n"
     ]
    }
   ],
   "source": [
    "print(\"Hello\", \"Python\", sep=\" \")"
   ]
  },
  {
   "cell_type": "code",
   "execution_count": 23,
   "id": "733d3a6f",
   "metadata": {},
   "outputs": [
    {
     "name": "stdout",
     "output_type": "stream",
     "text": [
      "1024x768\n"
     ]
    }
   ],
   "source": [
    "print(1024, 768, sep=\"x\")"
   ]
  },
  {
   "cell_type": "code",
   "execution_count": 24,
   "id": "9bb8823b",
   "metadata": {},
   "outputs": [
    {
     "name": "stdout",
     "output_type": "stream",
     "text": [
      "1\n",
      "2\n",
      "3\n"
     ]
    }
   ],
   "source": [
    "print(1, 2, 3, sep='\\n')"
   ]
  },
  {
   "cell_type": "markdown",
   "id": "e519d017",
   "metadata": {},
   "source": [
    "end 사용하기"
   ]
  },
  {
   "cell_type": "code",
   "execution_count": 26,
   "id": "c162f0b0",
   "metadata": {},
   "outputs": [
    {
     "name": "stdout",
     "output_type": "stream",
     "text": [
      "1\n",
      "2\n",
      "3\n"
     ]
    }
   ],
   "source": [
    "print(1)\n",
    "print(2)\n",
    "print(3)"
   ]
  },
  {
   "cell_type": "code",
   "execution_count": 27,
   "id": "24474d91",
   "metadata": {},
   "outputs": [
    {
     "name": "stdout",
     "output_type": "stream",
     "text": [
      "1 2 3\n"
     ]
    }
   ],
   "source": [
    "print(1, end=' ')\n",
    "print(2, end=' ')\n",
    "print(3)"
   ]
  },
  {
   "cell_type": "code",
   "execution_count": 28,
   "id": "093f838c",
   "metadata": {},
   "outputs": [
    {
     "name": "stdout",
     "output_type": "stream",
     "text": [
      "1\t2\t3\n"
     ]
    }
   ],
   "source": [
    "print(1, end=\"\\t\")\n",
    "print(2, end=\"\\t\")\n",
    "print(3)"
   ]
  },
  {
   "cell_type": "markdown",
   "id": "af2fd086",
   "metadata": {},
   "source": [
    "print formatting"
   ]
  },
  {
   "cell_type": "code",
   "execution_count": 29,
   "id": "ccb99e8a",
   "metadata": {},
   "outputs": [
    {
     "name": "stdout",
     "output_type": "stream",
     "text": [
      "1 2 3\n",
      "a b c\n",
      "1 2 3\n",
      "a b c\n"
     ]
    }
   ],
   "source": [
    "print(1,2,3)\n",
    "# 문자열 +로 연결\n",
    "print((\"a\" + \" \" + \"b\" + \" \" + \"c\"))\n",
    "# %d는 1,2,3 십진수로 출력하라는 것\n",
    "print(\"%d %d %d\"%(1,2,3))\n",
    "# 위의 문법과 같은 문법으로, {}는 포지션을 의미.\n",
    "print(\"{} {} {}\".format(\"a\", \"b\", \"c\"))"
   ]
  },
  {
   "cell_type": "markdown",
   "id": "c732e679",
   "metadata": {},
   "source": [
    "일반적으로 %-format과 str,format()함수를 사용한다."
   ]
  },
  {
   "cell_type": "code",
   "execution_count": 30,
   "id": "7be0ea66",
   "metadata": {},
   "outputs": [
    {
     "name": "stdout",
     "output_type": "stream",
     "text": [
      "one two\n",
      "one two\n",
      "1 2\n",
      "1 2\n"
     ]
    }
   ],
   "source": [
    "print('%s %s' %('one', 'two'))\n",
    "print('{} {}'.format('one', 'two'))\n",
    "print('%d %d' %(1,2))\n",
    "print('{} {}'.format(1,2))"
   ]
  },
  {
   "cell_type": "markdown",
   "id": "e07880ee",
   "metadata": {},
   "source": [
    "\"%datatype\" % (variable)형태로 출력 양식을 표현"
   ]
  },
  {
   "cell_type": "code",
   "execution_count": 31,
   "id": "fa6ec6c8",
   "metadata": {},
   "outputs": [
    {
     "name": "stdout",
     "output_type": "stream",
     "text": [
      "I eat 3 apples.\n",
      "I eat five apples.\n",
      "I eat 3 apples. I was sick for three days\n",
      "Product: Apple, Price per unit: 5.243000.\n"
     ]
    }
   ],
   "source": [
    "print(\"I eat %d apples.\" %3)\n",
    "print(\"I eat %s apples.\" %\"five\")\n",
    "number = 3\n",
    "day = \"three\"\n",
    "print(\"I eat %d apples. I was sick for %s days\" %(number,day))\n",
    "print(\"Product: %s, Price per unit: %f.\" %(\"Apple\", 5.243))"
   ]
  },
  {
   "cell_type": "markdown",
   "id": "4e7e6515",
   "metadata": {},
   "source": [
    "str.format()"
   ]
  },
  {
   "cell_type": "code",
   "execution_count": 36,
   "id": "40d0c562",
   "metadata": {},
   "outputs": [
    {
     "name": "stdout",
     "output_type": "stream",
     "text": [
      "I'm 36 years ole.\n",
      "My name is Hong gill dong and 36 years old\n",
      "Product: Apple, Price per unit: 5.243.\n"
     ]
    }
   ],
   "source": [
    "age=36\n",
    "name='Hong gill dong'\n",
    "print(\"I'm {0} years ole.\".format(age))\n",
    "print(\"My name is {0} and {1} years old\".format(name, age))\n",
    "print(\"Product: {0}, Price per unit: {1:.3f}.\".format(\"Apple\", 5.243))\n",
    "#{1:.3f}에서 .3f는 소수점 이하는 3자리까지만 표시하라는 뜻이다."
   ]
  },
  {
   "cell_type": "code",
   "execution_count": 37,
   "id": "585bd655",
   "metadata": {},
   "outputs": [
    {
     "name": "stdout",
     "output_type": "stream",
     "text": [
      "Art:   453, Price per unit:    59.06\n"
     ]
    }
   ],
   "source": [
    "print(\"Art: {0:5d}, Price per unit: {1:8.2f}\".format(453, 59.058))\n",
    "#5d는 다섯자리로 출력하라는 것이고 8도 8자리로 표시하라는 것이다.\n",
    "#자리 확보한 후 오른쪽 정렬이 된 것이다."
   ]
  },
  {
   "cell_type": "markdown",
   "id": "e2dd5c75",
   "metadata": {},
   "source": [
    "padding"
   ]
  },
  {
   "cell_type": "code",
   "execution_count": 39,
   "id": "0175ddfb",
   "metadata": {},
   "outputs": [
    {
     "name": "stdout",
     "output_type": "stream",
     "text": [
      "Product: Apple, Price per unit: 5.24300.\n",
      "Product: Apple, Price per unit: 5.24300.\n",
      "Product:      Apple, Price per unit:      5.243.\n",
      "Product:      Apple, Price per unit:      5.243.\n"
     ]
    }
   ],
   "source": [
    "print(\"Product: %5s, Price per unit: %.5f.\" %(\"Apple\", 5.243))\n",
    "print(\"Product: {0:5s}, Price per unit: {1:.5f}.\".format(\"Apple\", 5.243))\n",
    "print(\"Product: %10s, Price per unit: %10.3f.\" %(\"Apple\", 5.243))\n",
    "print(\"Product: {0:>10s}, Price per unit: {1:10.3f}.\".format(\"Apple\", 5.243))\n",
    "#>10s는 오른쪽 정렬이라는 뜻."
   ]
  },
  {
   "cell_type": "markdown",
   "id": "d752c239",
   "metadata": {},
   "source": [
    "naming"
   ]
  },
  {
   "cell_type": "code",
   "execution_count": 42,
   "id": "6835f352",
   "metadata": {},
   "outputs": [
    {
     "name": "stdout",
     "output_type": "stream",
     "text": [
      "Product:      Apple, Price per unit:    5.24300.\n",
      "Product:      Apple, Price per unit:    5.24300.\n"
     ]
    }
   ],
   "source": [
    "print(\"Product: %(name)10s, Price per unit: %(price)10.5f.\" %{\"name\":\"Apple\", \"price\":5.243})\n",
    "print(\"Product: {name:>10s}, Price per unit: {price:10.5f}.\".format(name=\"Apple\", price=5.243))"
   ]
  },
  {
   "cell_type": "code",
   "execution_count": null,
   "id": "f39ab832",
   "metadata": {},
   "outputs": [],
   "source": []
  }
 ],
 "metadata": {
  "kernelspec": {
   "display_name": "Python 3 (ipykernel)",
   "language": "python",
   "name": "python3"
  },
  "language_info": {
   "codemirror_mode": {
    "name": "ipython",
    "version": 3
   },
   "file_extension": ".py",
   "mimetype": "text/x-python",
   "name": "python",
   "nbconvert_exporter": "python",
   "pygments_lexer": "ipython3",
   "version": "3.9.13"
  }
 },
 "nbformat": 4,
 "nbformat_minor": 5
}
