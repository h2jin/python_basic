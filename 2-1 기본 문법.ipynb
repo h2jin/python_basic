{
 "cells": [
  {
   "cell_type": "markdown",
   "id": "3d56c051",
   "metadata": {},
   "source": [
    "세미콜론\n",
    "\n",
    "파이썬은 ;(세미콜론)을 붙이지 않아도 된다."
   ]
  },
  {
   "cell_type": "code",
   "execution_count": 14,
   "id": "6daa369a",
   "metadata": {},
   "outputs": [
    {
     "name": "stdout",
     "output_type": "stream",
     "text": [
      "Hello, Python!\n"
     ]
    }
   ],
   "source": [
    "print('Hello, Python!')"
   ]
  },
  {
   "cell_type": "markdown",
   "id": "adb657ba",
   "metadata": {},
   "source": [
    "파이썬은 ;(세미콜론)을 붙여도 상관 없다."
   ]
  },
  {
   "cell_type": "code",
   "execution_count": 15,
   "id": "a01de1e5",
   "metadata": {},
   "outputs": [
    {
     "name": "stdout",
     "output_type": "stream",
     "text": [
      "Hello, Python!\n"
     ]
    }
   ],
   "source": [
    "print('Hello, Python!');"
   ]
  },
  {
   "cell_type": "markdown",
   "id": "8a56e4ab",
   "metadata": {},
   "source": [
    "한 줄에 여러 문장을 사용할 때 에러가 발생한다."
   ]
  },
  {
   "cell_type": "code",
   "execution_count": 16,
   "id": "ab1edb91",
   "metadata": {},
   "outputs": [
    {
     "ename": "SyntaxError",
     "evalue": "invalid syntax (3742529317.py, line 1)",
     "output_type": "error",
     "traceback": [
      "\u001b[1;36m  File \u001b[1;32m\"C:\\Users\\82102\\AppData\\Local\\Temp\\ipykernel_3372\\3742529317.py\"\u001b[1;36m, line \u001b[1;32m1\u001b[0m\n\u001b[1;33m    print('Hello, Python!') print('Hello, Python!')\u001b[0m\n\u001b[1;37m                            ^\u001b[0m\n\u001b[1;31mSyntaxError\u001b[0m\u001b[1;31m:\u001b[0m invalid syntax\n"
     ]
    }
   ],
   "source": [
    "print('Hello, Python!') print('Hello, Python!')"
   ]
  },
  {
   "cell_type": "markdown",
   "id": "edbc23a4",
   "metadata": {},
   "source": [
    "한 줄에 여러 문장을 사용할 때 세미콜론으로 구분해 줘야 한다."
   ]
  },
  {
   "cell_type": "code",
   "execution_count": 25,
   "id": "aff2bd99",
   "metadata": {},
   "outputs": [
    {
     "name": "stdout",
     "output_type": "stream",
     "text": [
      "Hello, Python\n",
      "Hello, Python!\n"
     ]
    }
   ],
   "source": [
    "print('Hello, Python'); print('Hello, Python!')"
   ]
  },
  {
   "cell_type": "markdown",
   "id": "fe0b6bd4",
   "metadata": {},
   "source": [
    "주석"
   ]
  },
  {
   "cell_type": "markdown",
   "id": "2ca83e74",
   "metadata": {},
   "source": [
    "파이썬은 #으로 주석 처리한다."
   ]
  },
  {
   "cell_type": "code",
   "execution_count": null,
   "id": "1d0bbfa2",
   "metadata": {},
   "outputs": [],
   "source": [
    "# Hello, Python! 출력\n",
    "print('Hello, Python!')"
   ]
  },
  {
   "cell_type": "markdown",
   "id": "81303caa",
   "metadata": {},
   "source": [
    " 코드 맨 앞에 #을 사용하면 해당 코드는 주석처리 된다."
   ]
  },
  {
   "cell_type": "code",
   "execution_count": null,
   "id": "2ff6a2d6",
   "metadata": {},
   "outputs": [],
   "source": [
    "#print('Hello, Python!')"
   ]
  },
  {
   "cell_type": "markdown",
   "id": "7b68cc07",
   "metadata": {},
   "source": [
    "코드 뒤에 #으로 주석을 작성할 수도 있다."
   ]
  },
  {
   "cell_type": "code",
   "execution_count": null,
   "id": "41120714",
   "metadata": {},
   "outputs": [],
   "source": [
    "a = 1 + 2 # 더하기 연산"
   ]
  },
  {
   "cell_type": "markdown",
   "id": "0e735a58",
   "metadata": {},
   "source": [
    "주피터 노트북에서는 ctrl +/를 이용해 여러줄 주석을 처리할 수 있다."
   ]
  },
  {
   "cell_type": "code",
   "execution_count": 17,
   "id": "8381a57d",
   "metadata": {},
   "outputs": [],
   "source": [
    "# print('Hello, Python!');\n",
    "# print('12345678')"
   ]
  },
  {
   "cell_type": "markdown",
   "id": "92fb27cd",
   "metadata": {},
   "source": [
    "파이썬은 들여쓰기 자체가 문법이다."
   ]
  },
  {
   "cell_type": "code",
   "execution_count": 26,
   "id": "6aca0602",
   "metadata": {},
   "outputs": [
    {
     "name": "stdout",
     "output_type": "stream",
     "text": [
      "a는 10입니다.\n"
     ]
    }
   ],
   "source": [
    "a = 10\n",
    "if (a== 10) :\n",
    "    print(\"a는 10입니다.\");"
   ]
  }
 ],
 "metadata": {
  "kernelspec": {
   "display_name": "Python 3 (ipykernel)",
   "language": "python",
   "name": "python3"
  },
  "language_info": {
   "codemirror_mode": {
    "name": "ipython",
    "version": 3
   },
   "file_extension": ".py",
   "mimetype": "text/x-python",
   "name": "python",
   "nbconvert_exporter": "python",
   "pygments_lexer": "ipython3",
   "version": "3.9.13"
  }
 },
 "nbformat": 4,
 "nbformat_minor": 5
}
