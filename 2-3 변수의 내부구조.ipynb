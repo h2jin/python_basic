{
 "cells": [
  {
   "cell_type": "markdown",
   "id": "381dda34",
   "metadata": {},
   "source": [
    "변수에 대한 고찰"
   ]
  },
  {
   "cell_type": "markdown",
   "id": "64fa5035",
   "metadata": {},
   "source": [
    "파이썬의 모든 것은 객체이다."
   ]
  },
  {
   "cell_type": "code",
   "execution_count": 1,
   "id": "0b245c03",
   "metadata": {},
   "outputs": [
    {
     "name": "stdout",
     "output_type": "stream",
     "text": [
      "<class 'int'>\n"
     ]
    }
   ],
   "source": [
    "x = 10\n",
    "print(type(x))"
   ]
  },
  {
   "cell_type": "code",
   "execution_count": 2,
   "id": "0f1e5260",
   "metadata": {},
   "outputs": [
    {
     "name": "stdout",
     "output_type": "stream",
     "text": [
      "0x224a0496a50\n"
     ]
    }
   ],
   "source": [
    "print(hex(id(x)))"
   ]
  },
  {
   "cell_type": "code",
   "execution_count": 3,
   "id": "27e57c61",
   "metadata": {},
   "outputs": [
    {
     "name": "stdout",
     "output_type": "stream",
     "text": [
      "0x224a0496a50\n",
      "0x224a0496a50\n"
     ]
    }
   ],
   "source": [
    "y = x\n",
    "print(hex(id(x)))\n",
    "print(hex(id(y)))"
   ]
  },
  {
   "cell_type": "code",
   "execution_count": 4,
   "id": "d1feb2fd",
   "metadata": {},
   "outputs": [
    {
     "name": "stdout",
     "output_type": "stream",
     "text": [
      "0x224a0496a30\n"
     ]
    }
   ],
   "source": [
    "x = x-1\n",
    "print(hex(id(x)))"
   ]
  },
  {
   "cell_type": "code",
   "execution_count": 5,
   "id": "a80f5a5b",
   "metadata": {},
   "outputs": [
    {
     "name": "stdout",
     "output_type": "stream",
     "text": [
      "0x224a0496a50\n",
      "0x224a0496a50\n"
     ]
    }
   ],
   "source": [
    "z = 10\n",
    "print(hex(id(y)))\n",
    "print(hex(id(z)))"
   ]
  },
  {
   "cell_type": "code",
   "execution_count": 6,
   "id": "d2b61eb5",
   "metadata": {},
   "outputs": [
    {
     "name": "stdout",
     "output_type": "stream",
     "text": [
      "0x224a4fae030\n",
      "<class 'str'>\n"
     ]
    }
   ],
   "source": [
    "z = 'hello'\n",
    "print(hex(id(z)))\n",
    "print(type(z))"
   ]
  },
  {
   "cell_type": "markdown",
   "id": "923d10e4",
   "metadata": {},
   "source": [
    "참조 계수의 동작"
   ]
  },
  {
   "cell_type": "code",
   "execution_count": 7,
   "id": "39db1d40",
   "metadata": {},
   "outputs": [
    {
     "name": "stdout",
     "output_type": "stream",
     "text": [
      "0x224a3205730\n",
      "56\n"
     ]
    }
   ],
   "source": [
    "import sys # system 파일들이 임포트 됨.\n",
    "x = 'python'\n",
    "print(hex(id(x)))\n",
    "print(sys.getrefcount(x))"
   ]
  },
  {
   "cell_type": "code",
   "execution_count": 8,
   "id": "4f158e4b",
   "metadata": {},
   "outputs": [
    {
     "name": "stdout",
     "output_type": "stream",
     "text": [
      "0x224a3205730\n",
      "0x224a3205730\n",
      "57\n"
     ]
    }
   ],
   "source": [
    "y = x\n",
    "print(hex(id(x)))\n",
    "print(hex(id(y)))\n",
    "print(sys.getrefcount(y))"
   ]
  },
  {
   "cell_type": "code",
   "execution_count": 9,
   "id": "4fb38af3",
   "metadata": {},
   "outputs": [
    {
     "name": "stdout",
     "output_type": "stream",
     "text": [
      "0x7ffc7deebcd8\n",
      "0x224a3205730\n",
      "56\n"
     ]
    }
   ],
   "source": [
    "x = None\n",
    "print(hex(id(x)))\n",
    "print(hex(id(y)))\n",
    "print(sys.getrefcount(y))"
   ]
  },
  {
   "cell_type": "code",
   "execution_count": null,
   "id": "a1badcfd",
   "metadata": {},
   "outputs": [],
   "source": []
  }
 ],
 "metadata": {
  "kernelspec": {
   "display_name": "Python 3 (ipykernel)",
   "language": "python",
   "name": "python3"
  },
  "language_info": {
   "codemirror_mode": {
    "name": "ipython",
    "version": 3
   },
   "file_extension": ".py",
   "mimetype": "text/x-python",
   "name": "python",
   "nbconvert_exporter": "python",
   "pygments_lexer": "ipython3",
   "version": "3.9.13"
  }
 },
 "nbformat": 4,
 "nbformat_minor": 5
}
