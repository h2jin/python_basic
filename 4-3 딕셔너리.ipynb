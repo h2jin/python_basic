{
 "cells": [
  {
   "cell_type": "markdown",
   "id": "154432bc",
   "metadata": {},
   "source": [
    "딕셔너리 형태\n",
    "\n",
    "{Key1:Value1, Key2:Value2, Key3:Value3, ...}\n",
    "\n",
    "\n",
    "딕셔너리 예"
   ]
  },
  {
   "cell_type": "code",
   "execution_count": 1,
   "id": "21b2cadd",
   "metadata": {},
   "outputs": [
    {
     "name": "stdout",
     "output_type": "stream",
     "text": [
      "{'name': 'pey', 'phone': '01012345678', 'birth': '1118'}\n"
     ]
    }
   ],
   "source": [
    "dic = {'name':'pey', 'phone':'01012345678', 'birth':'1118'}\n",
    "print(dic)"
   ]
  },
  {
   "cell_type": "markdown",
   "id": "54d76a0d",
   "metadata": {},
   "source": [
    "딕셔너리 쌍 추가, 삭제하기"
   ]
  },
  {
   "cell_type": "code",
   "execution_count": 2,
   "id": "4b7103c8",
   "metadata": {},
   "outputs": [
    {
     "name": "stdout",
     "output_type": "stream",
     "text": [
      "{1: 'a', 2: 'b'}\n"
     ]
    }
   ],
   "source": [
    "a = {1: 'a'}\n",
    "a[2] = 'b'\n",
    "print(a)"
   ]
  },
  {
   "cell_type": "code",
   "execution_count": 3,
   "id": "9007cb2b",
   "metadata": {},
   "outputs": [
    {
     "name": "stdout",
     "output_type": "stream",
     "text": [
      "{1: 'a', 2: 'b', 'name': 'pey', 3: [1, 2, 3]}\n"
     ]
    }
   ],
   "source": [
    "a['name'] = 'pey'\n",
    "a[3] = [1, 2, 3]\n",
    "print(a)"
   ]
  },
  {
   "cell_type": "code",
   "execution_count": 4,
   "id": "4175b989",
   "metadata": {},
   "outputs": [
    {
     "name": "stdout",
     "output_type": "stream",
     "text": [
      "{2: 'b', 'name': 'pey', 3: [1, 2, 3]}\n"
     ]
    }
   ],
   "source": [
    "del a[1]\n",
    "print(a)"
   ]
  },
  {
   "cell_type": "markdown",
   "id": "3fba54c7",
   "metadata": {},
   "source": [
    "딕셔너리에서 Key 사용하여 value 열기"
   ]
  },
  {
   "cell_type": "code",
   "execution_count": 5,
   "id": "d6407f3a",
   "metadata": {},
   "outputs": [
    {
     "name": "stdout",
     "output_type": "stream",
     "text": [
      "10\n",
      "99\n"
     ]
    }
   ],
   "source": [
    "grade = {'pey': 10, 'juliet' : 99}\n",
    "print(grade['pey'])\n",
    "print(grade['juliet'])"
   ]
  },
  {
   "cell_type": "markdown",
   "id": "007be236",
   "metadata": {},
   "source": [
    "﻿\n",
    "딕셔너리 만들 때 주의할 사항\n",
    "\n",
    "\n",
    "- 같은 key 값을 추가할 때\n",
    "\n",
    "﻿"
   ]
  },
  {
   "cell_type": "code",
   "execution_count": 6,
   "id": "48641f7d",
   "metadata": {},
   "outputs": [
    {
     "name": "stdout",
     "output_type": "stream",
     "text": [
      "{1: 'b'}\n"
     ]
    }
   ],
   "source": [
    "a = {1: 'a'}\n",
    "a[1] = 'b'\n",
    "print(a)"
   ]
  },
  {
   "cell_type": "markdown",
   "id": "2e5129b9",
   "metadata": {},
   "source": [
    "- ﻿리스트는 key값이 될 수 없다"
   ]
  },
  {
   "cell_type": "code",
   "execution_count": 8,
   "id": "5db06e69",
   "metadata": {},
   "outputs": [
    {
     "ename": "TypeError",
     "evalue": "unhashable type: 'list'",
     "output_type": "error",
     "traceback": [
      "\u001b[1;31m---------------------------------------------------------------------------\u001b[0m",
      "\u001b[1;31mTypeError\u001b[0m                                 Traceback (most recent call last)",
      "\u001b[1;32m~\\AppData\\Local\\Temp\\ipykernel_8300\\2179874195.py\u001b[0m in \u001b[0;36m<module>\u001b[1;34m\u001b[0m\n\u001b[1;32m----> 1\u001b[1;33m \u001b[0ma\u001b[0m \u001b[1;33m=\u001b[0m \u001b[1;33m{\u001b[0m\u001b[1;33m[\u001b[0m\u001b[1;36m1\u001b[0m\u001b[1;33m,\u001b[0m \u001b[1;36m2\u001b[0m\u001b[1;33m]\u001b[0m \u001b[1;33m:\u001b[0m \u001b[1;34m'hi'\u001b[0m\u001b[1;33m}\u001b[0m\u001b[1;33m\u001b[0m\u001b[1;33m\u001b[0m\u001b[0m\n\u001b[0m",
      "\u001b[1;31mTypeError\u001b[0m: unhashable type: 'list'"
     ]
    }
   ],
   "source": [
    "a = {[1, 2] : 'hi'}"
   ]
  },
  {
   "cell_type": "markdown",
   "id": "c1c311ea",
   "metadata": {},
   "source": [
    "﻿ 튜플은 key값이 될 수 있다."
   ]
  },
  {
   "cell_type": "code",
   "execution_count": 9,
   "id": "050d2eb5",
   "metadata": {},
   "outputs": [
    {
     "name": "stdout",
     "output_type": "stream",
     "text": [
      "{(1, 2): 'hi'}\n"
     ]
    }
   ],
   "source": [
    "a = {(1, 2) : 'hi'}\n",
    "print(a)"
   ]
  },
  {
   "cell_type": "markdown",
   "id": "33760783",
   "metadata": {},
   "source": [
    "딕셔너리 관련 함수들\n",
    "\n",
    "- key 리스트 만들기(keys)"
   ]
  },
  {
   "cell_type": "code",
   "execution_count": 10,
   "id": "75b488b5",
   "metadata": {},
   "outputs": [
    {
     "name": "stdout",
     "output_type": "stream",
     "text": [
      "dict_keys(['name', 'phone', 'birth'])\n"
     ]
    }
   ],
   "source": [
    "a = {'name':'pey', 'phone':'01012345678', 'birth':'1118'}\n",
    "print(a.keys())"
   ]
  },
  {
   "cell_type": "code",
   "execution_count": 11,
   "id": "ceb613ea",
   "metadata": {},
   "outputs": [
    {
     "name": "stdout",
     "output_type": "stream",
     "text": [
      "name\n",
      "phone\n",
      "birth\n"
     ]
    }
   ],
   "source": [
    "for k in a.keys():\n",
    "    print(k)"
   ]
  },
  {
   "cell_type": "markdown",
   "id": "2baf24c6",
   "metadata": {},
   "source": [
    "﻿- Value 리스트 만들기(values)"
   ]
  },
  {
   "cell_type": "code",
   "execution_count": 12,
   "id": "51919e34",
   "metadata": {},
   "outputs": [
    {
     "name": "stdout",
     "output_type": "stream",
     "text": [
      "dict_values(['pey', '01012345678', '1118'])\n"
     ]
    }
   ],
   "source": [
    "print(a.values())"
   ]
  },
  {
   "cell_type": "markdown",
   "id": "3694867e",
   "metadata": {},
   "source": [
    "﻿- Key, Value 쌍 얻기(items)"
   ]
  },
  {
   "cell_type": "code",
   "execution_count": 13,
   "id": "95a7b7ed",
   "metadata": {},
   "outputs": [
    {
     "name": "stdout",
     "output_type": "stream",
     "text": [
      "dict_items([('name', 'pey'), ('phone', '01012345678'), ('birth', '1118')])\n"
     ]
    }
   ],
   "source": [
    "print(a.items())"
   ]
  },
  {
   "cell_type": "code",
   "execution_count": 14,
   "id": "ce107ca8",
   "metadata": {},
   "outputs": [
    {
     "name": "stdout",
     "output_type": "stream",
     "text": [
      "name pey\n",
      "phone 01012345678\n",
      "birth 1118\n"
     ]
    }
   ],
   "source": [
    "for k, v in a.items():\n",
    "    print(k, v)"
   ]
  },
  {
   "cell_type": "markdown",
   "id": "312fe2f0",
   "metadata": {},
   "source": [
    "- Key: Value 쌍 모두 지우기"
   ]
  },
  {
   "cell_type": "code",
   "execution_count": 15,
   "id": "0f4a70a4",
   "metadata": {},
   "outputs": [
    {
     "name": "stdout",
     "output_type": "stream",
     "text": [
      "{}\n"
     ]
    }
   ],
   "source": [
    "a.clear()\n",
    "print(a)"
   ]
  },
  {
   "cell_type": "markdown",
   "id": "f7287cc3",
   "metadata": {},
   "source": [
    "- Key로 Value 얻기(get)"
   ]
  },
  {
   "cell_type": "code",
   "execution_count": 20,
   "id": "cce756d1",
   "metadata": {},
   "outputs": [
    {
     "name": "stdout",
     "output_type": "stream",
     "text": [
      "pey\n",
      "01012345678\n",
      "pey\n",
      "01012345678\n"
     ]
    }
   ],
   "source": [
    "a = {'name':'pey', 'phone':'01012345678', 'birth':'1118'}\n",
    "print(a.get('name'))\n",
    "print(a.get('phone'))\n",
    "\n",
    "print(a['name'])\n",
    "print(a['phone'])"
   ]
  },
  {
   "cell_type": "code",
   "execution_count": null,
   "id": "0bfce710",
   "metadata": {},
   "outputs": [],
   "source": []
  },
  {
   "cell_type": "code",
   "execution_count": 17,
   "id": "bf707885",
   "metadata": {},
   "outputs": [
    {
     "name": "stdout",
     "output_type": "stream",
     "text": [
      "None\n"
     ]
    },
    {
     "ename": "KeyError",
     "evalue": "'nokey'",
     "output_type": "error",
     "traceback": [
      "\u001b[1;31m---------------------------------------------------------------------------\u001b[0m",
      "\u001b[1;31mKeyError\u001b[0m                                  Traceback (most recent call last)",
      "\u001b[1;32m~\\AppData\\Local\\Temp\\ipykernel_8300\\3958932203.py\u001b[0m in \u001b[0;36m<module>\u001b[1;34m\u001b[0m\n\u001b[0;32m      1\u001b[0m \u001b[0mprint\u001b[0m\u001b[1;33m(\u001b[0m\u001b[0ma\u001b[0m\u001b[1;33m.\u001b[0m\u001b[0mget\u001b[0m\u001b[1;33m(\u001b[0m\u001b[1;34m'nokey'\u001b[0m\u001b[1;33m)\u001b[0m\u001b[1;33m)\u001b[0m\u001b[1;33m\u001b[0m\u001b[1;33m\u001b[0m\u001b[0m\n\u001b[1;32m----> 2\u001b[1;33m \u001b[0mprint\u001b[0m\u001b[1;33m(\u001b[0m\u001b[0ma\u001b[0m\u001b[1;33m[\u001b[0m\u001b[1;34m'nokey'\u001b[0m\u001b[1;33m]\u001b[0m\u001b[1;33m)\u001b[0m\u001b[1;33m\u001b[0m\u001b[1;33m\u001b[0m\u001b[0m\n\u001b[0m",
      "\u001b[1;31mKeyError\u001b[0m: 'nokey'"
     ]
    }
   ],
   "source": [
    "print(a.get('nokey'))\n",
    "print(a['nokey'])"
   ]
  },
  {
   "cell_type": "code",
   "execution_count": 18,
   "id": "9d63bec6",
   "metadata": {},
   "outputs": [
    {
     "name": "stdout",
     "output_type": "stream",
     "text": [
      "bar\n"
     ]
    }
   ],
   "source": [
    "print(a.get('foo', 'bar'))"
   ]
  },
  {
   "cell_type": "markdown",
   "id": "546c456c",
   "metadata": {},
   "source": [
    "해당 Key가 딕셔너리 안에 있는지 조사하기(in)"
   ]
  },
  {
   "cell_type": "code",
   "execution_count": 21,
   "id": "e3583ab6",
   "metadata": {},
   "outputs": [
    {
     "name": "stdout",
     "output_type": "stream",
     "text": [
      "True\n",
      "False\n"
     ]
    }
   ],
   "source": [
    "a = {'name':'pey', 'phone':'01012345678', 'birth':'1118'}\n",
    "print('name' in a)\n",
    "print('email' in a)"
   ]
  },
  {
   "cell_type": "code",
   "execution_count": null,
   "id": "6e855cca",
   "metadata": {},
   "outputs": [],
   "source": []
  }
 ],
 "metadata": {
  "kernelspec": {
   "display_name": "Python 3 (ipykernel)",
   "language": "python",
   "name": "python3"
  },
  "language_info": {
   "codemirror_mode": {
    "name": "ipython",
    "version": 3
   },
   "file_extension": ".py",
   "mimetype": "text/x-python",
   "name": "python",
   "nbconvert_exporter": "python",
   "pygments_lexer": "ipython3",
   "version": "3.9.13"
  }
 },
 "nbformat": 4,
 "nbformat_minor": 5
}
