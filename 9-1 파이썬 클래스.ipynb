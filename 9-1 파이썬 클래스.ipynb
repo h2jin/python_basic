{
 "cells": [
  {
   "cell_type": "markdown",
   "id": "ab19b04f",
   "metadata": {},
   "source": [
    "#### 객체 지향 \n",
    "##### 클래스 도입 배경"
   ]
  },
  {
   "cell_type": "markdown",
   "id": "2a12143c",
   "metadata": {},
   "source": [
    "성적 계산 프로그램"
   ]
  },
  {
   "cell_type": "code",
   "execution_count": 3,
   "id": "8af12d2f",
   "metadata": {},
   "outputs": [
    {
     "name": "stdout",
     "output_type": "stream",
     "text": [
      "국어 점수 입력: 89\n",
      "영어 점수 입력: 99\n",
      "국어 영어 총점 평균\n",
      "--------------------\n",
      "  89   99  188 94.00\n"
     ]
    }
   ],
   "source": [
    "kor=0\n",
    "eng=0\n",
    "total=0\n",
    "aver=0.0\n",
    "\n",
    "kor = int(input(\"국어 점수 입력: \"))\n",
    "eng = int(input(\"영어 점수 입력: \"))\n",
    "\n",
    "total = kor + eng\n",
    "aver = total / 2\n",
    "\n",
    "print(\"국어 영어 총점 평균\")\n",
    "print('-'*20)\n",
    "print(\"%4d %4d %4d %5.2f\" %(kor, eng, total, aver))"
   ]
  },
  {
   "cell_type": "markdown",
   "id": "41a1228f",
   "metadata": {},
   "source": [
    "함수를 이용한 모듈화"
   ]
  },
  {
   "cell_type": "code",
   "execution_count": 5,
   "id": "4ae6e5e5",
   "metadata": {},
   "outputs": [
    {
     "name": "stdout",
     "output_type": "stream",
     "text": [
      "국어 점수 입력: 89\n",
      "영어 점수 입력: 99\n",
      "국어 영어 총점 평균\n",
      "--------------------\n",
      "  89   99  188 94.00\n"
     ]
    }
   ],
   "source": [
    "def score_input():\n",
    "    kor = int(input(\"국어 점수 입력: \"))\n",
    "    eng = int(input(\"영어 점수 입력: \"))\n",
    "    return kor, eng\n",
    "\n",
    "def score_calc(kor, eng):\n",
    "    total = kor + eng\n",
    "    ever = total / 2\n",
    "    return total, aver\n",
    "\n",
    "def score_output(kor, eng, total, aver):\n",
    "    print(\"국어 영어 총점 평균\")\n",
    "    print('-'*20)\n",
    "    print(\"%4d %4d %4d %5.2f\" %(kor, eng, total, aver))\n",
    "    \n",
    "kor, eng = score_input()\n",
    "total, aver = score_calc(kor, eng)\n",
    "score_output = score_output(kor, eng, total, aver)"
   ]
  },
  {
   "cell_type": "markdown",
   "id": "d5ca019e",
   "metadata": {},
   "source": [
    "﻿딕셔너리를 이용한 데이터 캡슐화"
   ]
  },
  {
   "cell_type": "code",
   "execution_count": 6,
   "id": "92fa40e5",
   "metadata": {},
   "outputs": [
    {
     "name": "stdout",
     "output_type": "stream",
     "text": [
      "국어 점수 입력: 89\n",
      "영어 점수 입력: 99\n",
      "국어 영어 총점 평균\n",
      "--------------------\n",
      "  89   99  188 94.00\n"
     ]
    }
   ],
   "source": [
    "def score_input(my_score):\n",
    "    my_score[kor] = int(input(\"국어 점수 입력: \"))\n",
    "    my_score[eng] = int(input(\"영어 점수 입력: \"))\n",
    "    \n",
    "def score_calc(my_score):\n",
    "    my_score[total] = my_score[kor] + my_score[eng]\n",
    "    my_score[aver] = my_score[total] / 2\n",
    "    \n",
    "def score_output(my_score):\n",
    "    print(\"국어 영어 총점 평균\")\n",
    "    print('-'*20)\n",
    "    print(\"%4d %4d %4d %5.2f\" %(my_score[kor],my_score[eng],\n",
    "                                my_score[total],my_score[aver]))\n",
    "\n",
    "my_score = {kor:0, eng:0, total:0, aver:0.0}\n",
    "score_input(my_score)\n",
    "score_calc(my_score)\n",
    "score_output(my_score)"
   ]
  },
  {
   "cell_type": "markdown",
   "id": "a6cd4605",
   "metadata": {},
   "source": [
    "클래스를 이용한 데이터 캡슐화"
   ]
  },
  {
   "cell_type": "code",
   "execution_count": 9,
   "id": "c3a0ad0e",
   "metadata": {},
   "outputs": [
    {
     "name": "stdout",
     "output_type": "stream",
     "text": [
      "국어 점수 입력: 89\n",
      "영어 점수 입력: 99\n",
      "국어 영어 총점 평균\n",
      "--------------------\n",
      "  89   99  188 94.00\n"
     ]
    }
   ],
   "source": [
    "class Student:\n",
    "    def __init__(self): #생성자\n",
    "        self.kor=0\n",
    "        self.eng=0\n",
    "        self.total=0\n",
    "        self.aver=0.0\n",
    "        \n",
    "def score_input(my_score):\n",
    "    my_score.kor = int(input(\"국어 점수 입력: \"))\n",
    "    my_score.eng = int(input(\"영어 점수 입력: \"))\n",
    "    \n",
    "def score_calc(my_score):\n",
    "    my_score.total = my_score.kor + my_score.eng\n",
    "    my_score.aver = my_score.total / 2\n",
    "    \n",
    "def score_output(my_score):\n",
    "    print(\"국어 영어 총점 평균\")\n",
    "    print('-'*20)\n",
    "    print(\"%4d %4d %4d %5.2f\" %(my_score.kor,my_score.eng,\n",
    "                                my_score.total,my_score.aver))\n",
    "    \n",
    "my_score = Student()\n",
    "score_input(my_score)\n",
    "score_calc(my_score)\n",
    "score_output(my_score)"
   ]
  },
  {
   "cell_type": "markdown",
   "id": "85e60dc2",
   "metadata": {},
   "source": [
    "클래스를 이용한 함수 캡슐화"
   ]
  },
  {
   "cell_type": "code",
   "execution_count": 10,
   "id": "cb1b4810",
   "metadata": {},
   "outputs": [
    {
     "name": "stdout",
     "output_type": "stream",
     "text": [
      "국어 점수 입력: 89\n",
      "영어 점수 입력: 99\n",
      "국어 영어 총점 평균\n",
      "--------------------\n",
      "  89   99  188 94.00\n"
     ]
    }
   ],
   "source": [
    "class Student:\n",
    "    def __init__(self): #생성자\n",
    "        self.kor=0\n",
    "        self.eng=0\n",
    "        self.total=0\n",
    "        self.aver=0.0\n",
    "        \n",
    "    def score_input(self):\n",
    "        self.kor = int(input(\"국어 점수 입력: \"))\n",
    "        self.eng = int(input(\"영어 점수 입력: \"))\n",
    "\n",
    "    def score_calc(self):\n",
    "        self.total = self.kor + self.eng\n",
    "        self.aver = self.total / 2\n",
    "\n",
    "    def score_output(self):\n",
    "        print(\"국어 영어 총점 평균\")\n",
    "        print('-'*20)\n",
    "        print(\"%4d %4d %4d %5.2f\" %(self.kor,self.eng,\n",
    "                                    self.total,self.aver))\n",
    "    \n",
    "st = Student()\n",
    "st.score_input()\n",
    "st.score_calc()\n",
    "st.score_output()"
   ]
  },
  {
   "cell_type": "markdown",
   "id": "bdef0ef1",
   "metadata": {},
   "source": [
    "##### 리스트를 이용한 스택구현"
   ]
  },
  {
   "cell_type": "code",
   "execution_count": 12,
   "id": "9de8a4a7",
   "metadata": {},
   "outputs": [
    {
     "name": "stdout",
     "output_type": "stream",
     "text": [
      "3\n",
      "2\n",
      "1\n"
     ]
    }
   ],
   "source": [
    "def push(Stack, x):\n",
    "    Stack.append(x)\n",
    "    \n",
    "def pop(Stack):\n",
    "    temp = Stack[-1]\n",
    "    del Stack[-1]\n",
    "    return temp\n",
    "\n",
    "Stack = []\n",
    "for i in range(3):\n",
    "    push(Stack, i+1)\n",
    "    \n",
    "for i in range(3):\n",
    "    print(pop(Stack))"
   ]
  },
  {
   "cell_type": "markdown",
   "id": "c56db0f4",
   "metadata": {},
   "source": [
    "﻿class를 이용한 데이터 캡슐화"
   ]
  },
  {
   "cell_type": "code",
   "execution_count": 14,
   "id": "b882131e",
   "metadata": {},
   "outputs": [
    {
     "name": "stdout",
     "output_type": "stream",
     "text": [
      "3\n",
      "2\n",
      "1\n"
     ]
    }
   ],
   "source": [
    "class Stack:\n",
    "    def __init__(self):\n",
    "        self.data = []\n",
    "        \n",
    "def push(s, x):\n",
    "    s.data.append(x)\n",
    "    \n",
    "def pop(s):\n",
    "    temp = s.data[-1]\n",
    "    del s.data[-1]\n",
    "    return temp\n",
    "\n",
    "s = Stack()\n",
    "for i in range(3):\n",
    "    push(s, i+1)\n",
    "    \n",
    "for i in range(3):\n",
    "    print(pop(s))"
   ]
  },
  {
   "cell_type": "markdown",
   "id": "30abc299",
   "metadata": {},
   "source": [
    "﻿class를 이용한 함수 캡슐화"
   ]
  },
  {
   "cell_type": "code",
   "execution_count": 15,
   "id": "6e21286f",
   "metadata": {},
   "outputs": [
    {
     "name": "stdout",
     "output_type": "stream",
     "text": [
      "3\n",
      "2\n",
      "1\n"
     ]
    }
   ],
   "source": [
    "class Stack:\n",
    "    def __init__(self):\n",
    "        self.data = []\n",
    "        \n",
    "    def push(self, x):\n",
    "        self.data.append(x)\n",
    "\n",
    "    def pop(self):\n",
    "        temp = self.data[-1]\n",
    "        del self.data[-1]\n",
    "        return temp\n",
    "\n",
    "s = Stack()\n",
    "for i in range(3):\n",
    "    s.push(i+1)\n",
    "    \n",
    "for i in range(3):\n",
    "    print(s.pop())"
   ]
  },
  {
   "cell_type": "code",
   "execution_count": null,
   "id": "e200ec1e",
   "metadata": {},
   "outputs": [],
   "source": []
  }
 ],
 "metadata": {
  "kernelspec": {
   "display_name": "Python 3 (ipykernel)",
   "language": "python",
   "name": "python3"
  },
  "language_info": {
   "codemirror_mode": {
    "name": "ipython",
    "version": 3
   },
   "file_extension": ".py",
   "mimetype": "text/x-python",
   "name": "python",
   "nbconvert_exporter": "python",
   "pygments_lexer": "ipython3",
   "version": "3.9.13"
  }
 },
 "nbformat": 4,
 "nbformat_minor": 5
}
